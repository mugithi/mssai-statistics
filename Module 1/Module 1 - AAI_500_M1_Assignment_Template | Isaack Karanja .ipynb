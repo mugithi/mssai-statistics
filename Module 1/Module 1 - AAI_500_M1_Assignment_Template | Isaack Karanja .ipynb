{
 "cells": [
  {
   "cell_type": "markdown",
   "metadata": {},
   "source": [
    "# Assignment 1.1\n",
    "`\n",
    "Name: Isaack Karanja  \n",
    "Date: Monday, January 16, 2023`"
   ]
  },
  {
   "cell_type": "markdown",
   "metadata": {},
   "source": [
    "For this assignment, you will refer to the textbook to solve the practice exercises. **Use Python to answer any coding problems (not R, even if indicated in your textbook).** Use Jupyter Notebook, Google Colab, or a similar software program to complete your assignment. Submit the assignment as a PDF file. Always label your axes and provide titles for any graphs generated on this assignment. Round all quantitative answers to 2 decimal places."
   ]
  },
  {
   "cell_type": "markdown",
   "metadata": {},
   "source": [
    "# Import libraries"
   ]
  },
  {
   "cell_type": "code",
   "execution_count": 1,
   "metadata": {},
   "outputs": [],
   "source": [
    "# Import necessary libraries - common libraries include pandas, numpy, matplotlib, and sklearn\n",
    "import numpy as np\n",
    "import pandas as pd\n",
    "import matplotlib.pyplot as plt\n",
    "from matplotlib import gridspec\n",
    "import math\n",
    "from scipy import stats\n",
    "from sklearn.linear_model import LinearRegression"
   ]
  },
  {
   "cell_type": "markdown",
   "metadata": {
    "tags": []
   },
   "source": [
    "## **Problem # 1.1.** \n",
    "In the 2018 election for Senate in California, a CNN exit poll of 1882 voters stated that 52.5% voted for the Democratic candidate, Diane Feinstein. Of all 11.1 million voters, 54.2% voted for Feinstein.\n",
    "\n",
    "(a) What was the (i) subject, (ii) sample, (iii) population? \n"
   ]
  },
  {
   "cell_type": "markdown",
   "metadata": {},
   "source": [
    "`(a) Your answer goes here`"
   ]
  },
  {
   "cell_type": "markdown",
   "metadata": {},
   "source": [
    "`a) i) subject -> California voters  \n",
    "a) ii) sample -> 1882 Exit pol voters  \n",
    "a) iii) population -> 1.1 million voters  `"
   ]
  },
  {
   "cell_type": "markdown",
   "metadata": {
    "tags": []
   },
   "source": [
    "## **Problem # 1.2.** \n",
    "The `Students` data file at [http://stat4ds.rwth-aachen.de/data/Students.dat](http://stat4ds.rwth-aachen.de/data/Students.dat) responses of a class of 60 \n",
    "social science graduate students at the University of Florida to a questionnaire that asked about *gender* (1 = female, 0 = male), *age*, *hsgpa* = high school GPA (on a four-point scale), cogpa = college GPA, *dhome* = distance (in miles) of the campus from your home town, *dres* = distance (in miles) of the classroom from your current residence, *tv* = average number of hours per week that you watch TV, *sport* = average number of hours per week that you participate in sports or have other physical exercise, *news* = number of \n",
    "times a week you read a newspaper, *aids* = number of people you know who have died from AIDS or who \n",
    "are HIV+, *veg* = whether you are a vegetarian (1 = yes, 0 = no), *affil* = political affiliation (1 = Democrat, 2 \n",
    "= Republican, 3 = independent), *ideol* = political ideology (1 = very liberal, 2 = liberal, 3 = slightly liberal, 4 \n",
    "= moderate, 5 = slightly conservative, 6 = conservative, 7 = very conservative), *relig* = how often you \n",
    "attend religious services (0 = never, 1 = occasionally, 2 = most weeks, 3 = every week), *abor* = opinion \n",
    "about whether abortion should be legal in the first three months of pregnancy (1 = yes, 0 = no), *affirm* = \n",
    "support affirmative action (1 = yes, 0 = no), and *life* = belief in life after death (1 = yes, 2 = no, 3 = \n",
    "undecided). You will use this data file for some exercises in this book. \n"
   ]
  },
  {
   "cell_type": "markdown",
   "metadata": {},
   "source": [
    "(a) Practice accessing a data file for statistical analysis with your software by going to the book’s \n",
    "     website and copying and then displaying this data file.\n"
   ]
  },
  {
   "cell_type": "markdown",
   "metadata": {},
   "source": [
    "`(a) Your answer goes here`"
   ]
  },
  {
   "cell_type": "code",
   "execution_count": 2,
   "metadata": {},
   "outputs": [
    {
     "data": {
      "text/html": [
       "<div>\n",
       "<style scoped>\n",
       "    .dataframe tbody tr th:only-of-type {\n",
       "        vertical-align: middle;\n",
       "    }\n",
       "\n",
       "    .dataframe tbody tr th {\n",
       "        vertical-align: top;\n",
       "    }\n",
       "\n",
       "    .dataframe thead th {\n",
       "        text-align: right;\n",
       "    }\n",
       "</style>\n",
       "<table border=\"1\" class=\"dataframe\">\n",
       "  <thead>\n",
       "    <tr style=\"text-align: right;\">\n",
       "      <th></th>\n",
       "      <th>subject</th>\n",
       "      <th>gender</th>\n",
       "      <th>age</th>\n",
       "      <th>hsgpa</th>\n",
       "      <th>cogpa</th>\n",
       "      <th>dhome</th>\n",
       "      <th>dres</th>\n",
       "      <th>tv</th>\n",
       "      <th>sport</th>\n",
       "      <th>news</th>\n",
       "      <th>aids</th>\n",
       "      <th>veg</th>\n",
       "      <th>affil</th>\n",
       "      <th>ideol</th>\n",
       "      <th>relig</th>\n",
       "      <th>abor</th>\n",
       "      <th>affirm</th>\n",
       "      <th>life</th>\n",
       "    </tr>\n",
       "  </thead>\n",
       "  <tbody>\n",
       "    <tr>\n",
       "      <th>0</th>\n",
       "      <td>1</td>\n",
       "      <td>0</td>\n",
       "      <td>32</td>\n",
       "      <td>2.2</td>\n",
       "      <td>3.5</td>\n",
       "      <td>0</td>\n",
       "      <td>5.0</td>\n",
       "      <td>3.0</td>\n",
       "      <td>5</td>\n",
       "      <td>0</td>\n",
       "      <td>0</td>\n",
       "      <td>0</td>\n",
       "      <td>2</td>\n",
       "      <td>6</td>\n",
       "      <td>2</td>\n",
       "      <td>0</td>\n",
       "      <td>0</td>\n",
       "      <td>1</td>\n",
       "    </tr>\n",
       "    <tr>\n",
       "      <th>1</th>\n",
       "      <td>2</td>\n",
       "      <td>1</td>\n",
       "      <td>23</td>\n",
       "      <td>2.1</td>\n",
       "      <td>3.5</td>\n",
       "      <td>1200</td>\n",
       "      <td>0.3</td>\n",
       "      <td>15.0</td>\n",
       "      <td>7</td>\n",
       "      <td>5</td>\n",
       "      <td>6</td>\n",
       "      <td>1</td>\n",
       "      <td>1</td>\n",
       "      <td>2</td>\n",
       "      <td>1</td>\n",
       "      <td>1</td>\n",
       "      <td>1</td>\n",
       "      <td>3</td>\n",
       "    </tr>\n",
       "    <tr>\n",
       "      <th>2</th>\n",
       "      <td>3</td>\n",
       "      <td>1</td>\n",
       "      <td>27</td>\n",
       "      <td>3.3</td>\n",
       "      <td>3.0</td>\n",
       "      <td>1300</td>\n",
       "      <td>1.5</td>\n",
       "      <td>0.0</td>\n",
       "      <td>4</td>\n",
       "      <td>3</td>\n",
       "      <td>0</td>\n",
       "      <td>1</td>\n",
       "      <td>1</td>\n",
       "      <td>2</td>\n",
       "      <td>2</td>\n",
       "      <td>1</td>\n",
       "      <td>1</td>\n",
       "      <td>3</td>\n",
       "    </tr>\n",
       "    <tr>\n",
       "      <th>3</th>\n",
       "      <td>4</td>\n",
       "      <td>1</td>\n",
       "      <td>35</td>\n",
       "      <td>3.5</td>\n",
       "      <td>3.2</td>\n",
       "      <td>1500</td>\n",
       "      <td>8.0</td>\n",
       "      <td>5.0</td>\n",
       "      <td>5</td>\n",
       "      <td>6</td>\n",
       "      <td>3</td>\n",
       "      <td>0</td>\n",
       "      <td>3</td>\n",
       "      <td>4</td>\n",
       "      <td>1</td>\n",
       "      <td>1</td>\n",
       "      <td>1</td>\n",
       "      <td>2</td>\n",
       "    </tr>\n",
       "    <tr>\n",
       "      <th>4</th>\n",
       "      <td>5</td>\n",
       "      <td>0</td>\n",
       "      <td>23</td>\n",
       "      <td>3.1</td>\n",
       "      <td>3.5</td>\n",
       "      <td>1600</td>\n",
       "      <td>10.0</td>\n",
       "      <td>6.0</td>\n",
       "      <td>6</td>\n",
       "      <td>3</td>\n",
       "      <td>0</td>\n",
       "      <td>0</td>\n",
       "      <td>3</td>\n",
       "      <td>1</td>\n",
       "      <td>0</td>\n",
       "      <td>1</td>\n",
       "      <td>0</td>\n",
       "      <td>2</td>\n",
       "    </tr>\n",
       "    <tr>\n",
       "      <th>5</th>\n",
       "      <td>6</td>\n",
       "      <td>0</td>\n",
       "      <td>39</td>\n",
       "      <td>3.5</td>\n",
       "      <td>3.5</td>\n",
       "      <td>350</td>\n",
       "      <td>3.0</td>\n",
       "      <td>4.0</td>\n",
       "      <td>5</td>\n",
       "      <td>7</td>\n",
       "      <td>0</td>\n",
       "      <td>1</td>\n",
       "      <td>1</td>\n",
       "      <td>2</td>\n",
       "      <td>1</td>\n",
       "      <td>1</td>\n",
       "      <td>1</td>\n",
       "      <td>3</td>\n",
       "    </tr>\n",
       "    <tr>\n",
       "      <th>6</th>\n",
       "      <td>7</td>\n",
       "      <td>0</td>\n",
       "      <td>24</td>\n",
       "      <td>3.6</td>\n",
       "      <td>3.7</td>\n",
       "      <td>0</td>\n",
       "      <td>0.2</td>\n",
       "      <td>5.0</td>\n",
       "      <td>12</td>\n",
       "      <td>4</td>\n",
       "      <td>2</td>\n",
       "      <td>0</td>\n",
       "      <td>3</td>\n",
       "      <td>2</td>\n",
       "      <td>1</td>\n",
       "      <td>1</td>\n",
       "      <td>1</td>\n",
       "      <td>1</td>\n",
       "    </tr>\n",
       "    <tr>\n",
       "      <th>7</th>\n",
       "      <td>8</td>\n",
       "      <td>1</td>\n",
       "      <td>31</td>\n",
       "      <td>3.0</td>\n",
       "      <td>3.0</td>\n",
       "      <td>5000</td>\n",
       "      <td>1.5</td>\n",
       "      <td>5.0</td>\n",
       "      <td>3</td>\n",
       "      <td>3</td>\n",
       "      <td>1</td>\n",
       "      <td>0</td>\n",
       "      <td>3</td>\n",
       "      <td>2</td>\n",
       "      <td>1</td>\n",
       "      <td>1</td>\n",
       "      <td>1</td>\n",
       "      <td>1</td>\n",
       "    </tr>\n",
       "    <tr>\n",
       "      <th>8</th>\n",
       "      <td>9</td>\n",
       "      <td>0</td>\n",
       "      <td>34</td>\n",
       "      <td>3.0</td>\n",
       "      <td>3.0</td>\n",
       "      <td>5000</td>\n",
       "      <td>2.0</td>\n",
       "      <td>7.0</td>\n",
       "      <td>5</td>\n",
       "      <td>3</td>\n",
       "      <td>0</td>\n",
       "      <td>0</td>\n",
       "      <td>3</td>\n",
       "      <td>1</td>\n",
       "      <td>1</td>\n",
       "      <td>1</td>\n",
       "      <td>1</td>\n",
       "      <td>3</td>\n",
       "    </tr>\n",
       "    <tr>\n",
       "      <th>9</th>\n",
       "      <td>10</td>\n",
       "      <td>0</td>\n",
       "      <td>28</td>\n",
       "      <td>4.0</td>\n",
       "      <td>3.1</td>\n",
       "      <td>900</td>\n",
       "      <td>2.0</td>\n",
       "      <td>1.0</td>\n",
       "      <td>1</td>\n",
       "      <td>2</td>\n",
       "      <td>1</td>\n",
       "      <td>1</td>\n",
       "      <td>3</td>\n",
       "      <td>3</td>\n",
       "      <td>0</td>\n",
       "      <td>0</td>\n",
       "      <td>1</td>\n",
       "      <td>1</td>\n",
       "    </tr>\n",
       "  </tbody>\n",
       "</table>\n",
       "</div>"
      ],
      "text/plain": [
       "   subject  gender  age  hsgpa  cogpa  dhome  dres    tv  sport  news  aids  \\\n",
       "0        1       0   32    2.2    3.5      0   5.0   3.0      5     0     0   \n",
       "1        2       1   23    2.1    3.5   1200   0.3  15.0      7     5     6   \n",
       "2        3       1   27    3.3    3.0   1300   1.5   0.0      4     3     0   \n",
       "3        4       1   35    3.5    3.2   1500   8.0   5.0      5     6     3   \n",
       "4        5       0   23    3.1    3.5   1600  10.0   6.0      6     3     0   \n",
       "5        6       0   39    3.5    3.5    350   3.0   4.0      5     7     0   \n",
       "6        7       0   24    3.6    3.7      0   0.2   5.0     12     4     2   \n",
       "7        8       1   31    3.0    3.0   5000   1.5   5.0      3     3     1   \n",
       "8        9       0   34    3.0    3.0   5000   2.0   7.0      5     3     0   \n",
       "9       10       0   28    4.0    3.1    900   2.0   1.0      1     2     1   \n",
       "\n",
       "   veg  affil  ideol  relig  abor  affirm  life  \n",
       "0    0      2      6      2     0       0     1  \n",
       "1    1      1      2      1     1       1     3  \n",
       "2    1      1      2      2     1       1     3  \n",
       "3    0      3      4      1     1       1     2  \n",
       "4    0      3      1      0     1       0     2  \n",
       "5    1      1      2      1     1       1     3  \n",
       "6    0      3      2      1     1       1     1  \n",
       "7    0      3      2      1     1       1     1  \n",
       "8    0      3      1      1     1       1     3  \n",
       "9    1      3      3      0     0       1     1  "
      ]
     },
     "execution_count": 2,
     "metadata": {},
     "output_type": "execute_result"
    }
   ],
   "source": [
    "# Read in the Students data file\n",
    "students = pd.read_csv('https://stat4ds.rwth-aachen.de/data/Students.dat', sep='\\s+')\n",
    "\n",
    "# View the first few 10 rows of the dataset\n",
    "students.head(10)"
   ]
  },
  {
   "cell_type": "code",
   "execution_count": 3,
   "metadata": {},
   "outputs": [
    {
     "data": {
      "image/png": "[encoded data removed]",
      "text/plain": [
       "<Figure size 1200x800 with 6 Axes>"
      ]
     },
     "metadata": {},
     "output_type": "display_data"
    }
   ],
   "source": [
    "# Plotting function for continuous variables\n",
    "def continuous_plots(df, columns, num_cols):\n",
    "    n_plots = len(columns)\n",
    "    n_cols = num_cols\n",
    "    n_rows = int(math.ceil(n_plots/n_cols))\n",
    "    gs = gridspec.GridSpec(n_rows, n_cols)\n",
    "    fig = plt.figure(figsize=(12,8))\n",
    "    for i in range(n_plots):\n",
    "        ax = fig.add_subplot(gs[i])\n",
    "        df[columns[i]].hist(ax=ax, grid=False)\n",
    "        ax.set_xlabel(columns[i])\n",
    "    fig.tight_layout()\n",
    "    fig.supylabel('Count')\n",
    "    plt.show()\n",
    "# Plot continuous variables\n",
    "continuous_plots(students, ['age', 'hsgpa', 'cogpa', 'dhome', 'dres', 'tv'], 3)"
   ]
  },
  {
   "cell_type": "code",
   "execution_count": 4,
   "metadata": {},
   "outputs": [
    {
     "data": {
      "image/png": "[encoded data removed]",
      "text/plain": [
       "<Figure size 1200x800 with 11 Axes>"
      ]
     },
     "metadata": {},
     "output_type": "display_data"
    }
   ],
   "source": [
    "# Plotting function for discrete variables\n",
    "def discrete_plots(df, columns, num_cols):\n",
    "    n_plots = len(columns)\n",
    "    n_cols = num_cols\n",
    "    n_rows = int(math.ceil(n_plots/n_cols))\n",
    "    gs = gridspec.GridSpec(n_rows, n_cols)\n",
    "    fig = plt.figure(figsize=(12,8))\n",
    "    for i in range(n_plots):\n",
    "        ax = fig.add_subplot(gs[i])\n",
    "        df[columns[i]].value_counts().sort_index().plot(kind='bar', ax=ax)\n",
    "        ax.set_xlabel(columns[i])\n",
    "    fig.tight_layout()\n",
    "    fig.supylabel('Count')\n",
    "    plt.show()# Plot discrete variables\n",
    "discrete_plots(students, ['gender', 'sport', 'news', 'aids', 'veg', 'affil', 'ideol', 'relig', 'abor', 'affirm', 'life'], 3)"
   ]
  },
  {
   "cell_type": "markdown",
   "metadata": {},
   "source": [
    "(b) Using responses on *abor*, state a question that could be addressed with (i) descriptive \n",
    "     statistics, (ii) inferential statistics.\n"
   ]
  },
  {
   "cell_type": "code",
   "execution_count": 5,
   "metadata": {},
   "outputs": [
    {
     "data": {
      "text/plain": [
       "count    60.000000\n",
       "mean      0.783333\n",
       "std       0.415450\n",
       "min       0.000000\n",
       "25%       1.000000\n",
       "50%       1.000000\n",
       "75%       1.000000\n",
       "max       1.000000\n",
       "Name: abor, dtype: float64"
      ]
     },
     "execution_count": 5,
     "metadata": {},
     "output_type": "execute_result"
    }
   ],
   "source": [
    "# Calculate summary statistics on abor\n",
    "students.describe()[\"abor\"]"
   ]
  },
  {
   "cell_type": "markdown",
   "metadata": {},
   "source": [
    "`Question that can be addressed using descriptive statistics: What is the percentage of people who think abortion should be legal in the first three months of pregnancy?`"
   ]
  },
  {
   "cell_type": "markdown",
   "metadata": {},
   "source": [
    "`Question that can be addressed using inference statistics: Do people who think abortion should be legal in the first three months of pregnancy differ in their opinions in affirmative action?`"
   ]
  },
  {
   "cell_type": "markdown",
   "metadata": {},
   "source": [
    "## **Problem # 1.3.** \n",
    "Identify each of the following variables as categorical or quantitative: (a) Number of smartphones that you own; (b) County of residence; (c) Choice of diet (vegetarian, nonvegetarian); (d) Distance, in kilometers, commute to work"
   ]
  },
  {
   "cell_type": "markdown",
   "metadata": {},
   "source": [
    "`Your answer goes here`"
   ]
  },
  {
   "cell_type": "markdown",
   "metadata": {},
   "source": [
    "`(a) Number of smartphones that you own; quantitative  \n",
    "(b) County of residence; categorical  \n",
    "(c) Choice of diet (vegetarian, nonvegetarian); categorical  \n",
    "(d) Distance, in kilometers, commute to work; quantitative  `"
   ]
  },
  {
   "cell_type": "markdown",
   "metadata": {},
   "source": [
    "## **Problem # 1.4.** \n",
    "Give an example of a variable that is (a) categorical; (b) quantitative; (c) discrete; (d) continuous"
   ]
  },
  {
   "cell_type": "markdown",
   "metadata": {},
   "source": [
    "`Your answer goes here`"
   ]
  },
  {
   "cell_type": "markdown",
   "metadata": {},
   "source": [
    "`(a) categorical; race  \n",
    "(b) quantitative;  age  \n",
    "(c) discrete: number of cats  \n",
    "(d) continuous: time `"
   ]
  },
  {
   "cell_type": "markdown",
   "metadata": {},
   "source": [
    "## **Problem # 1.10.** \n",
    "Analyze the `Carbon_West` ([http://stat4ds.rwth-aachen.de/data/Carbon_West.dat](http://stat4ds.rwth-aachen.de/data/Carbon_West.dat)) data file at the book’s website by **(a)** constructing a frequency distribution and  a histogram, **(b)** finding the mean, median, and standard deviation. Interpret each."
   ]
  },
  {
   "cell_type": "markdown",
   "metadata": {},
   "source": [
    "`(a)`"
   ]
  },
  {
   "cell_type": "code",
   "execution_count": 6,
   "metadata": {},
   "outputs": [
    {
     "data": {
      "text/html": [
       "<div>\n",
       "<style scoped>\n",
       "    .dataframe tbody tr th:only-of-type {\n",
       "        vertical-align: middle;\n",
       "    }\n",
       "\n",
       "    .dataframe tbody tr th {\n",
       "        vertical-align: top;\n",
       "    }\n",
       "\n",
       "    .dataframe thead th {\n",
       "        text-align: right;\n",
       "    }\n",
       "</style>\n",
       "<table border=\"1\" class=\"dataframe\">\n",
       "  <thead>\n",
       "    <tr style=\"text-align: right;\">\n",
       "      <th></th>\n",
       "      <th>Nation</th>\n",
       "      <th>CO2</th>\n",
       "    </tr>\n",
       "  </thead>\n",
       "  <tbody>\n",
       "    <tr>\n",
       "      <th>0</th>\n",
       "      <td>Albania</td>\n",
       "      <td>2.0</td>\n",
       "    </tr>\n",
       "    <tr>\n",
       "      <th>1</th>\n",
       "      <td>Australia</td>\n",
       "      <td>15.4</td>\n",
       "    </tr>\n",
       "    <tr>\n",
       "      <th>2</th>\n",
       "      <td>Austria</td>\n",
       "      <td>6.9</td>\n",
       "    </tr>\n",
       "    <tr>\n",
       "      <th>3</th>\n",
       "      <td>Belgium</td>\n",
       "      <td>8.3</td>\n",
       "    </tr>\n",
       "    <tr>\n",
       "      <th>4</th>\n",
       "      <td>Bosnia</td>\n",
       "      <td>6.2</td>\n",
       "    </tr>\n",
       "  </tbody>\n",
       "</table>\n",
       "</div>"
      ],
      "text/plain": [
       "      Nation   CO2\n",
       "0    Albania   2.0\n",
       "1  Australia  15.4\n",
       "2    Austria   6.9\n",
       "3    Belgium   8.3\n",
       "4     Bosnia   6.2"
      ]
     },
     "execution_count": 6,
     "metadata": {},
     "output_type": "execute_result"
    }
   ],
   "source": [
    "# Read in the Carbon_West data file into a panda's dataframe\n",
    "carbon_west = pd.read_csv('https://stat4ds.rwth-aachen.de/data/Carbon_West.dat', sep='\\s+')\n",
    "carbon_west.head()"
   ]
  },
  {
   "cell_type": "code",
   "execution_count": 7,
   "metadata": {},
   "outputs": [
    {
     "data": {
      "image/png": "[encoded data removed]",
      "text/plain": [
       "<Figure size 640x480 with 1 Axes>"
      ]
     },
     "metadata": {},
     "output_type": "display_data"
    }
   ],
   "source": [
    "# Construct a histogram\n",
    "carbon_west.hist([\"CO2\"], grid=False)\n",
    "plt.xlabel(\"Countries\")\n",
    "plt.ylabel(\"CO2 in Tonnes\")\n",
    "plt.title(\"Historgram of Greenhouse Gas Emissions by Country\")\n",
    "plt.show()"
   ]
  },
  {
   "cell_type": "markdown",
   "metadata": {},
   "source": [
    "`(b) Your answer goes here`"
   ]
  },
  {
   "cell_type": "code",
   "execution_count": 8,
   "metadata": {},
   "outputs": [
    {
     "name": "stdout",
     "output_type": "stream",
     "text": [
      "Mean : 6.72\n",
      "Median : 5.9\n",
      "Standard deviation : 3.36\n"
     ]
    }
   ],
   "source": [
    "# Find out the mean and median of of the data\n",
    "print(\"Mean :\", carbon_west[\"CO2\"].mean().round(2))\n",
    "print(\"Median :\", carbon_west[\"CO2\"].median().round(2))\n",
    "print(\"Standard deviation :\", carbon_west[\"CO2\"].std().round(2))"
   ]
  },
  {
   "cell_type": "code",
   "execution_count": 9,
   "metadata": {},
   "outputs": [
    {
     "name": "stdout",
     "output_type": "stream",
     "text": [
      "Difference Between Mean and Median = 0.82\n"
     ]
    }
   ],
   "source": [
    "print('Difference Between Mean and Median =', (carbon_west[\"CO2\"].mean() - carbon_west[\"CO2\"].median()).round(2)) "
   ]
  },
  {
   "cell_type": "markdown",
   "metadata": {},
   "source": [
    "`On checking the Difference Between Mean and Median, we find it to be 0.82. Since both the mean and the median values are fairly close together, the data appears to be normally distributed with a slight positive skew `"
   ]
  },
  {
   "cell_type": "markdown",
   "metadata": {},
   "source": [
    "## **Problem # 1.11.** \n",
    "According to Statistics Canada, for the Canadian population having income in 2019, annual income had a median of `$`35,000 and mean of `$`46,700. What would you predict about the shape of the distribution? Why?\n"
   ]
  },
  {
   "cell_type": "markdown",
   "metadata": {},
   "source": [
    "`The difference between the the Mean and Median is $10,000. Since the mean is greater, the distribution have a siginificant positive skewed with more people having a lower income. `"
   ]
  },
  {
   "cell_type": "markdown",
   "metadata": {
    "tags": []
   },
   "source": [
    "## **Problem # 1.13.**\n",
    "A report indicates that public school teacher’s annual salaries in New York city have an approximate  mean of `$`69,000 and standard deviation of `$`6,000. If the distribution has approximately a bell shape, report intervals that contain about (a) 68%, (b) 95%, (c) all or nearly all salaries. Would a salary of  `$`100,000 be unusual? Why? "
   ]
  },
  {
   "cell_type": "code",
   "execution_count": 10,
   "metadata": {
    "tags": []
   },
   "outputs": [],
   "source": [
    "#1st standard deviation (68%)\n",
    "first_lower = 69000 - 6000\n",
    "first_upper = 69000 + 6000"
   ]
  },
  {
   "cell_type": "markdown",
   "metadata": {
    "tags": []
   },
   "source": [
    "`(a)68% of salaries are between $63,000   and $75,000.`"
   ]
  },
  {
   "cell_type": "code",
   "execution_count": 11,
   "metadata": {
    "tags": []
   },
   "outputs": [],
   "source": [
    "#2st standard deviation (95%)\n",
    "second_lower = 69000 - 2*6000\n",
    "second_upper = 69000 + 2*6000"
   ]
  },
  {
   "cell_type": "markdown",
   "metadata": {
    "tags": []
   },
   "source": [
    "`(b) 95% of salaries are between $57,000 and $81,000.`"
   ]
  },
  {
   "cell_type": "code",
   "execution_count": 12,
   "metadata": {
    "tags": []
   },
   "outputs": [],
   "source": [
    "#3st standard deviation (nearly all salaries)\n",
    "third_lower = 69000 - 3*6000\n",
    "third_upper = 69000 + 3*6000"
   ]
  },
  {
   "cell_type": "markdown",
   "metadata": {
    "tags": []
   },
   "source": [
    "`(c) All or nearly all salaries are between $51,000 and $87,000.`"
   ]
  },
  {
   "cell_type": "code",
   "execution_count": 13,
   "metadata": {},
   "outputs": [
    {
     "data": {
      "text/plain": [
       "87150.675"
      ]
     },
     "execution_count": 13,
     "metadata": {},
     "output_type": "execute_result"
    }
   ],
   "source": [
    "Q3 = 69000+(0.675+6000)\n",
    "IQR = 1.35*6000\n",
    "OUTLIER = Q3 + 1.5*IQR\n",
    "OUTLIER"
   ]
  },
  {
   "cell_type": "markdown",
   "metadata": {},
   "source": [
    "`$100,000 would be an outlier since it is greater than the Q3+1.5 x 1QR since distribution has approximately a bell shape.`"
   ]
  },
  {
   "cell_type": "markdown",
   "metadata": {
    "tags": []
   },
   "source": [
    "## **Problem # 1.17.** \n",
    "From the `Murder` data file ([http://stat4ds.rwth-aachen.de/data/Murder.dat](http://stat4ds.rwth-aachen.de/data/Murder.dat)) at the book’s website, use the variable murder, which is the murder rate (per 100,000 population) for each state in the U.S. in 2017 according to the FBI Uniform Crime Reports. At first, do not use the observation for D.C. (DC). Using software:  \n",
    "(a) Find the mean and standard deviation and interpret their values.  \n",
    "(b) Find the five-number summary, and construct the corresponding box plot. Interpret.  \n",
    "(c) Now include the observation for D.C. What is affected more by this outlier: The mean or the median? The range or the inter-quartile range?"
   ]
  },
  {
   "cell_type": "markdown",
   "metadata": {},
   "source": [
    "**Answer:**"
   ]
  },
  {
   "cell_type": "markdown",
   "metadata": {},
   "source": [
    "`(a) Your answer goes here` "
   ]
  },
  {
   "cell_type": "code",
   "execution_count": 14,
   "metadata": {},
   "outputs": [
    {
     "data": {
      "text/html": [
       "<div>\n",
       "<style scoped>\n",
       "    .dataframe tbody tr th:only-of-type {\n",
       "        vertical-align: middle;\n",
       "    }\n",
       "\n",
       "    .dataframe tbody tr th {\n",
       "        vertical-align: top;\n",
       "    }\n",
       "\n",
       "    .dataframe thead th {\n",
       "        text-align: right;\n",
       "    }\n",
       "</style>\n",
       "<table border=\"1\" class=\"dataframe\">\n",
       "  <thead>\n",
       "    <tr style=\"text-align: right;\">\n",
       "      <th></th>\n",
       "      <th>state</th>\n",
       "      <th>murder</th>\n",
       "    </tr>\n",
       "  </thead>\n",
       "  <tbody>\n",
       "    <tr>\n",
       "      <th>0</th>\n",
       "      <td>AK</td>\n",
       "      <td>8.4</td>\n",
       "    </tr>\n",
       "    <tr>\n",
       "      <th>1</th>\n",
       "      <td>AL</td>\n",
       "      <td>8.3</td>\n",
       "    </tr>\n",
       "    <tr>\n",
       "      <th>2</th>\n",
       "      <td>AR</td>\n",
       "      <td>8.6</td>\n",
       "    </tr>\n",
       "    <tr>\n",
       "      <th>3</th>\n",
       "      <td>AZ</td>\n",
       "      <td>5.9</td>\n",
       "    </tr>\n",
       "    <tr>\n",
       "      <th>4</th>\n",
       "      <td>CA</td>\n",
       "      <td>4.6</td>\n",
       "    </tr>\n",
       "  </tbody>\n",
       "</table>\n",
       "</div>"
      ],
      "text/plain": [
       "  state  murder\n",
       "0    AK     8.4\n",
       "1    AL     8.3\n",
       "2    AR     8.6\n",
       "3    AZ     5.9\n",
       "4    CA     4.6"
      ]
     },
     "execution_count": 14,
     "metadata": {},
     "output_type": "execute_result"
    }
   ],
   "source": [
    "# Read in the Murder data file into a panda's dataframe\n",
    "murder = pd.read_csv('https://stat4ds.rwth-aachen.de/data/Murder.dat', sep='\\s+')\n",
    "murder_non_dc = murder[murder[\"state\"] != (\"DC\") ]\n",
    "murder_non_dc.head(5)"
   ]
  },
  {
   "cell_type": "code",
   "execution_count": 15,
   "metadata": {},
   "outputs": [
    {
     "name": "stdout",
     "output_type": "stream",
     "text": [
      "Mean : 4.87\n",
      "Standard deviation : 2.59\n"
     ]
    }
   ],
   "source": [
    "# Find out the mean and median of of the data\n",
    "print(\"Mean :\", murder_non_dc[\"murder\"].mean().round(2))\n",
    "print(\"Standard deviation :\", murder_non_dc[\"murder\"].std().round(2))"
   ]
  },
  {
   "cell_type": "markdown",
   "metadata": {},
   "source": [
    "`(b) Your answer goes here`"
   ]
  },
  {
   "cell_type": "code",
   "execution_count": 16,
   "metadata": {},
   "outputs": [
    {
     "data": {
      "text/html": [
       "<div>\n",
       "<style scoped>\n",
       "    .dataframe tbody tr th:only-of-type {\n",
       "        vertical-align: middle;\n",
       "    }\n",
       "\n",
       "    .dataframe tbody tr th {\n",
       "        vertical-align: top;\n",
       "    }\n",
       "\n",
       "    .dataframe thead th {\n",
       "        text-align: right;\n",
       "    }\n",
       "</style>\n",
       "<table border=\"1\" class=\"dataframe\">\n",
       "  <thead>\n",
       "    <tr style=\"text-align: right;\">\n",
       "      <th></th>\n",
       "      <th>mean</th>\n",
       "      <th>std</th>\n",
       "      <th>min</th>\n",
       "      <th>25%</th>\n",
       "      <th>50%</th>\n",
       "      <th>75%</th>\n",
       "      <th>max</th>\n",
       "    </tr>\n",
       "  </thead>\n",
       "  <tbody>\n",
       "    <tr>\n",
       "      <th>murder</th>\n",
       "      <td>4.87</td>\n",
       "      <td>2.59</td>\n",
       "      <td>1.0</td>\n",
       "      <td>2.62</td>\n",
       "      <td>4.85</td>\n",
       "      <td>6.18</td>\n",
       "      <td>12.4</td>\n",
       "    </tr>\n",
       "  </tbody>\n",
       "</table>\n",
       "</div>"
      ],
      "text/plain": [
       "        mean   std  min   25%   50%   75%   max\n",
       "murder  4.87  2.59  1.0  2.62  4.85  6.18  12.4"
      ]
     },
     "execution_count": 16,
     "metadata": {},
     "output_type": "execute_result"
    }
   ],
   "source": [
    "# Calculate the five-number summary using describe \n",
    "murder_non_dc.describe().T.drop(columns=[\"count\"]).round(2)"
   ]
  },
  {
   "cell_type": "code",
   "execution_count": 17,
   "metadata": {},
   "outputs": [
    {
     "data": {
      "image/png": "[encoded data removed]",
      "text/plain": [
       "<Figure size 640x480 with 1 Axes>"
      ]
     },
     "metadata": {},
     "output_type": "display_data"
    }
   ],
   "source": [
    "# Plot the box plot\n",
    "murder_non_dc.boxplot(grid = False) \n",
    "plt.title ('Boxplot of Murder Data rate for each state in the US in 2007 from FBI Crime Report') # title\n",
    "plt.ylabel('Murder rate per 100,000 of population')                    # y-axis\n",
    "plt.show()"
   ]
  },
  {
   "cell_type": "markdown",
   "metadata": {},
   "source": [
    "`(c) Your answer goes here` "
   ]
  },
  {
   "cell_type": "code",
   "execution_count": 18,
   "metadata": {},
   "outputs": [
    {
     "data": {
      "text/html": [
       "<div>\n",
       "<style scoped>\n",
       "    .dataframe tbody tr th:only-of-type {\n",
       "        vertical-align: middle;\n",
       "    }\n",
       "\n",
       "    .dataframe tbody tr th {\n",
       "        vertical-align: top;\n",
       "    }\n",
       "\n",
       "    .dataframe thead th {\n",
       "        text-align: right;\n",
       "    }\n",
       "</style>\n",
       "<table border=\"1\" class=\"dataframe\">\n",
       "  <thead>\n",
       "    <tr style=\"text-align: right;\">\n",
       "      <th></th>\n",
       "      <th>mean</th>\n",
       "      <th>std</th>\n",
       "      <th>min</th>\n",
       "      <th>25%</th>\n",
       "      <th>50%</th>\n",
       "      <th>75%</th>\n",
       "      <th>max</th>\n",
       "    </tr>\n",
       "  </thead>\n",
       "  <tbody>\n",
       "    <tr>\n",
       "      <th>murder</th>\n",
       "      <td>5.25</td>\n",
       "      <td>3.73</td>\n",
       "      <td>1.0</td>\n",
       "      <td>2.65</td>\n",
       "      <td>5.0</td>\n",
       "      <td>6.45</td>\n",
       "      <td>24.2</td>\n",
       "    </tr>\n",
       "  </tbody>\n",
       "</table>\n",
       "</div>"
      ],
      "text/plain": [
       "        mean   std  min   25%  50%   75%   max\n",
       "murder  5.25  3.73  1.0  2.65  5.0  6.45  24.2"
      ]
     },
     "execution_count": 18,
     "metadata": {},
     "output_type": "execute_result"
    }
   ],
   "source": [
    "# Include DC data into the murder data\n",
    "# Show the five-number summary\n",
    "murder.describe().T.drop(columns=[\"count\"]).round(2)"
   ]
  },
  {
   "cell_type": "code",
   "execution_count": 19,
   "metadata": {},
   "outputs": [
    {
     "data": {
      "image/png": "[encoded data removed]",
      "text/plain": [
       "<Figure size 640x480 with 1 Axes>"
      ]
     },
     "metadata": {},
     "output_type": "display_data"
    }
   ],
   "source": [
    "# Plot the box plot\n",
    "murder.boxplot(grid = False ) # re-orient\n",
    "plt.title ('Boxplot of Murder Data rate for each state in the US in 2007 from FBI Crime Report') # title\n",
    "plt.ylabel('Murder rate per 100,000 of population')                    # y-axis\n",
    "plt.show()"
   ]
  },
  {
   "cell_type": "markdown",
   "metadata": {
    "tags": []
   },
   "source": [
    "## **Problem # 1.18.**\n",
    "The `Income` data file ([http://stat4ds.rwth-aachen.de/data/Income.dat](http://stat4ds.rwth-aachen.de/data/Income.dat)) at the book’s website reports annual income values in the U.S., in thousands of dollars.\n",
    "\n",
    "(a) Using software, construct a histogram. Describe its shape.  \n",
    "(b) Find descriptive statistics to summarize the data. Interpret them.  \n",
    "(c) The kernel density estimation method finds a smooth-curve approximation for a histogram. At each value, it takes into account how many observations are nearby and their distance, with more weight given those closer. Increasing the bandwidth increases the influence of observations further away. Plot a smooth-curve approximation for the histogram of income values. Summarize the impact of increasing and of decreasing the bandwidth substantially from the default value.  \n",
    "(d) Construct and interpret side-by-side box plots of income by race (B = Black, H = Hispanic, W = White).  Compare the incomes using numerical descriptive statistics"
   ]
  },
  {
   "cell_type": "markdown",
   "metadata": {},
   "source": [
    "**Answer:**"
   ]
  },
  {
   "cell_type": "markdown",
   "metadata": {},
   "source": [
    "`(a) Your answer goes here`"
   ]
  },
  {
   "cell_type": "code",
   "execution_count": 20,
   "metadata": {},
   "outputs": [
    {
     "data": {
      "text/html": [
       "<div>\n",
       "<style scoped>\n",
       "    .dataframe tbody tr th:only-of-type {\n",
       "        vertical-align: middle;\n",
       "    }\n",
       "\n",
       "    .dataframe tbody tr th {\n",
       "        vertical-align: top;\n",
       "    }\n",
       "\n",
       "    .dataframe thead th {\n",
       "        text-align: right;\n",
       "    }\n",
       "</style>\n",
       "<table border=\"1\" class=\"dataframe\">\n",
       "  <thead>\n",
       "    <tr style=\"text-align: right;\">\n",
       "      <th></th>\n",
       "      <th>income</th>\n",
       "      <th>education</th>\n",
       "      <th>race</th>\n",
       "    </tr>\n",
       "  </thead>\n",
       "  <tbody>\n",
       "    <tr>\n",
       "      <th>0</th>\n",
       "      <td>16</td>\n",
       "      <td>10</td>\n",
       "      <td>B</td>\n",
       "    </tr>\n",
       "    <tr>\n",
       "      <th>1</th>\n",
       "      <td>18</td>\n",
       "      <td>7</td>\n",
       "      <td>B</td>\n",
       "    </tr>\n",
       "    <tr>\n",
       "      <th>2</th>\n",
       "      <td>26</td>\n",
       "      <td>9</td>\n",
       "      <td>B</td>\n",
       "    </tr>\n",
       "    <tr>\n",
       "      <th>3</th>\n",
       "      <td>16</td>\n",
       "      <td>11</td>\n",
       "      <td>B</td>\n",
       "    </tr>\n",
       "    <tr>\n",
       "      <th>4</th>\n",
       "      <td>34</td>\n",
       "      <td>14</td>\n",
       "      <td>B</td>\n",
       "    </tr>\n",
       "  </tbody>\n",
       "</table>\n",
       "</div>"
      ],
      "text/plain": [
       "   income  education race\n",
       "0      16         10    B\n",
       "1      18          7    B\n",
       "2      26          9    B\n",
       "3      16         11    B\n",
       "4      34         14    B"
      ]
     },
     "execution_count": 20,
     "metadata": {},
     "output_type": "execute_result"
    }
   ],
   "source": [
    "# Read in the Income data file into a panda's dataframe\n",
    "income = pd.read_csv('https://stat4ds.rwth-aachen.de/data/Income.dat', sep='\\s+')\n",
    "income.head()"
   ]
  },
  {
   "cell_type": "code",
   "execution_count": 21,
   "metadata": {},
   "outputs": [
    {
     "data": {
      "image/png": "[encoded data removed]",
      "text/plain": [
       "<Figure size 640x480 with 1 Axes>"
      ]
     },
     "metadata": {},
     "output_type": "display_data"
    }
   ],
   "source": [
    "# Construct a histogram\n",
    "income.hist([\"income\"], grid=False)\n",
    "plt.xlabel(\"Income in thousands of dollars\")\n",
    "plt.ylabel(\"count of individuals\")\n",
    "plt.title(\"Historgram of income\")\n",
    "plt.show()"
   ]
  },
  {
   "cell_type": "markdown",
   "metadata": {},
   "source": [
    "`Describe its shape: The Histogram does not show uniform distributation, instead it shows high distribution of subejcts with lower income and low distribution of subjects with higher income.`"
   ]
  },
  {
   "cell_type": "markdown",
   "metadata": {},
   "source": [
    "`(b) Your answer goes here`"
   ]
  },
  {
   "cell_type": "code",
   "execution_count": 22,
   "metadata": {},
   "outputs": [
    {
     "data": {
      "text/html": [
       "<div>\n",
       "<style scoped>\n",
       "    .dataframe tbody tr th:only-of-type {\n",
       "        vertical-align: middle;\n",
       "    }\n",
       "\n",
       "    .dataframe tbody tr th {\n",
       "        vertical-align: top;\n",
       "    }\n",
       "\n",
       "    .dataframe thead th {\n",
       "        text-align: right;\n",
       "    }\n",
       "</style>\n",
       "<table border=\"1\" class=\"dataframe\">\n",
       "  <thead>\n",
       "    <tr style=\"text-align: right;\">\n",
       "      <th></th>\n",
       "      <th>mean</th>\n",
       "      <th>std</th>\n",
       "      <th>min</th>\n",
       "      <th>25%</th>\n",
       "      <th>50%</th>\n",
       "      <th>75%</th>\n",
       "      <th>max</th>\n",
       "    </tr>\n",
       "  </thead>\n",
       "  <tbody>\n",
       "    <tr>\n",
       "      <th>income</th>\n",
       "      <td>37.52</td>\n",
       "      <td>20.67</td>\n",
       "      <td>16.0</td>\n",
       "      <td>22.0</td>\n",
       "      <td>30.0</td>\n",
       "      <td>46.5</td>\n",
       "      <td>120.0</td>\n",
       "    </tr>\n",
       "  </tbody>\n",
       "</table>\n",
       "</div>"
      ],
      "text/plain": [
       "         mean    std   min   25%   50%   75%    max\n",
       "income  37.52  20.67  16.0  22.0  30.0  46.5  120.0"
      ]
     },
     "execution_count": 22,
     "metadata": {},
     "output_type": "execute_result"
    }
   ],
   "source": [
    "# Show the five-number summary\n",
    "income.describe().T.drop(columns=[\"count\"]).round(2).drop(index=[\"education\"]) #drop count column, drop education row"
   ]
  },
  {
   "cell_type": "markdown",
   "metadata": {},
   "source": [
    "`Interprate its results. The five number summary shows outliers high earners who are beyond the Q3+1.5x IQR but no low income outliers`"
   ]
  },
  {
   "cell_type": "markdown",
   "metadata": {},
   "source": [
    "**Summary of the data:**  "
   ]
  },
  {
   "cell_type": "markdown",
   "metadata": {},
   "source": [
    "`(d) Your answer goes here`"
   ]
  },
  {
   "cell_type": "code",
   "execution_count": 23,
   "metadata": {},
   "outputs": [
    {
     "data": {
      "text/html": [
       "<div>\n",
       "<style scoped>\n",
       "    .dataframe tbody tr th:only-of-type {\n",
       "        vertical-align: middle;\n",
       "    }\n",
       "\n",
       "    .dataframe tbody tr th {\n",
       "        vertical-align: top;\n",
       "    }\n",
       "\n",
       "    .dataframe thead th {\n",
       "        text-align: right;\n",
       "    }\n",
       "</style>\n",
       "<table border=\"1\" class=\"dataframe\">\n",
       "  <thead>\n",
       "    <tr style=\"text-align: right;\">\n",
       "      <th></th>\n",
       "      <th>mean</th>\n",
       "      <th>std</th>\n",
       "      <th>min</th>\n",
       "      <th>25%</th>\n",
       "      <th>50%</th>\n",
       "      <th>75%</th>\n",
       "      <th>max</th>\n",
       "    </tr>\n",
       "  </thead>\n",
       "  <tbody>\n",
       "    <tr>\n",
       "      <th>income</th>\n",
       "      <td>27.75</td>\n",
       "      <td>13.28</td>\n",
       "      <td>16.0</td>\n",
       "      <td>19.5</td>\n",
       "      <td>24.0</td>\n",
       "      <td>31.0</td>\n",
       "      <td>66.0</td>\n",
       "    </tr>\n",
       "  </tbody>\n",
       "</table>\n",
       "</div>"
      ],
      "text/plain": [
       "         mean    std   min   25%   50%   75%   max\n",
       "income  27.75  13.28  16.0  19.5  24.0  31.0  66.0"
      ]
     },
     "execution_count": 23,
     "metadata": {},
     "output_type": "execute_result"
    }
   ],
   "source": [
    "# Black Income descriptive\n",
    "income_black = income[income[\"race\"] == (\"B\") ].drop(columns=[\"education\",\"race\"])\n",
    "income_black.describe().round(2).drop(index=[\"count\"]).T"
   ]
  },
  {
   "cell_type": "code",
   "execution_count": 24,
   "metadata": {},
   "outputs": [
    {
     "data": {
      "text/html": [
       "<div>\n",
       "<style scoped>\n",
       "    .dataframe tbody tr th:only-of-type {\n",
       "        vertical-align: middle;\n",
       "    }\n",
       "\n",
       "    .dataframe tbody tr th {\n",
       "        vertical-align: top;\n",
       "    }\n",
       "\n",
       "    .dataframe thead th {\n",
       "        text-align: right;\n",
       "    }\n",
       "</style>\n",
       "<table border=\"1\" class=\"dataframe\">\n",
       "  <thead>\n",
       "    <tr style=\"text-align: right;\">\n",
       "      <th></th>\n",
       "      <th>mean</th>\n",
       "      <th>std</th>\n",
       "      <th>min</th>\n",
       "      <th>25%</th>\n",
       "      <th>50%</th>\n",
       "      <th>75%</th>\n",
       "      <th>max</th>\n",
       "    </tr>\n",
       "  </thead>\n",
       "  <tbody>\n",
       "    <tr>\n",
       "      <th>income</th>\n",
       "      <td>31.0</td>\n",
       "      <td>12.81</td>\n",
       "      <td>16.0</td>\n",
       "      <td>20.5</td>\n",
       "      <td>30.0</td>\n",
       "      <td>32.0</td>\n",
       "      <td>58.0</td>\n",
       "    </tr>\n",
       "  </tbody>\n",
       "</table>\n",
       "</div>"
      ],
      "text/plain": [
       "        mean    std   min   25%   50%   75%   max\n",
       "income  31.0  12.81  16.0  20.5  30.0  32.0  58.0"
      ]
     },
     "execution_count": 24,
     "metadata": {},
     "output_type": "execute_result"
    }
   ],
   "source": [
    "# Hispanic Income descriptive\n",
    "income_hispanic = income[income[\"race\"] == (\"H\") ].drop(columns=[\"education\",\"race\"])\n",
    "income_hispanic.describe().round(2).drop(index=[\"count\"]).T"
   ]
  },
  {
   "cell_type": "code",
   "execution_count": 25,
   "metadata": {},
   "outputs": [
    {
     "data": {
      "text/html": [
       "<div>\n",
       "<style scoped>\n",
       "    .dataframe tbody tr th:only-of-type {\n",
       "        vertical-align: middle;\n",
       "    }\n",
       "\n",
       "    .dataframe tbody tr th {\n",
       "        vertical-align: top;\n",
       "    }\n",
       "\n",
       "    .dataframe thead th {\n",
       "        text-align: right;\n",
       "    }\n",
       "</style>\n",
       "<table border=\"1\" class=\"dataframe\">\n",
       "  <thead>\n",
       "    <tr style=\"text-align: right;\">\n",
       "      <th></th>\n",
       "      <th>mean</th>\n",
       "      <th>std</th>\n",
       "      <th>min</th>\n",
       "      <th>25%</th>\n",
       "      <th>50%</th>\n",
       "      <th>75%</th>\n",
       "      <th>max</th>\n",
       "    </tr>\n",
       "  </thead>\n",
       "  <tbody>\n",
       "    <tr>\n",
       "      <th>income</th>\n",
       "      <td>42.48</td>\n",
       "      <td>22.87</td>\n",
       "      <td>18.0</td>\n",
       "      <td>24.0</td>\n",
       "      <td>37.0</td>\n",
       "      <td>50.0</td>\n",
       "      <td>120.0</td>\n",
       "    </tr>\n",
       "  </tbody>\n",
       "</table>\n",
       "</div>"
      ],
      "text/plain": [
       "         mean    std   min   25%   50%   75%    max\n",
       "income  42.48  22.87  18.0  24.0  37.0  50.0  120.0"
      ]
     },
     "execution_count": 25,
     "metadata": {},
     "output_type": "execute_result"
    }
   ],
   "source": [
    "# White Income descriptive\n",
    "income_white = income[income[\"race\"] == (\"W\") ].drop(columns=[\"education\",\"race\"])\n",
    "income_white.describe().round(2).drop(index=[\"count\"]).T"
   ]
  },
  {
   "cell_type": "code",
   "execution_count": 26,
   "metadata": {},
   "outputs": [
    {
     "data": {
      "image/png": "[encoded data removed]",
      "text/plain": [
       "<Figure size 1000x600 with 1 Axes>"
      ]
     },
     "metadata": {},
     "output_type": "display_data"
    }
   ],
   "source": [
    "# Plots side by side\n",
    "data_to_plot = [ income_black[\"income\"], income_hispanic[\"income\"], income_white[\"income\"]]\n",
    "plt.figure(figsize=(10, 6))\n",
    "plt.ylabel('Annual income values in thousands of dollars') \n",
    "box = plt.boxplot(data_to_plot,\n",
    "                  positions=[1, 1.75, 2.5 ],\n",
    "                  labels=['Black','Hispanic','White'])\n"
   ]
  },
  {
   "cell_type": "code",
   "execution_count": 35,
   "metadata": {},
   "outputs": [
    {
     "data": {
      "text/plain": [
       "0     16\n",
       "1     18\n",
       "2     26\n",
       "3     16\n",
       "4     34\n",
       "5     22\n",
       "6     42\n",
       "7     42\n",
       "8     16\n",
       "9     20\n",
       "10    66\n",
       "11    26\n",
       "12    20\n",
       "13    30\n",
       "14    20\n",
       "15    30\n",
       "Name: income, dtype: int64"
      ]
     },
     "execution_count": 35,
     "metadata": {},
     "output_type": "execute_result"
    }
   ],
   "source": [
    "income_black[\"income\"]"
   ]
  },
  {
   "cell_type": "markdown",
   "metadata": {},
   "source": [
    "## **Problem # 1.19.** \n",
    "The `Houses` data file ([http://stat4ds.rwth-aachen.de/data/Houses.dat](http://stat4ds.rwth-aachen.de/data/Houses.dat)) at the book’s website lists the selling price (thousands of dollars), size (square feet), tax bill (dollars), number of bathrooms, number of bedrooms, and whether the house is new (1 = yes, 0 = no) for 100 home sales in Gainesville, Florida. Let’s analyze the selling prices. \n",
    "\n",
    "(a) Construct a frequency distribution and a histogram. Describe the shape.  \n",
    "(b) Find the percentage of observations that fall within one standard deviation of the mean. Why is this not close to 68%?  \n",
    "(c) Construct a box plot, and interpret.   \n",
    "(d) Use descriptive statistics to compare selling prices according to whether the house is new. \n",
    "\n",
    "\n"
   ]
  },
  {
   "cell_type": "markdown",
   "metadata": {},
   "source": [
    "**Answer:**"
   ]
  },
  {
   "cell_type": "markdown",
   "metadata": {},
   "source": [
    "`(a) Your answer goes here`"
   ]
  },
  {
   "cell_type": "code",
   "execution_count": 27,
   "metadata": {},
   "outputs": [
    {
     "data": {
      "text/html": [
       "<div>\n",
       "<style scoped>\n",
       "    .dataframe tbody tr th:only-of-type {\n",
       "        vertical-align: middle;\n",
       "    }\n",
       "\n",
       "    .dataframe tbody tr th {\n",
       "        vertical-align: top;\n",
       "    }\n",
       "\n",
       "    .dataframe thead th {\n",
       "        text-align: right;\n",
       "    }\n",
       "</style>\n",
       "<table border=\"1\" class=\"dataframe\">\n",
       "  <thead>\n",
       "    <tr style=\"text-align: right;\">\n",
       "      <th></th>\n",
       "      <th>case</th>\n",
       "      <th>price</th>\n",
       "      <th>size</th>\n",
       "      <th>new</th>\n",
       "      <th>taxes</th>\n",
       "      <th>bedrooms</th>\n",
       "      <th>baths</th>\n",
       "    </tr>\n",
       "  </thead>\n",
       "  <tbody>\n",
       "    <tr>\n",
       "      <th>0</th>\n",
       "      <td>1</td>\n",
       "      <td>419.85</td>\n",
       "      <td>2048</td>\n",
       "      <td>0</td>\n",
       "      <td>3104</td>\n",
       "      <td>4</td>\n",
       "      <td>2</td>\n",
       "    </tr>\n",
       "    <tr>\n",
       "      <th>1</th>\n",
       "      <td>2</td>\n",
       "      <td>219.75</td>\n",
       "      <td>912</td>\n",
       "      <td>0</td>\n",
       "      <td>1173</td>\n",
       "      <td>2</td>\n",
       "      <td>1</td>\n",
       "    </tr>\n",
       "    <tr>\n",
       "      <th>2</th>\n",
       "      <td>3</td>\n",
       "      <td>356.55</td>\n",
       "      <td>1654</td>\n",
       "      <td>0</td>\n",
       "      <td>3076</td>\n",
       "      <td>4</td>\n",
       "      <td>2</td>\n",
       "    </tr>\n",
       "    <tr>\n",
       "      <th>3</th>\n",
       "      <td>4</td>\n",
       "      <td>300.00</td>\n",
       "      <td>2068</td>\n",
       "      <td>0</td>\n",
       "      <td>1608</td>\n",
       "      <td>3</td>\n",
       "      <td>2</td>\n",
       "    </tr>\n",
       "    <tr>\n",
       "      <th>4</th>\n",
       "      <td>5</td>\n",
       "      <td>239.85</td>\n",
       "      <td>1477</td>\n",
       "      <td>0</td>\n",
       "      <td>1454</td>\n",
       "      <td>3</td>\n",
       "      <td>3</td>\n",
       "    </tr>\n",
       "  </tbody>\n",
       "</table>\n",
       "</div>"
      ],
      "text/plain": [
       "   case   price  size  new  taxes  bedrooms  baths\n",
       "0     1  419.85  2048    0   3104         4      2\n",
       "1     2  219.75   912    0   1173         2      1\n",
       "2     3  356.55  1654    0   3076         4      2\n",
       "3     4  300.00  2068    0   1608         3      2\n",
       "4     5  239.85  1477    0   1454         3      3"
      ]
     },
     "execution_count": 27,
     "metadata": {},
     "output_type": "execute_result"
    }
   ],
   "source": [
    "# Read in the Housing data file into a panda's dataframe\n",
    "houses = pd.read_csv('https://stat4ds.rwth-aachen.de/data/Houses.dat', sep='\\s+')\n",
    "houses.head()"
   ]
  },
  {
   "cell_type": "code",
   "execution_count": 28,
   "metadata": {},
   "outputs": [
    {
     "data": {
      "image/png": "[encoded data removed]",
      "text/plain": [
       "<Figure size 640x480 with 1 Axes>"
      ]
     },
     "metadata": {},
     "output_type": "display_data"
    }
   ],
   "source": [
    "# Construct a histogram\n",
    "houses.hist([\"price\"], grid=False)\n",
    "plt.xlabel(\"selling price (thousands of dollars)\")\n",
    "plt.ylabel(\"number of houses sold\")\n",
    "plt.title(\"Histogram of home sales in Gainesville, Florida\")\n",
    "plt.show()"
   ]
  },
  {
   "cell_type": "markdown",
   "metadata": {},
   "source": [
    "`The histogram does not show uniform distribution, instead we see that majority of the homes sold in  Gainesville, Florida fell within $100 - $200K range `"
   ]
  },
  {
   "cell_type": "markdown",
   "metadata": {},
   "source": [
    "`(b) Your answer goes here`"
   ]
  },
  {
   "cell_type": "code",
   "execution_count": 29,
   "metadata": {},
   "outputs": [
    {
     "data": {
      "text/html": [
       "<div>\n",
       "<style scoped>\n",
       "    .dataframe tbody tr th:only-of-type {\n",
       "        vertical-align: middle;\n",
       "    }\n",
       "\n",
       "    .dataframe tbody tr th {\n",
       "        vertical-align: top;\n",
       "    }\n",
       "\n",
       "    .dataframe thead th {\n",
       "        text-align: right;\n",
       "    }\n",
       "</style>\n",
       "<table border=\"1\" class=\"dataframe\">\n",
       "  <thead>\n",
       "    <tr style=\"text-align: right;\">\n",
       "      <th></th>\n",
       "      <th>mean</th>\n",
       "      <th>std</th>\n",
       "      <th>min</th>\n",
       "      <th>25%</th>\n",
       "      <th>50%</th>\n",
       "      <th>75%</th>\n",
       "      <th>max</th>\n",
       "    </tr>\n",
       "  </thead>\n",
       "  <tbody>\n",
       "    <tr>\n",
       "      <th>price</th>\n",
       "      <td>233.0</td>\n",
       "      <td>151.89</td>\n",
       "      <td>31.5</td>\n",
       "      <td>139.84</td>\n",
       "      <td>198.9</td>\n",
       "      <td>254.44</td>\n",
       "      <td>880.5</td>\n",
       "    </tr>\n",
       "  </tbody>\n",
       "</table>\n",
       "</div>"
      ],
      "text/plain": [
       "        mean     std   min     25%    50%     75%    max\n",
       "price  233.0  151.89  31.5  139.84  198.9  254.44  880.5"
      ]
     },
     "execution_count": 29,
     "metadata": {},
     "output_type": "execute_result"
    }
   ],
   "source": [
    "# Standard Deviation \n",
    "houses.describe().T.drop(columns=[\"count\"]).round(2).drop(index=[\"case\",\"size\",\"new\",\"taxes\", \"bedrooms\", \"baths\"]) #drop count column, drop case,size,new,taxes, bedrooms, baths rows"
   ]
  },
  {
   "cell_type": "code",
   "execution_count": 30,
   "metadata": {},
   "outputs": [
    {
     "name": "stdout",
     "output_type": "stream",
     "text": [
      "89.0 % \n"
     ]
    }
   ],
   "source": [
    "# Use the Zcore function to identify how far away each obsevations is from the  standard deviations.\n",
    "def zscore(s):\n",
    "    return (s - np.mean(s)) / np.std(s)\n",
    "\n",
    "# Check if the value is within 1 standard deviation and sum it / divide by total number of observations as a percentage\n",
    "\n",
    "print( sum(zscore(houses[\"price\"]) < 1)/len(houses)*100, \"% \")"
   ]
  },
  {
   "cell_type": "markdown",
   "metadata": {},
   "source": [
    "`Why is this not close to 68%?: Becuase the prices are heavity skewed and the data is very asymetric. Therefore it does not follow the Empirical Rule.`"
   ]
  },
  {
   "cell_type": "markdown",
   "metadata": {},
   "source": [
    "`(c) Your answer goes here`"
   ]
  },
  {
   "cell_type": "code",
   "execution_count": 31,
   "metadata": {},
   "outputs": [
    {
     "data": {
      "image/png": "[encoded data removed]",
      "text/plain": [
       "<Figure size 640x480 with 1 Axes>"
      ]
     },
     "metadata": {},
     "output_type": "display_data"
    }
   ],
   "source": [
    "# Plot the box plot\n",
    "houses.boxplot([\"price\"],grid = False, ) \n",
    "plt.title ('Boxplot of home sales in Gainesville, Florida') # title\n",
    "plt.ylabel('selling price (thousands of dollars)')                    # y-axis\n",
    "plt.show()"
   ]
  },
  {
   "cell_type": "markdown",
   "metadata": {},
   "source": [
    "`The box plot shows the distribution of home sales in Gainesville, Florida. The median sale is 198.9, and the interquartile range is between 139.84 and 198.9. There 11 many outliers, with prices above $400,000`"
   ]
  },
  {
   "cell_type": "markdown",
   "metadata": {},
   "source": [
    "`(d) Your answer goes here`"
   ]
  },
  {
   "cell_type": "code",
   "execution_count": 32,
   "metadata": {},
   "outputs": [
    {
     "data": {
      "text/html": [
       "<div>\n",
       "<style scoped>\n",
       "    .dataframe tbody tr th:only-of-type {\n",
       "        vertical-align: middle;\n",
       "    }\n",
       "\n",
       "    .dataframe tbody tr th {\n",
       "        vertical-align: top;\n",
       "    }\n",
       "\n",
       "    .dataframe thead th {\n",
       "        text-align: right;\n",
       "    }\n",
       "</style>\n",
       "<table border=\"1\" class=\"dataframe\">\n",
       "  <thead>\n",
       "    <tr style=\"text-align: right;\">\n",
       "      <th></th>\n",
       "      <th>mean</th>\n",
       "      <th>std</th>\n",
       "      <th>min</th>\n",
       "      <th>25%</th>\n",
       "      <th>50%</th>\n",
       "      <th>75%</th>\n",
       "      <th>max</th>\n",
       "    </tr>\n",
       "  </thead>\n",
       "  <tbody>\n",
       "    <tr>\n",
       "      <th>price</th>\n",
       "      <td>436.45</td>\n",
       "      <td>219.83</td>\n",
       "      <td>158.85</td>\n",
       "      <td>256.95</td>\n",
       "      <td>427.5</td>\n",
       "      <td>519.67</td>\n",
       "      <td>866.25</td>\n",
       "    </tr>\n",
       "  </tbody>\n",
       "</table>\n",
       "</div>"
      ],
      "text/plain": [
       "         mean     std     min     25%    50%     75%     max\n",
       "price  436.45  219.83  158.85  256.95  427.5  519.67  866.25"
      ]
     },
     "execution_count": 32,
     "metadata": {},
     "output_type": "execute_result"
    }
   ],
   "source": [
    "#The five number summary for prices for new houses \n",
    "houses_new = houses[houses[\"new\"] == 1 ]\n",
    "houses_new.describe().T.drop(columns=[\"count\"]).round(2).drop(index=[\"case\",\"size\",\"new\",\"taxes\", \"bedrooms\", \"baths\"]) #drop count column, drop case,size,new,taxes, bedrooms, baths rows"
   ]
  },
  {
   "cell_type": "code",
   "execution_count": 33,
   "metadata": {},
   "outputs": [
    {
     "data": {
      "text/html": [
       "<div>\n",
       "<style scoped>\n",
       "    .dataframe tbody tr th:only-of-type {\n",
       "        vertical-align: middle;\n",
       "    }\n",
       "\n",
       "    .dataframe tbody tr th {\n",
       "        vertical-align: top;\n",
       "    }\n",
       "\n",
       "    .dataframe thead th {\n",
       "        text-align: right;\n",
       "    }\n",
       "</style>\n",
       "<table border=\"1\" class=\"dataframe\">\n",
       "  <thead>\n",
       "    <tr style=\"text-align: right;\">\n",
       "      <th></th>\n",
       "      <th>mean</th>\n",
       "      <th>std</th>\n",
       "      <th>min</th>\n",
       "      <th>25%</th>\n",
       "      <th>50%</th>\n",
       "      <th>75%</th>\n",
       "      <th>max</th>\n",
       "    </tr>\n",
       "  </thead>\n",
       "  <tbody>\n",
       "    <tr>\n",
       "      <th>price</th>\n",
       "      <td>207.85</td>\n",
       "      <td>121.04</td>\n",
       "      <td>31.5</td>\n",
       "      <td>135.0</td>\n",
       "      <td>190.8</td>\n",
       "      <td>240.0</td>\n",
       "      <td>880.5</td>\n",
       "    </tr>\n",
       "  </tbody>\n",
       "</table>\n",
       "</div>"
      ],
      "text/plain": [
       "         mean     std   min    25%    50%    75%    max\n",
       "price  207.85  121.04  31.5  135.0  190.8  240.0  880.5"
      ]
     },
     "execution_count": 33,
     "metadata": {},
     "output_type": "execute_result"
    }
   ],
   "source": [
    "#The five number summary for prices for old houses \n",
    "houses_old = houses[houses[\"new\"] == 0 ]\n",
    "houses_old.describe().T.drop(columns=[\"count\"]).round(2).drop(index=[\"case\",\"size\",\"new\",\"taxes\", \"bedrooms\", \"baths\"]) #drop count column, drop case,size,new,taxes, bedrooms, baths rows"
   ]
  },
  {
   "cell_type": "markdown",
   "metadata": {},
   "source": [
    "`Compare selling price: Old houses sold for an average price of $228,000 lower than new houses. They also had a significantly lower starting price ($31,000) compared to new houses ($158,000) although on the higher end, there was not a siginficant variation in price `"
   ]
  }
 ],
 "metadata": {
  "environment": {
   "kernel": "python3",
   "name": "pytorch-gpu.1-12.m102",
   "type": "gcloud",
   "uri": "gcr.io/deeplearning-platform-release/pytorch-gpu.1-12:m102"
  },
  "kernelspec": {
   "display_name": "Python 3 (ipykernel)",
   "language": "python",
   "name": "python3"
  },
  "language_info": {
   "codemirror_mode": {
    "name": "ipython",
    "version": 3
   },
   "file_extension": ".py",
   "mimetype": "text/x-python",
   "name": "python",
   "nbconvert_exporter": "python",
   "pygments_lexer": "ipython3",
   "version": "3.7.12"
  },
  "vscode": {
   "interpreter": {
    "hash": "b61bb2d7a674932f79ec86662a4165aa288473e6e47a51dc8e3ab9a9cd94608c"
   },
   "toc": {
    "number_sections": false,
    "sideBar": true
   }
  }
 },
 "nbformat": 4,
 "nbformat_minor": 4
}
