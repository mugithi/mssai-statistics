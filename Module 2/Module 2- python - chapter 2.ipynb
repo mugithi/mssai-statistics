{
 "cells": [
  {
   "cell_type": "markdown",
   "id": "a5ed79a5-7292-4d05-ac25-3ebc8a6027a7",
   "metadata": {},
   "source": [
    "#### Example of random number generation based on uniform and binomial distribution"
   ]
  },
  {
   "cell_type": "code",
   "execution_count": null,
   "id": "81df0c20-0b1a-4515-bb94-ab2967ca98d4",
   "metadata": {},
   "outputs": [],
   "source": [
    "import numpy as np\n",
    "y = list(range(0,10)) #list of int from 0-10\n",
    "y"
   ]
  },
  {
   "cell_type": "code",
   "execution_count": null,
   "id": "71d19d68-c5d2-4dbd-871e-240465532876",
   "metadata": {},
   "outputs": [],
   "source": [
    "randomlist = np.random.choice(y,7) #sample n=7 observations with replacement\n",
    "print(randomlist) #get 7 random numbers from y with replacement (repetition)"
   ]
  },
  {
   "cell_type": "code",
   "execution_count": null,
   "id": "69b1d091-da0e-4e97-88eb-a963a0670902",
   "metadata": {},
   "outputs": [],
   "source": [
    "np.random.binomial(7,0.2, size=1) #simulate 7 flips, obstain 2 heads in those flips"
   ]
  },
  {
   "cell_type": "code",
   "execution_count": null,
   "id": "3dd09d37-3f58-406b-b58d-52a44d35b832",
   "metadata": {},
   "outputs": [],
   "source": [
    "n,p = 1, 0.2\n",
    "s = np.random.binomial(n, p, 7) \n",
    "print(s)\n"
   ]
  },
  {
   "cell_type": "markdown",
   "id": "35cf92c3-8552-46b7-a335-bf96c091d7b6",
   "metadata": {},
   "source": [
    "#### Probaility of an outcome as a long run relativie frequency of **n** obsevations, taking n values 100,1000, 10000,10000 with a probability of 0.2)"
   ]
  },
  {
   "cell_type": "code",
   "execution_count": null,
   "id": "231494a6-436d-4fa0-ab27-9aaba32dbf33",
   "metadata": {},
   "outputs": [],
   "source": [
    "#roportion of \"heads\" in 100, 1000, 10000, 100000, 1000000 flips\n",
    "x1 = np.random.binomial(100, 0.2, 1); print(x1/100)\n",
    "x2 = np.random.binomial(1000, 0.2, 1); print(x2/1000)\n",
    "x3 = np.random.binomial(10000, 0.2, 1); print(x3/10000)\n",
    "x4 = np.random.binomial(100000, 0.2, 1); print(x4/100000)\n",
    "x5 = np.random.binomial(1000000, 0.2, 1); print(x5/1000000)"
   ]
  },
  {
   "cell_type": "markdown",
   "id": "0b23b0b9-35fe-4a6f-9dac-a9f01bc77eaf",
   "metadata": {},
   "source": [
    "### Derive a scotter plot"
   ]
  },
  {
   "cell_type": "code",
   "execution_count": null,
   "id": "5dc218d4-7dac-4a32-924b-fd57d1f4d78e",
   "metadata": {},
   "outputs": [],
   "source": [
    "import numpy as np\n",
    "import matplotlib.pyplot as plt\n",
    "n = 1001\n",
    "p = 0.2\n",
    "def run_bin(n, p):\n",
    "    phat = []\n",
    "    for i in range(1,n):\n",
    "        phat.append(np.random.binomial(i, p, 1)/i)\n",
    "    return phat\n",
    "phat = run_bin(n, p)\n",
    "len(phat)\n",
    "fig = plt.figure(figsize=(10,7))\n",
    "plt.scatter(range(1,n), phat, s=10)\n",
    "plt.xlabel(\"n\", size=14)\n",
    "plt.ylabel(\"propotion\", size=14)"
   ]
  },
  {
   "cell_type": "markdown",
   "id": "47072b3d-de50-4c2f-9bc6-5ae713515523",
   "metadata": {},
   "source": [
    "### Discrete probability distributions"
   ]
  },
  {
   "cell_type": "markdown",
   "id": "454e0dea-a873-451b-85af-7d410f0c3f7c",
   "metadata": {},
   "source": [
    "### Binomial distribution using the `binom` object"
   ]
  },
  {
   "cell_type": "code",
   "execution_count": null,
   "id": "8535e541-acd5-42f5-8ff1-2d0521daeeaf",
   "metadata": {},
   "outputs": [],
   "source": [
    "import numpy as np\n",
    "from scipy.stats import binom\n",
    "import matplotlib.pyplot as plt\n",
    "binom.pmf(0, 12, 0.20)  #binomial (P(Y=1) when n=12, pi=0.20\n",
    "fig, ax = plt.subplots(1,1)\n",
    "n = 12\n",
    "pi = 0.2\n",
    "y = list(range(0,13))\n",
    "ax.vlines(y, 0, binom.pmf(y, n, pi), colors='b', lw=5, alpha=0.5)\n",
    "plt.xlabel(\"y\")\n",
    "plt.ylabel(\"P(y)\")\n",
    "plt.xticks(np.arange(min(y), max(y)+1, 1.0))\n",
    "print(list(binom.pmf(y, n, pi ))) #display the binomial probabilities\n"
   ]
  },
  {
   "cell_type": "markdown",
   "id": "24eb7315-9dba-4782-957c-cfdaa7ee39be",
   "metadata": {},
   "source": [
    "### Code to construct histogram with survey for legalized marijuana "
   ]
  },
  {
   "cell_type": "code",
   "execution_count": null,
   "id": "614f6497-1552-49c4-8391-4ce8c2026688",
   "metadata": {},
   "outputs": [],
   "source": [
    "from scipy.stats import binom\n",
    "import matplotlib.pyplot as plt\n",
    "fig, ax = plt.subplots(1,1)\n",
    "n, p = 3, 0.5\n",
    "x = [0,1,2,3] # or: x=list(range(0,4))\n",
    "ax.vlines(x, 0, binom.pmf(x, n, p), colors='b', lw=5, alpha=0.5)\n",
    "plt.xlabel(\"y\")\n",
    "plt.ylabel(\"P(y)\")\n",
    "plt.xticks(np.arange(min(x), max(x)+1, 1.0))"
   ]
  },
  {
   "cell_type": "markdown",
   "id": "3bad03fa-dd8d-4c44-8ecd-e8a4c22143bc",
   "metadata": {},
   "source": [
    "## Poisson distribution"
   ]
  },
  {
   "cell_type": "code",
   "execution_count": null,
   "id": "4b1f533c-5968-4097-9370-b706a1ae58c5",
   "metadata": {},
   "outputs": [],
   "source": [
    "from scipy.stats import poisson\n",
    "poisson.pmf(0, 2.3) # P(Y=0) if Poisson mean = 2.3\n"
   ]
  },
  {
   "cell_type": "code",
   "execution_count": null,
   "id": "e98aa8d5-1394-4a57-bac3-ff319d0f1f0f",
   "metadata": {},
   "outputs": [],
   "source": [
    "poisson.cdf(130, 100) - poisson.cdf(69, 100)"
   ]
  },
  {
   "cell_type": "code",
   "execution_count": null,
   "id": "e682681f-b81e-4bde-ba84-1abbd6d0a9f6",
   "metadata": {},
   "outputs": [],
   "source": [
    "# Probability within two standard diviations"
   ]
  },
  {
   "cell_type": "code",
   "execution_count": null,
   "id": "5d493e01-8496-4bf9-9d43-324c865530b3",
   "metadata": {},
   "outputs": [],
   "source": [
    "poisson.cdf(120, 100) - poisson.cdf(79, 100)"
   ]
  },
  {
   "cell_type": "markdown",
   "id": "f5164f08-9bde-420e-8e64-6ebf7183e873",
   "metadata": {},
   "source": [
    "# Continious proability distribution"
   ]
  },
  {
   "cell_type": "markdown",
   "id": "3949979f-0f6a-4221-9d06-0fc3f6b0643d",
   "metadata": {},
   "source": [
    "### uniform distribution"
   ]
  },
  {
   "cell_type": "code",
   "execution_count": null,
   "id": "94f23098-00d6-42c3-bec9-f4e6868d8676",
   "metadata": {},
   "outputs": [],
   "source": [
    "import numpy as np\n",
    "from scipy.stats import uniform\n",
    "import matplotlib.pyplot as plt\n",
    "fig, ax = plt.subplots(1,1)\n",
    "x = np.linspace(uniform.ppf(0.01), uniform.ppf(0.99), 100)\n",
    "rv = uniform()\n",
    "ax.plot(x, rv.pdf(x), lw=2, color='blue')\n",
    "plt.plot([-0.3, 0], [0,0], lw=2, color='blue')\n",
    "plt.plot([1,1.3], [0,0], lw=2, color='blue')\n",
    "plt.xticks(np.arange(0, 1.2, 0.2))"
   ]
  },
  {
   "cell_type": "markdown",
   "id": "5b17fc9d-da3c-4687-8b30-86d7a1cf61b0",
   "metadata": {},
   "source": [
    "### Exponential and gamma distributions"
   ]
  },
  {
   "cell_type": "code",
   "execution_count": null,
   "id": "0558bbb9-560c-414a-8586-309d7c2c334e",
   "metadata": {},
   "outputs": [],
   "source": [
    "import numpy as np\n",
    "import scipy.stats as ss\n",
    "import matplotlib.pyplot as plt\n",
    "x = np.linspace(0,10,5000)\n",
    "th=1\n",
    "y = ss.expon.pdf(x, 0, th)\n",
    "plt.plot(x, y, lw=2, color=\"blue\") \n",
    "plt.xlabel(\"y\")\n",
    "plt.ylabel(\"f(y)\")"
   ]
  },
  {
   "cell_type": "markdown",
   "id": "c3984a83-0169-413a-8db5-5b91bf1859d1",
   "metadata": {},
   "source": [
    "### Probability density function of an exponetnial random variable with lamda =1\n"
   ]
  },
  {
   "cell_type": "markdown",
   "id": "bcc606da-3356-4082-bce6-5c4aa8267af7",
   "metadata": {},
   "source": [
    "### how to find the 0.05 and 0.95 quantiles of an exponential distribution "
   ]
  },
  {
   "cell_type": "code",
   "execution_count": null,
   "id": "26cfd3a8-7b7f-4b71-ab06-68211d9cc5eb",
   "metadata": {},
   "outputs": [],
   "source": [
    "from scipy.stats import expon\n",
    "quantile1, quantile2 = expon.ppf(0.05, scale=1), expon.ppf(0.95, scale=1)\n",
    "print(quantile1)\n",
    "print(quantile2)"
   ]
  },
  {
   "cell_type": "markdown",
   "id": "e3e41ee3-8caf-4e2f-a31b-1c70c79f1909",
   "metadata": {},
   "source": [
    "### Randomly generated values from an exponential distribution with λ = 0.5"
   ]
  },
  {
   "cell_type": "code",
   "execution_count": null,
   "id": "09de7b9a-5a81-42c7-a05a-174005f932e2",
   "metadata": {},
   "outputs": [],
   "source": [
    "import numpy as np\n",
    "import statistics\n",
    "import matplotlib.pyplot as plt\n",
    "X = np.random.uniform(0, 1, 1000000)\n",
    "Y = -np.log(1 - X)/(0.50) # Y has expon.dist., lambda = 0.50\n",
    "statistics.mean(Y), statistics.stdev(Y)"
   ]
  },
  {
   "cell_type": "code",
   "execution_count": null,
   "id": "28519d64-629f-471b-bb88-af6bb3f36e1c",
   "metadata": {},
   "outputs": [],
   "source": [
    "plt.hist(Y, bins=50)\n",
    "plt.xlabel('Y')\n",
    "plt.ylabel('Frequency')\n",
    "plt.xlim(0, 15)"
   ]
  },
  {
   "cell_type": "markdown",
   "id": "5fe990ee-fa76-4d47-bf64-6ed34f869f60",
   "metadata": {},
   "source": [
    "### Gamma distributions with μ = 10 and shape parameters k = 1,2 and 10"
   ]
  },
  {
   "cell_type": "code",
   "execution_count": null,
   "id": "4b4a1175-f164-47b8-8d7a-54d32ec62b25",
   "metadata": {},
   "outputs": [],
   "source": [
    "import numpy as np\n",
    "from scipy.stats import gamma\n",
    "from matplotlib import pyplot as plt\n",
    "fig, ax = plt.subplots(1, 1)\n",
    "a = np.array([1, 2, 10]) # our k\n",
    "sc =10/a # scale=1/lambda=mu/k\n",
    "x = np.linspace(0, 40, 100)\n",
    "def gamma_pdfs():\n",
    "    #fig, ax = plt.subplots(1, 1, figsize=(10, 7))\n",
    "    for i in range(3):\n",
    "        ax.plot(x, gamma.pdf(x, a[i], 0, sc[i]), lw=2)\n",
    "        ax.legend(['k=1', 'k=2', 'k=10'], loc='upper right')\n",
    "gamma_pdfs()\n",
    "plt.xlabel(\"y\")\n",
    "plt.ylabel(\"pdf f(y)\")\n"
   ]
  },
  {
   "cell_type": "markdown",
   "id": "d8a937e9-0a8a-465c-8710-b184829ea1f9",
   "metadata": {},
   "source": [
    "# Normal Distirbution"
   ]
  },
  {
   "cell_type": "markdown",
   "id": "e88cae5a-b626-473d-9020-6a19683137e1",
   "metadata": {},
   "source": [
    "#### We use the cdf of a normal distribution to find tail probabilities or central probabilitie"
   ]
  },
  {
   "cell_type": "code",
   "execution_count": null,
   "id": "80eddffb-57c1-4499-832b-bd1943e2c768",
   "metadata": {},
   "outputs": [],
   "source": [
    "from scipy.stats import norm\n",
    "norm.cdf(1) - norm.cdf(-1) # probability within 1 standard deviation of mean"
   ]
  },
  {
   "cell_type": "code",
   "execution_count": null,
   "id": "a9ce344c-3805-4af2-ba4e-c914d456912c",
   "metadata": {},
   "outputs": [],
   "source": [
    "norm.cdf(2) - norm.cdf(-2) # probability within 2 standard deviation of mean"
   ]
  },
  {
   "cell_type": "code",
   "execution_count": null,
   "id": "8c029909-3792-4253-9582-98bf1339560f",
   "metadata": {},
   "outputs": [],
   "source": [
    "norm.cdf(3) - norm.cdf(-3) # probability within 3 standard deviation of mean"
   ]
  },
  {
   "cell_type": "markdown",
   "id": "3f23a159-837b-4e35-99ef-1e9017fe1eb2",
   "metadata": {},
   "source": [
    "#### Finding probabilities and quantiles"
   ]
  },
  {
   "cell_type": "code",
   "execution_count": null,
   "id": "db0f6527-5b59-4495-b480-b0184ccd31c4",
   "metadata": {},
   "outputs": [],
   "source": [
    "from scipy.stats import norm\n",
    "norm.cdf(70,45,15) - norm.cdf(50,45,15) # mean = 45, standard dev. = 15, # probability between 50 and 7"
   ]
  },
  {
   "cell_type": "code",
   "execution_count": null,
   "id": "61d4586a-4f4b-4f9b-8a0e-e7624137e113",
   "metadata": {},
   "outputs": [],
   "source": [
    "norm.ppf(0.99) # 0.99 quantile of standard normal"
   ]
  },
  {
   "cell_type": "code",
   "execution_count": null,
   "id": "59943cbb-5349-43dd-9bd7-bb9905b8030a",
   "metadata": {},
   "outputs": [],
   "source": [
    "norm.ppf(0.99, 100, 16) # 0.99 normal quantile for IQ’s,  when mean = 100, standard deviation = 16"
   ]
  },
  {
   "cell_type": "code",
   "execution_count": null,
   "id": "d2e3aa9d-db33-4262-83ff-8f9b677f663d",
   "metadata": {},
   "outputs": [],
   "source": [
    "norm.cdf(550, 500, 100) # SAT = 550 is 69th percentile, when SAT mean = 500, standard deviation = 100"
   ]
  },
  {
   "cell_type": "code",
   "execution_count": null,
   "id": "19f268f1-881b-438c-9155-a461bc9bf433",
   "metadata": {},
   "outputs": [],
   "source": [
    "norm.cdf(30, 18, 6) # ACT = 30 is 97.7 percentile, when ACT mean = 18, standard deviation = 6"
   ]
  },
  {
   "cell_type": "markdown",
   "id": "23a49d1f-6403-49be-a5c4-4affb1b569c8",
   "metadata": {},
   "source": [
    "#### Plotting the pmf of a Poisson distribution along with the pdf of a normal with μ = 100 and σ = 10"
   ]
  },
  {
   "cell_type": "code",
   "execution_count": null,
   "id": "1a19a636-2391-41bf-b1e6-531620f6adcf",
   "metadata": {},
   "outputs": [],
   "source": [
    "from scipy.stats import poisson\n",
    "import numpy as np # additional imports to the ’poisson’\n",
    "import matplotlib.pyplot as plt\n",
    "fig, ax = plt.subplots(1, 1)\n",
    "# creation of a plot of a poisson(100) pmf follows:\n",
    "y=list(range(60,141)) # y values between 60 and 140 with increment of 1\n",
    "ax.vlines(y, 0, poisson.pmf(y, 100), colors='b', lw=1, alpha=0.5)\n",
    "ax.plot(y, norm.pdf(y,100,10),lw=2, color='r',alpha=0.5) # normal pdf\n",
    "plt.xlabel(\"y\")\n",
    "plt.ylabel(\"P(y)\")\n",
    "plt.xticks(np.arange(min(y), max(y)+1, 10))"
   ]
  },
  {
   "cell_type": "markdown",
   "id": "47daff35-27c8-49f2-9e21-42952fff45a2",
   "metadata": {},
   "source": [
    "#### Use carbon dioxide emissions values for the 31 European nations in the Carbon data file to show the Q-Q plot (quantile-quantile plot ) as a graphical comparison of an observed sample data distribution with a theoretical distribution"
   ]
  },
  {
   "cell_type": "code",
   "execution_count": null,
   "id": "4e3c2c18-d9cc-4ef5-9391-53aedfbcbe69",
   "metadata": {},
   "outputs": [],
   "source": [
    "import pandas as pd\n",
    "from scipy.stats import probplot\n",
    "from matplotlib import pyplot\n",
    "Carbon = pd.read_csv('https://stat4ds.rwth-aachen.de/data/Carbon.dat', sep='\\s+')\n",
    "probplot(Carbon['CO2'], dist = 'norm', plot = pyplot)\n",
    "Carbon2 = pd.read_csv('https://stat4ds.rwth-aachen.de/data/Carbon_West.dat', sep='\\s+')\n",
    "probplot(Carbon2['CO2'], dist = 'norm', plot = pyplot)"
   ]
  },
  {
   "cell_type": "markdown",
   "id": "aaf66d9a-3ebf-4f52-a1c6-04101c9daec3",
   "metadata": {},
   "source": [
    "# Expectations of Random Values"
   ]
  },
  {
   "cell_type": "markdown",
   "id": "b2483f0f-dd52-4da8-97fd-ae4140904892",
   "metadata": {},
   "source": [
    "### Binomial Distribution"
   ]
  },
  {
   "cell_type": "markdown",
   "id": "2cf55ea7-74ad-4c51-99ca-778c2673b035",
   "metadata": {},
   "source": [
    "#### For sufficiently large number of distributions, the sample mean is close to its the is close to its expected value"
   ]
  },
  {
   "cell_type": "code",
   "execution_count": null,
   "id": "3c92cd9d-7774-47a6-a4b9-1d5bc3645d83",
   "metadata": {},
   "outputs": [],
   "source": [
    "import numpy as np # randomly generate 10000000 bin(3,0.5) rv’s\n",
    "y = np.random.binomial(3, 0.5, 10000000)\n",
    "list(y[0: 10]) # first 10 of 10 million generated\n"
   ]
  },
  {
   "cell_type": "markdown",
   "id": "d9a2756d-2103-4007-abb3-b68f7c8019bd",
   "metadata": {},
   "source": [
    "#### Gauging the popularity of a prime minister, using a sample survey with n = 1500 when π = 0.60 -  find the probability within 2 and within 3 standard deviations of the mean"
   ]
  },
  {
   "cell_type": "code",
   "execution_count": null,
   "id": "d1c9f755-b5b2-48c2-a833-ceca97d63cd2",
   "metadata": {},
   "outputs": [],
   "source": [
    "from scipy.stats import binom\n",
    "n, p = 1500, 0.60\n",
    "mu = binom.mean(n, p) # mean of binomial(1500, 0.60)\n",
    "sigma = binom.std(n, p) # standard deviation of binomial(1500, 0.60)\n",
    "mu, sigma\n"
   ]
  },
  {
   "cell_type": "code",
   "execution_count": null,
   "id": "542c853d-2fd6-4e8f-ad1e-47bb1b1fe7f8",
   "metadata": {},
   "outputs": [],
   "source": [
    "binom.cdf(mu + 2*sigma, n, p) - binom.cdf(mu - 2*sigma, n, p) #probability within 2 standard dev’s of mean\n"
   ]
  },
  {
   "cell_type": "code",
   "execution_count": null,
   "id": "1f312b19-b181-4ec8-a475-21cf73a71188",
   "metadata": {},
   "outputs": [],
   "source": [
    "In [3]: binom.cdf(mu + 3*sigma, n,p) - binom.cdf(mu - 3*sigma, n,p) ## probability within 3 standard dev’s of mean\n"
   ]
  },
  {
   "cell_type": "markdown",
   "id": "99a5afb3-cc2d-40b2-90c6-8e4b340cf20f",
   "metadata": {},
   "source": [
    "### Uniform Distribution "
   ]
  },
  {
   "cell_type": "markdown",
   "id": "c03cc463-4c2d-43e0-be77-fae06a135719",
   "metadata": {},
   "source": [
    "#### Find the mean and standard deviation of a simulated sample of 10 million random outcomes from a uniform [0, 100] distribution, for which μ = 50.0 and σ = 28.8675"
   ]
  },
  {
   "cell_type": "code",
   "execution_count": null,
   "id": "ed09dde4-459d-433c-8db5-a4960a7d38db",
   "metadata": {},
   "outputs": [],
   "source": [
    "import numpy as np\n",
    "n=10000000\n",
    "y=np.random.uniform(0, 100, n)\n",
    "list(y[0:5]) # first 5 simulated values\n"
   ]
  },
  {
   "cell_type": "code",
   "execution_count": null,
   "id": "2d17a224-41ef-4142-8785-0d8a7298a98c",
   "metadata": {},
   "outputs": [],
   "source": [
    "#Expectations of Random Variables 21\n",
    "ymean=sum(y)/n # mean of values in list y\n",
    "ysd=np.sqrt(sum((y-ymean)**2)/(n-1)) # standard deviation of values in list y\n",
    "ymean, ysd\n"
   ]
  },
  {
   "cell_type": "code",
   "execution_count": null,
   "id": "96f80b1e-d397-4086-afea-ca6fb93e351b",
   "metadata": {},
   "outputs": [],
   "source": [
    "# alternatively:\n",
    "import statistics # required for functions for mean and st.dev.\n",
    "statistics.mean(y), statistics.stdev(y)"
   ]
  },
  {
   "cell_type": "markdown",
   "id": "399e70d8-91c3-4913-9cc0-ba3c33e91ce5",
   "metadata": {},
   "source": [
    "### Correlation For a Joint Probability Distribution"
   ]
  },
  {
   "cell_type": "markdown",
   "id": "bf3bdb1c-1af5-4190-8a16-e715bab25eb4",
   "metadata": {},
   "source": [
    "#### Find correlation between income and happiness for the joint distribution using the fact that the covariance between a random variable and itself is the variance"
   ]
  },
  {
   "cell_type": "code",
   "execution_count": null,
   "id": "b0b35d35-2e3d-4266-9342-532808623afe",
   "metadata": {},
   "outputs": [],
   "source": [
    "import numpy as np\n",
    "prob =[0.2, 0.1, 0.0, 0.1, 0.2, 0.1, 0.0, 0.1, 0.2]\n",
    "x=[1,1,1,2,2,2,3,3,3]\n",
    "y=[1,2,3,1,2,3,1,2,3]\n",
    "covxy = np.cov(x, y, rowvar=False, aweights=prob)\n",
    "covx = np.cov(x, x, rowvar=False, aweights=prob)\n",
    "covy = np.cov(y, y, rowvar=False, aweights=prob)\n",
    "r = covxy/(np.sqrt(covx*covy)) # 2x2 correlation matrix\n",
    "print(round(r[0,1], 5)) # x-y correlation: element r[0,1]=r[1,0]\n"
   ]
  },
  {
   "cell_type": "code",
   "execution_count": null,
   "id": "fbc7173c-b6a7-4bb5-a7b8-d060c6c069bb",
   "metadata": {},
   "outputs": [],
   "source": []
  }
 ],
 "metadata": {
  "environment": {
   "kernel": "python3",
   "name": "pytorch-gpu.1-12.m102",
   "type": "gcloud",
   "uri": "gcr.io/deeplearning-platform-release/pytorch-gpu.1-12:m102"
  },
  "kernelspec": {
   "display_name": "Python 3 (ipykernel)",
   "language": "python",
   "name": "python3"
  },
  "language_info": {
   "codemirror_mode": {
    "name": "ipython",
    "version": 3
   },
   "file_extension": ".py",
   "mimetype": "text/x-python",
   "name": "python",
   "nbconvert_exporter": "python",
   "pygments_lexer": "ipython3",
   "version": "3.7.12"
  }
 },
 "nbformat": 4,
 "nbformat_minor": 5
}
