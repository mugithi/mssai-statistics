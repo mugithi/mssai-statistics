{
 "cells": [
  {
   "cell_type": "markdown",
   "metadata": {},
   "source": [
    "# Assignment 2.1\n",
    "\n",
    "Name: Isaack Karanja \n",
    "Date: Tuesday, January 17, 2023"
   ]
  },
  {
   "cell_type": "markdown",
   "metadata": {},
   "source": [
    "For this assignment, you will refer to the textbook to solve the practice exercises. **Use Python to answer any coding problems (not R, even if indicated in your textbook).** Use Jupyter Notebook, Google Colab, or a similar software program to complete your assignment. Submit the assignment as a PDF file. Always label your axes and provide titles for any graphs generated on this assignment. Round all quantitative answers to 2 decimal places."
   ]
  },
  {
   "cell_type": "code",
   "execution_count": 231,
   "metadata": {},
   "outputs": [],
   "source": [
    "# Import libraries\n",
    "import numpy as np\n",
    "import pandas as pd\n",
    "import math\n",
    "from scipy.stats import probplot\n",
    "import seaborn as sns\n",
    "import matplotlib.pyplot as plt\n",
    "import scipy.stats as stats"
   ]
  },
  {
   "cell_type": "markdown",
   "metadata": {},
   "source": [
    "## Problem # 2.1."
   ]
  },
  {
   "cell_type": "markdown",
   "metadata": {},
   "source": [
    "For the rain simulation example in Section 2.1.1, but with probability of rain 0.30 on any\n",
    "given day, simulate the outcome (a) on the next day, (b) the next 10 days. (c) Simulate the\n",
    "proportion of days of rain for the next (i) 100 days, (ii) 10,000 days, (iii) 1,000,000 days. Use\n",
    "the simulation to explain the long-run relative frequency definition of probability."
   ]
  },
  {
   "cell_type": "markdown",
   "metadata": {},
   "source": [
    "`(a) Your answer goes here`"
   ]
  },
  {
   "cell_type": "code",
   "execution_count": 196,
   "metadata": {},
   "outputs": [
    {
     "data": {
      "text/plain": [
       "'no rain'"
      ]
     },
     "execution_count": 196,
     "metadata": {},
     "output_type": "execute_result"
    }
   ],
   "source": [
    "## Asuming that there are 10 conditions, and only rain only occurs in (30%) or in {2, 8, 7}  \n",
    "y = list(range(0,10)) # create list of 10 conditions, each has a uniform random chance of occurence \n",
    "probability_of_rain_tomorrow = np.random.choice(y,1) # pick one at random to simulate tomorrow\n",
    "def will_it_rain(options):\n",
    "    rain = {\n",
    "            0: \"no rain\",\n",
    "            1: \"no rain\",\n",
    "            2: \"rain\",\n",
    "            3: \"no rain\",\n",
    "            4: \"no rain\",\n",
    "            5: \"no rain\",\n",
    "            6: \"no rain\",\n",
    "            7: \"rain\",\n",
    "            8: \"rain\",\n",
    "            9: \"no rain\"\n",
    "        \n",
    "    }\n",
    "    return rain.get(options, \"nothing\")\n",
    "will_it_rain(probability_of_rain_tomorrow[0])"
   ]
  },
  {
   "cell_type": "code",
   "execution_count": 197,
   "metadata": {},
   "outputs": [
    {
     "name": "stdout",
     "output_type": "stream",
     "text": [
      "[0]\n"
     ]
    }
   ],
   "source": [
    "## Alternatively using binomial distibution, using weighted coin estimate \n",
    "n = 1 #number of simulations\n",
    "p = 0.3 #probability it rains\n",
    "d = 1 # number of days\n",
    "def which_days_will_rain(simulations, probability, number_of_days):\n",
    "    return np.random.binomial(simulations, probability, number_of_days) \n",
    "\n",
    "print(which_days_will_rain(n,p,d)) # return 1 for rain, 0 for norain\n"
   ]
  },
  {
   "cell_type": "markdown",
   "metadata": {},
   "source": [
    "`(b) Your answer goes here`"
   ]
  },
  {
   "cell_type": "code",
   "execution_count": 198,
   "metadata": {},
   "outputs": [
    {
     "name": "stdout",
     "output_type": "stream",
     "text": [
      "[0 0 1 0 0 0 1 1 0 1]\n"
     ]
    }
   ],
   "source": [
    "# Outcome of rain over the next next 10 days\n",
    "n = 1 #number of simulations\n",
    "p = 0.3 #probability it rains\n",
    "d = 10 # number of days\n",
    "print(how_many_days_will_rain(n,p,d)) # return 1 for rain, 0 for norain\n"
   ]
  },
  {
   "cell_type": "markdown",
   "metadata": {},
   "source": [
    "`(c) Your answer goes here`"
   ]
  },
  {
   "cell_type": "code",
   "execution_count": 199,
   "metadata": {},
   "outputs": [
    {
     "name": "stdout",
     "output_type": "stream",
     "text": [
      "38.0 % of days will rain over the next 100 days\n"
     ]
    }
   ],
   "source": [
    "def portion_of_days_that_will_rain(simulations, probability, number_of_days):\n",
    "    result = np.random.binomial(simulations, probability, number_of_days)/simulations\n",
    "    return round(result[0]*100,2)\n",
    "\n",
    "\n",
    "# i) Portion of days that will rain over the next 100 days\n",
    "n = 100 #number of simulations\n",
    "p = 0.3 #probability it rains\n",
    "d = 1 # number of days\n",
    "print(portion_of_days_that_will_rain(n,p,d), \"% of days will rain over the next 100 days\")\n",
    "\n"
   ]
  },
  {
   "cell_type": "code",
   "execution_count": 200,
   "metadata": {},
   "outputs": [
    {
     "name": "stdout",
     "output_type": "stream",
     "text": [
      "29.83 % of days will rain over the next 10,000 days\n"
     ]
    }
   ],
   "source": [
    "# i) Portion of days that will rain over the next 100 days\n",
    "n = 10000 #number of simulations\n",
    "p = 0.3 #probability it rains\n",
    "d = 1 # number of days\n",
    "print(portion_of_days_that_will_rain(n,p,d), \"% of days will rain over the next 10,000 days\")"
   ]
  },
  {
   "cell_type": "code",
   "execution_count": 201,
   "metadata": {},
   "outputs": [
    {
     "name": "stdout",
     "output_type": "stream",
     "text": [
      "29.96 % of days will rain over the next 1,000,000 days\n"
     ]
    }
   ],
   "source": [
    "# i) Portion of days that will rain over the next 100 days\n",
    "n = 1000000 #number of simulations\n",
    "p = 0.3 #probability it rains\n",
    "d = 1 # number of days\n",
    "print(portion_of_days_that_will_rain(n,p,d), \"% of days will rain over the next 1,000,000 days\")"
   ]
  },
  {
   "cell_type": "markdown",
   "metadata": {},
   "source": [
    "`ANS: As we can see in the simulations, the propotions of days that rain in 100, 10,000, 1,000,000 converge to 3.0 as we increase the number of days`"
   ]
  },
  {
   "cell_type": "markdown",
   "metadata": {},
   "source": [
    "## Problem # 2.2."
   ]
  },
  {
   "cell_type": "markdown",
   "metadata": {},
   "source": [
    "Data analysts often implement statistical inference methods by setting the probability of a\n",
    "correct inference equal to 0.95. Let *A* denote the event that an inference for the population\n",
    "about men is correct. Let *B* represent the event of a corresponding inference about women\n",
    "being correct. Suppose that these are independent events.\n"
   ]
  },
  {
   "cell_type": "markdown",
   "metadata": {},
   "source": [
    "(a) Find the probability that (i) *both* inferences are correct, (ii) *neither* inference is correct.  \n",
    "(b) Construct the probability distribution for *Y* = number of correct inferences.  \n",
    "(c) With what probability would each inference need to be correct in order for the probability to be 0.95 that *both* are correct?\n",
    "\n"
   ]
  },
  {
   "cell_type": "markdown",
   "metadata": {},
   "source": [
    "`(a) Your answer goes here`"
   ]
  },
  {
   "cell_type": "markdown",
   "metadata": {},
   "source": [
    "Probability of correct inference in male is  \n",
    "$P(A) = 0.95$\n",
    "\n",
    "Probability of incorrect inference in male is  \n",
    "$1-P(A)=P(A^c) = 0.05$\n",
    "\n",
    "Probability of correct inference in female is  \n",
    "$P(B) = 0.95$\n",
    "\n",
    "Probability of incorrect inference in female is  \n",
    "$1-P(B)= P(B^c) = 0.05$\n",
    "\n",
    "Due to independence \n",
    "\n",
    "i) Probability that both inferences are correct  \n",
    "$P(A\\cap B) = P(A) \\cdot P(B) = 0.90$\n",
    "\n",
    "\n",
    "ii) Probability that both inferences are incorrect   \n",
    "$P(A^c\\cap B^c) = P(A^c) \\cdot P(B^c) = 0.0025 \\space \\approx 0.00 \\space two \\space decimal\\space  places$"
   ]
  },
  {
   "cell_type": "markdown",
   "metadata": {},
   "source": [
    "`(b) Your answer goes here`"
   ]
  },
  {
   "cell_type": "markdown",
   "metadata": {},
   "source": [
    "$\\color{Red}{MISSING\\space ANSWER\\space - \\space DRAW\\space FEQUENCY\\space DISTRIBUTION}$"
   ]
  },
  {
   "cell_type": "markdown",
   "metadata": {},
   "source": [
    "`(c) Your answer goes here`"
   ]
  },
  {
   "cell_type": "markdown",
   "metadata": {},
   "source": [
    "$P(A\\cap B) = 0.95 = P(A) \\cdot P(B)$  \n",
    "\n",
    "Asuming both have the same value   \n",
    "$P(A)=P(B)$\n",
    "\n",
    "$P(A) = \\sqrt{0.95}$ "
   ]
  },
  {
   "cell_type": "code",
   "execution_count": 209,
   "metadata": {},
   "outputs": [
    {
     "name": "stdout",
     "output_type": "stream",
     "text": [
      "0.97\n"
     ]
    }
   ],
   "source": [
    "print(round(math.sqrt(0.95),2)) \n"
   ]
  },
  {
   "cell_type": "markdown",
   "metadata": {},
   "source": [
    "$P(A)=P(B)=0.97$"
   ]
  },
  {
   "cell_type": "markdown",
   "metadata": {},
   "source": [
    "## Problem # 2.4."
   ]
  },
  {
   "cell_type": "markdown",
   "metadata": {},
   "source": [
    "A wine connoisseur is asked to match five glasses of red wine with the bottles from which they\n",
    "came, representing five different grape types.\n"
   ]
  },
  {
   "cell_type": "markdown",
   "metadata": {},
   "source": [
    "(a) Set up a sample space for the five guesses.  \n",
    "(b) With random guessing, find the probability of getting all five correct."
   ]
  },
  {
   "cell_type": "markdown",
   "metadata": {},
   "source": [
    "`(a) Your answer goes here`"
   ]
  },
  {
   "cell_type": "markdown",
   "metadata": {},
   "source": [
    "Five wine glasses $\\{glass1,glass2,glass3,glass4,glass5\\}$ matched with Five wine bottles $\\{bottle1, bottle2,bottle3,bottle4,bottle5\\}$ any of the combinations below are likely  \n",
    "  \n",
    "  \n",
    "$\\{(glass1, bottle1),(glass1, bottle2),(glass1, bottle3),(glass1, bottle4),(glass1, bottle5), \\\\  \n",
    "(glass2, bottle1),(glass2, bottle2),(glass2, bottle3),(glass2, bottle4),(glass2, bottle5), \\\\  \n",
    "(glass3, bottle1),(glass3, bottle2),(glass3, bottle3),(glass3, bottle4),(glass3, bottle5),  \\\\\n",
    "(glass4, bottle1),(glass4, bottle2),(glass4, bottle3),(glass4, bottle4),(glass4, bottle5),  \\\\\n",
    "(glass5, bottle1),(glass5, bottle2),(glass5, bottle3),(glass5, bottle4),(glass5, bottle5)\\}$   \n",
    "\n",
    "with a sample space of $S=25$"
   ]
  },
  {
   "cell_type": "markdown",
   "metadata": {},
   "source": [
    "`(b) Your answer goes here`"
   ]
  },
  {
   "cell_type": "markdown",
   "metadata": {},
   "source": [
    "The probability of getting glass correctly matched with the bottle\n",
    "$P(glass1) = \\frac{1}{5}$  \n",
    "$P(glass2) = \\frac{1}{5}$  \n",
    "$P(glass3) = \\frac{1}{5}$  \n",
    "$P(glass4) = \\frac{1}{5}$  \n",
    "$P(glass5) = \\frac{1}{5}$  \n",
    "\n",
    "\n",
    "Probability of getting all glasses matched with the correct bottles is   \n",
    "$P(glass1)\\cap P(glass2)\\cap P(glass3)\\cap P(glass4)\\cap P(glass5) = \\frac{1}{5} \\cdot \\frac{1}{5} \\cdot \\frac{1}{5} \\cdot \\frac{1}{5} \\cdot \\frac{1}{5} \\cdot$"
   ]
  },
  {
   "cell_type": "code",
   "execution_count": 203,
   "metadata": {},
   "outputs": [
    {
     "data": {
      "text/plain": [
       "0.0003200000000000001"
      ]
     },
     "execution_count": 203,
     "metadata": {},
     "output_type": "execute_result"
    }
   ],
   "source": [
    "(1/5)**5 # Roundoff to 0.00 to two decimal places"
   ]
  },
  {
   "cell_type": "markdown",
   "metadata": {},
   "source": [
    "## Problem # 2.9. "
   ]
  },
  {
   "cell_type": "markdown",
   "metadata": {},
   "source": [
    "A quiz has ten multiple-choice questions, with five possible answers for each. A student who\n",
    "is completely unprepared randomly guesses the answer for each question. Let *Y* denote the\n",
    "number of correct responses.\n"
   ]
  },
  {
   "cell_type": "markdown",
   "metadata": {},
   "source": [
    "(a) Find the probability that the students gets (i) all 10, (ii) none of the questions correct.    \n",
    "(b) Find the mean and standard deviation of the probability distribution of *Y*."
   ]
  },
  {
   "cell_type": "markdown",
   "metadata": {},
   "source": [
    "`(a) Your answer goes here`"
   ]
  },
  {
   "cell_type": "markdown",
   "metadata": {},
   "source": [
    "Sample space $S=50$\n",
    "\n",
    "$\\{(q1, ans1), (q1, ans2), (q1, ans3). (q1, ans4), (q1, ans5), \\\\\n",
    "(q2, ans1), (q2, ans2), (q2, ans3), (q2, ans4), (q2, ans5), \\\\\n",
    "(q3, ans1), (q3, ans2), (q3, ans3), (q3, ans4), (q3, ans5), \\\\\n",
    "(q4, ans1), (q4, ans2), (q4, ans3), (q4, ans4), (q4, ans5), \\\\\n",
    "(q5, ans1), (q5, ans2), (q5, ans3), (q5, ans4), (q5, ans5), \\\\\n",
    "(q6, ans1), (q6, ans2), (q6, ans3), (q6, ans4), (q6, ans5), \\\\\n",
    "(q7, ans1), (q7, ans2), (q7, ans3), (q7, ans4), (q7, ans5), \\\\\n",
    "(q8, ans1), (q8, ans2), (q8, ans3), (q8, ans4), (q8, ans5), \\\\\n",
    "(q9, ans1), (q9, ans2), (q9, ans3), (q9, ans4), (q9, ans5), \\\\\n",
    "(q10, ans1), (q10, ans2), (q10, ans3), (q10, ans4), (q10, ans5)\\}$\n",
    "\n",
    "\n",
    "`i) probability that the student gets all 10 correct`\n",
    "\n",
    "\n",
    "probability that question 1 $P(q1) = \\frac{1}{5}$ , this is probability that $P(q2-q10)$ are correct\n",
    "\n",
    "probability that all 10 questions are correct \n",
    "$P(all) = \\frac{1}{5}^{10}$\n",
    "\n",
    "\n"
   ]
  },
  {
   "cell_type": "code",
   "execution_count": 204,
   "metadata": {},
   "outputs": [
    {
     "data": {
      "text/plain": [
       "1.0240000000000006e-07"
      ]
     },
     "execution_count": 204,
     "metadata": {},
     "output_type": "execute_result"
    }
   ],
   "source": [
    "(1/5)**10 # Rounds off to 0.00 to two decimal places"
   ]
  },
  {
   "cell_type": "markdown",
   "metadata": {},
   "source": [
    "`ii) probability that the student gets all 10 incorrect`\n",
    "\n",
    "probability that question 1 is correct which is the exact probability for all questions  \n",
    "$P(q1) = \\frac{1}{5}$\n",
    "\n",
    "probability that question 1 is **incorrect** which is the exact probability for all questions  \n",
    "$P(q1^c) = 1 - \\frac{1}{5} = \\frac{4}{5}$\n",
    "\n",
    "probability that all 10 questions are **incorrect**  \n",
    "$P(qall^c) = \\frac{4}{5}^{10}$\n"
   ]
  },
  {
   "cell_type": "code",
   "execution_count": 206,
   "metadata": {},
   "outputs": [
    {
     "data": {
      "text/plain": [
       "0.11"
      ]
     },
     "execution_count": 206,
     "metadata": {},
     "output_type": "execute_result"
    }
   ],
   "source": [
    "round((4/5)**10,2) # equals to 0.1073 rounding off to two decimal places"
   ]
  },
  {
   "cell_type": "markdown",
   "metadata": {},
   "source": [
    "`(b) Your answer goes here`"
   ]
  },
  {
   "cell_type": "code",
   "execution_count": 207,
   "metadata": {},
   "outputs": [
    {
     "name": "stdout",
     "output_type": "stream",
     "text": [
      "2.0\n"
     ]
    }
   ],
   "source": [
    "# Mean \n",
    "trials=number_of_questions = 10\n",
    "probability_correct_response = (1/5)\n",
    "mean = trials*probability\n",
    "print(round(mean,2))"
   ]
  },
  {
   "cell_type": "code",
   "execution_count": 208,
   "metadata": {},
   "outputs": [
    {
     "name": "stdout",
     "output_type": "stream",
     "text": [
      "1.26\n"
     ]
    }
   ],
   "source": [
    "# Standard Deviation \n",
    "trials=number_of_questions = 10\n",
    "probability_correct_response = (1/5)\n",
    "standard_deviation = math.sqrt(trials * probability_correct_response*(1 - probability_correct_response))\n",
    "print(round(standard_deviation,2))"
   ]
  },
  {
   "cell_type": "markdown",
   "metadata": {},
   "source": [
    "## Problem # 2.15."
   ]
  },
  {
   "cell_type": "markdown",
   "metadata": {},
   "source": [
    "Each week an insurance company records *Y* = number of payments because of a home burning\n",
    "down. State conditions under which we would expect *Y* to approximately have a Poisson\n",
    "distribution.\n"
   ]
  },
  {
   "cell_type": "markdown",
   "metadata": {},
   "source": [
    "`Your answer goes here`"
   ]
  },
  {
   "cell_type": "markdown",
   "metadata": {},
   "source": [
    "Poisson distribution describes events that happen randomly over time that meet the following criteria   \n",
    "\n",
    "a) Counts of events in disjointed periods are independent  \n",
    "**Home burning down a the random event; Y(number of payments) would only have a Poisson distribution only if they were resolved within the same week or fixed time after the home burnt down(random event)**  \n",
    "\n",
    "b) It is essentially imposisible to have two or more events simultaneously  \n",
    "**No two Y(number of payments) could be issued at the same time**\n",
    "\n",
    "c) The rate of occurences is constant  \n",
    "**There were no end of quarter pressures to get out Y(number of payments) that would skew the unformity of the payments**\n",
    "\n",
    "\n",
    "It would be difficult for Y(number of payments) to have a Poisson distribution \n"
   ]
  },
  {
   "cell_type": "markdown",
   "metadata": {},
   "source": [
    "## Problem # 2.16."
   ]
  },
  {
   "cell_type": "markdown",
   "metadata": {},
   "source": [
    "Each day a hospital records the number of people who come to the emergency room for treatment."
   ]
  },
  {
   "cell_type": "markdown",
   "metadata": {},
   "source": [
    "(a)  In the first week, the observations from Sunday to Saturday are 10, 8, 14, 7, 21, 44, 60.\n",
    "Do you think that the Poisson distribution might describe the random variability of this\n",
    "phenomenon adequately. Why or why not?  \n",
    "(b) Would you expect the Poisson distribution to better describe, or more poorly describe,\n",
    "the number of weekly admissions to the hospital for a rare disease? Why?"
   ]
  },
  {
   "cell_type": "markdown",
   "metadata": {},
   "source": [
    "`(a) Your answer goes here`"
   ]
  },
  {
   "cell_type": "markdown",
   "metadata": {},
   "source": [
    "Poisson distribution describes events that happen randomly over time that meet the following criteria  \n",
    "a) Counts of events in disjointed periods are independnt  - **Each week's emergency room admissions are independnt, week over week**  \n",
    "b) It is essentially imposisible to have two or more events simultaneously - **It is highly probable that more then one patient can walk in to the emergency room at the same time, for example in the case of a high casulaty event**  \n",
    "c) The rate of occurences is constant  **Each week is constant**\n",
    "\n",
    "Although in most cases Poisson distribution can be used to describe the random variability of patients who came into the emergency room for treatment, it is **not appropriate tool to use** in such cases as  high casualty events that result in a large number of admissions in the emergency room.\n",
    "\n"
   ]
  },
  {
   "cell_type": "markdown",
   "metadata": {},
   "source": [
    "`(b) Your answer goes here`"
   ]
  },
  {
   "cell_type": "markdown",
   "metadata": {},
   "source": [
    "In the case of a rear hospital desease, Possion distribution **can** more adequately model the number of weekly admissions to the hospital for a rare disease because  \n",
    "\n",
    "a) **Each week's admissions are independnt, week over week**   \n",
    "b) **In the case of a rare desease, it is highly improbable that more than one patients can be admited; and admission will be uniformly distributed over time**  \n",
    "c) **Each week is constant**"
   ]
  },
  {
   "cell_type": "markdown",
   "metadata": {},
   "source": [
    "## Problem # 2.17."
   ]
  },
  {
   "cell_type": "markdown",
   "metadata": {},
   "source": [
    "An instructor gives a course grade of B to students who have total score on exams and homeworks between 800 and 900, where the maximum possible is 1000. If the total scores have\n",
    "approximately a normal distribution with mean 830 and standard deviation 50, about what proportion of the students receive a B?\n"
   ]
  },
  {
   "cell_type": "markdown",
   "metadata": {},
   "source": [
    "`Your answer goes here`"
   ]
  },
  {
   "cell_type": "code",
   "execution_count": 222,
   "metadata": {},
   "outputs": [
    {
     "name": "stdout",
     "output_type": "stream",
     "text": [
      "64.0 % of students scored between 800 and 900 points\n"
     ]
    }
   ],
   "source": [
    "# Use cdf function to find the proportion of students who scored between 900 and 800 points since this is a normal distribution\n",
    "from scipy.stats import norm\n",
    "mean = 830\n",
    "standard_dev = 50\n",
    "range_min=800\n",
    "range_max=900\n",
    "max_possible=1000\n",
    "proportion_of_students = round(norm.cdf(range_max,mean,standard_dev) - norm.cdf(range_min,mean,standard_dev),2) \n",
    "print(proportion_of_students*100,\"% of students scored between\",range_min,\"and\",range_max,\"points\")"
   ]
  },
  {
   "cell_type": "markdown",
   "metadata": {},
   "source": [
    "## Problem # 2.20."
   ]
  },
  {
   "cell_type": "markdown",
   "metadata": {},
   "source": [
    "Create a data file with the income values in the `Income` data file at the text website."
   ]
  },
  {
   "cell_type": "markdown",
   "metadata": {},
   "source": [
    "(a) Construct a histogram or a smooth-curve approximation for the *pdf* of income in the\n",
    "corresponding population by plotting results using the density function in python (explained\n",
    "in Exercise 1.18).  \n",
    "(b)  Of the probability distributions studied in this chapter, which do you think might be\n",
    "most appropriate for these data? Why? Plot the probability function of that distribution\n",
    "having the same mean and standard deviation as the income values. Does it seem to\n",
    "describe the income distribution well?\n"
   ]
  },
  {
   "cell_type": "markdown",
   "metadata": {},
   "source": [
    "`(a) Your answer goes here`"
   ]
  },
  {
   "cell_type": "code",
   "execution_count": 263,
   "metadata": {},
   "outputs": [
    {
     "data": {
      "image/png": "[encoded data removed]",
      "text/plain": [
       "<Figure size 640x480 with 1 Axes>"
      ]
     },
     "metadata": {},
     "output_type": "display_data"
    }
   ],
   "source": [
    "# Read in the Income data file into a panda's dataframe\n",
    "income = pd.read_csv('https://stat4ds.rwth-aachen.de/data/Income.dat', sep='\\s+')\n",
    "# Plot the histogram\n",
    "income.hist([\"income\"], grid=False)\n",
    "plt.xlabel(\"Income in thousands of dollars\")\n",
    "plt.ylabel(\"count of individuals\")\n",
    "plt.title(\"Historgram of income\")\n",
    "plt.show()\n"
   ]
  },
  {
   "cell_type": "code",
   "execution_count": 260,
   "metadata": {},
   "outputs": [
    {
     "data": {
      "image/png": "[encoded data removed]",
      "text/plain": [
       "<Figure size 640x480 with 1 Axes>"
      ]
     },
     "metadata": {},
     "output_type": "display_data"
    }
   ],
   "source": [
    "# use sns to plot the smooth curve approximation\n",
    "sns.histplot(income.income, kde=True)\n",
    "plt.xlabel(\"Income in thousands of dollars\")\n",
    "plt.ylabel(\"count of individuals\")\n",
    "plt.title(\"Historgram of income\")\n",
    "plt.show()"
   ]
  },
  {
   "cell_type": "markdown",
   "metadata": {},
   "source": [
    "`(b) Your answer goes here`"
   ]
  },
  {
   "cell_type": "markdown",
   "metadata": {},
   "source": [
    "The most appropraite distribution is the Gaussian distribution. Since salaries are continous, The gausian distribution should show that the bulk of the observations generated from a normal distribution lie near the mean, which lies at the exact center of the distribution: as a rule of thumb, about 68% of the data lies within 1 standard deviation of the mean, 95% lies within 2 standard deviations and 99.7% lies within 3 standard deviations.\n",
    "\n",
    "With income, we have values that \n"
   ]
  },
  {
   "cell_type": "code",
   "execution_count": 275,
   "metadata": {},
   "outputs": [
    {
     "name": "stdout",
     "output_type": "stream",
     "text": [
      "37.52 mean\n",
      "20.67 std\n"
     ]
    }
   ],
   "source": [
    "print(income[\"income\"].describe()[\"mean\"].round(2),\"mean\")\n",
    "print(income[\"income\"].describe()[\"std\"].round(2), \"std\")"
   ]
  },
  {
   "cell_type": "code",
   "execution_count": 336,
   "metadata": {},
   "outputs": [
    {
     "data": {
      "image/png": "[encoded data removed]",
      "text/plain": [
       "<Figure size 1000x500 with 1 Axes>"
      ]
     },
     "metadata": {},
     "output_type": "display_data"
    }
   ],
   "source": [
    "# Plot normal distribution centered around the mean with loc of standard deviation\n",
    "x_axis = np.sort(income[\"income\"])\n",
    "\n",
    "# Calculating mean and standard deviation\n",
    "plt.figure(figsize=(10, 5))\n",
    "mean = income[\"income\"].describe()[\"mean\"]\n",
    "std = income[\"income\"].describe()[\"std\"]\n",
    "plt.plot(x_axis, norm.pdf(x_axis, mean, std), lw=2, color='r')\n",
    "plt.xlabel(\"Income in thousands of dollars\")\n",
    "plt.title(\"Gausian distribution of income\")\n",
    "plt.show()\n"
   ]
  },
  {
   "cell_type": "code",
   "execution_count": 347,
   "metadata": {},
   "outputs": [
    {
     "data": {
      "image/png": "[encoded data removed]",
      "text/plain": [
       "<Figure size 640x480 with 1 Axes>"
      ]
     },
     "metadata": {},
     "output_type": "display_data"
    }
   ],
   "source": [
    "# Box plot of income\n",
    "income.boxplot([\"income\"],grid = False ) # re-orient\n",
    "plt.title ('Boxplot of Income in thousands of dollars') # title\n",
    "plt.ylabel('Count of individuals')                    # y-axis\n",
    "plt.show()"
   ]
  },
  {
   "cell_type": "markdown",
   "metadata": {},
   "source": [
    "`Although the income follow a gausian distribution, for four of the income observations fall outside three(3) standdar deviations`"
   ]
  },
  {
   "cell_type": "markdown",
   "metadata": {},
   "source": [
    "## Problem # 2.21."
   ]
  },
  {
   "cell_type": "markdown",
   "metadata": {},
   "source": [
    "Plot the gamma distribution by fixing the shape parameter *k* = 3 and setting the scale parameter\n",
    "= 0.5, 1, 2, 3, 4, 5. What is the effect of increasing the scale parameter? (See also Exercise 2.48.)"
   ]
  },
  {
   "cell_type": "markdown",
   "metadata": {},
   "source": [
    "`Your answer goes here`"
   ]
  },
  {
   "cell_type": "code",
   "execution_count": 378,
   "metadata": {},
   "outputs": [
    {
     "data": {
      "image/png": "[encoded data removed]",
      "text/plain": [
       "<Figure size 640x480 with 1 Axes>"
      ]
     },
     "metadata": {},
     "output_type": "display_data"
    }
   ],
   "source": [
    "import numpy as np\n",
    "from scipy.stats import gamma\n",
    "from matplotlib import pyplot as plt\n",
    "fig, ax = plt.subplots(1, 1)\n",
    "sc_np = np.array([0.5, 1, 2, 3, 4, 5]) # scale parameter \n",
    "k = 3 # Fixed K\n",
    "\n",
    "# Create an array \n",
    "x = np.linspace(0, 40, 100)\n",
    "\n",
    "#Function to plot the gamma distribution with fixed k and increasing scale parameter\n",
    "def gamma_pdfs(sc, k):\n",
    "    sc = sc.tolist()\n",
    "    for i in range(len(sc)):\n",
    "        ax.plot(x, gamma.pdf(x, k, 0, sc[i]), lw=2)\n",
    "        ax.legend(['sc=0.5', 'sc=1', 'sc=2','sc=3','sc=4','sc=5'], loc='upper right')\n",
    "gamma_pdfs(sc_np, k)\n",
    "plt.xlabel(\"y\")\n",
    "plt.ylabel(\"pdf f(y)\")\n",
    "plt.show()"
   ]
  },
  {
   "cell_type": "markdown",
   "metadata": {},
   "source": [
    "`The scale parameter represents the variability, as shown on the graph above, the higher values cause the distribution to expand further right and decrease the height.`"
   ]
  },
  {
   "cell_type": "markdown",
   "metadata": {},
   "source": [
    "## Problem # 2.22."
   ]
  },
  {
   "cell_type": "markdown",
   "metadata": {},
   "source": [
    "Consider the mammogram diagnostic example in Section 2.1.4."
   ]
  },
  {
   "cell_type": "markdown",
   "metadata": {},
   "source": [
    "(a) Show that the joint probability distribution of diagnosis and disease status is as shown in\n",
    "Table 2.6. Given that a diagnostic test result is positive, explain how this joint distribution\n",
    "shows that the 12% of incorrect diagnoses for the 99% of women not having breast cancer\n",
    "swamp the 86% of correct diagnoses for the 1% of women actually having breast cancer.  \n",
    "(b) The first test for detecting HIV-positive status had a sensitivity of 0.999 and specificity\n",
    "of 0.9999. Explain what these mean. If at that time 1 in 10,000 men were truly HIVpositive, find the positive predictive value. Based on this example, explain the potential\n",
    "disadvantage of routine diagnostic screening of a population for a rare disease.\n",
    "\n",
    "**TABLE 2.6** Joint probability distribution for disease status and diagnosis of breast cancer\n",
    "mammogram, based on conditional probabilities in Table 2.1\n",
    "\n",
    "| **Disease Status** | **Diagnosis from Mammogram** |              |           |\n",
    "|--------------------|------------------------------|--------------|-----------|\n",
    "|                    | Positive (+)                 | Negative (-) | **Total** |\n",
    "| Yes (D)            | 0.0086                       | 0.0014       | 0.01      |\n",
    "| No ($D^c$)         | 0.1188                       | 0.8712       | 0.99      |"
   ]
  },
  {
   "cell_type": "markdown",
   "metadata": {},
   "source": [
    "`Your answer goes here`"
   ]
  },
  {
   "cell_type": "code",
   "execution_count": null,
   "metadata": {},
   "outputs": [],
   "source": []
  },
  {
   "cell_type": "markdown",
   "metadata": {},
   "source": [
    "## Problem # 2.26."
   ]
  },
  {
   "cell_type": "markdown",
   "metadata": {},
   "source": [
    "Refer to Table 2.4 cross classifying happiness with family income."
   ]
  },
  {
   "cell_type": "markdown",
   "metadata": {},
   "source": [
    "(a) Find and interpret the correlation using scores (i) (1, 2, 3) for each variable, (ii) (1, 2, 3)\n",
    "for family income and (1, 4, 5) for happiness.  \n",
    "(b) Construct the joint distribution that has these marginal distributions and exhibits independence of *X* and *Y* ."
   ]
  },
  {
   "cell_type": "markdown",
   "metadata": {},
   "source": [
    "`(a) Your answer goes here`"
   ]
  },
  {
   "cell_type": "code",
   "execution_count": null,
   "metadata": {},
   "outputs": [],
   "source": []
  },
  {
   "cell_type": "markdown",
   "metadata": {},
   "source": [
    "`(b) Your answer goes here`"
   ]
  },
  {
   "cell_type": "code",
   "execution_count": null,
   "metadata": {},
   "outputs": [],
   "source": []
  },
  {
   "cell_type": "markdown",
   "metadata": {},
   "source": [
    "## Problem # 2.27."
   ]
  },
  {
   "cell_type": "markdown",
   "metadata": {},
   "source": [
    "The distribution of *X* = heights *(cm)* of women in the U.K. is approximately *N*(162, $7^2$).\n",
    "Conditional on *X = x*, suppose *Y* = weight *(kg)* has a *N*(3.0 + 0.40x, $8^2$) distribution. Simulate\n",
    "and plot 1000 observations from this approximate bivariate normal distribution. Approximate\n",
    "the marginal means and standard deviations for *X* and *Y*. Approximate and interpret the\n",
    "correlation.\n"
   ]
  },
  {
   "cell_type": "markdown",
   "metadata": {},
   "source": [
    "`Your answer goes here`"
   ]
  },
  {
   "cell_type": "code",
   "execution_count": null,
   "metadata": {},
   "outputs": [],
   "source": []
  }
 ],
 "metadata": {
  "environment": {
   "kernel": "python3",
   "name": "pytorch-gpu.1-12.m102",
   "type": "gcloud",
   "uri": "gcr.io/deeplearning-platform-release/pytorch-gpu.1-12:m102"
  },
  "kernelspec": {
   "display_name": "Python 3 (ipykernel)",
   "language": "python",
   "name": "python3"
  },
  "language_info": {
   "codemirror_mode": {
    "name": "ipython",
    "version": 3
   },
   "file_extension": ".py",
   "mimetype": "text/x-python",
   "name": "python",
   "nbconvert_exporter": "python",
   "pygments_lexer": "ipython3",
   "version": "3.7.12"
  }
 },
 "nbformat": 4,
 "nbformat_minor": 4
}
