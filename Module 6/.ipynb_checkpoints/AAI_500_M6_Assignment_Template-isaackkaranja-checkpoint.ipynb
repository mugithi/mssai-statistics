{
 "cells": [
  {
   "cell_type": "markdown",
   "metadata": {},
   "source": [
    "# Assignment 6.1\n",
    "\n",
    "Name: Isaack Karanja \n",
    "Date: Feb  17th, 2023"
   ]
  },
  {
   "cell_type": "markdown",
   "metadata": {},
   "source": [
    "For this assignment, you will refer to the textbook to solve the practice exercises. **Use Python to answer any coding problems (not R, even if indicated in your textbook).** Use Jupyter Notebook, Google Colab, or a similar software program to complete your assignment. Submit the assignment as a PDF file. Always label your axes and provide titles for any graphs generated on this assignment. Round all quantitative answers to 2 decimal places."
   ]
  },
  {
   "cell_type": "code",
   "execution_count": 1,
   "metadata": {},
   "outputs": [
    {
     "name": "stdout",
     "output_type": "stream",
     "text": [
      "[main 0fac79d] assigngment 6.1\n",
      " 1 file changed, 213 insertions(+), 27 deletions(-)\n",
      "Enumerating objects: 7, done.\n",
      "Counting objects: 100% (7/7), done.\n",
      "Delta compression using up to 4 threads\n",
      "Compressing objects: 100% (4/4), done.\n",
      "Writing objects: 100% (4/4), 1.83 KiB | 233.00 KiB/s, done.\n",
      "Total 4 (delta 3), reused 0 (delta 0), pack-reused 0\n",
      "remote: Resolving deltas: 100% (3/3), completed with 3 local objects.\u001b[K\n",
      "To https://github.com/mugithi/mssai-statistics.git\n",
      "   6287f32..0fac79d  main -> main\n"
     ]
    }
   ],
   "source": [
    "!git add .\n",
    "!git commit -am \"assigngment 6.1\"\n",
    "!git push "
   ]
  },
  {
   "cell_type": "markdown",
   "metadata": {},
   "source": [
    "## Problem 6.1."
   ]
  },
  {
   "cell_type": "markdown",
   "metadata": {},
   "source": [
    "For the Scottish hill `Races` data, a linear model can predict men’s record times from women’s record times.  \n",
    "http://stat4ds.rwth-aachen.de/data/ScotsRaces.dat\n"
   ]
  },
  {
   "cell_type": "code",
   "execution_count": 2,
   "metadata": {},
   "outputs": [],
   "source": [
    "import numpy as np\n",
    "import statistics # use for mean and standard deviation functions\n",
    "from matplotlib import pyplot as plt\n",
    "from scipy import stats\n",
    "import pandas as pd\n",
    "from scipy.stats import poisson\n",
    "from scipy.stats import binom\n",
    "from scipy.stats import norm\n",
    "from scipy.stats import cauchy\n",
    "from statsmodels.stats.proportion import proportion_confint\n",
    "from statsmodels.stats.proportion import proportions_ztest\n",
    "import statsmodels.formula.api as smf\n",
    "import statsmodels.api as sm\n",
    "import statsmodels.stats.api as sms\n",
    "import statsmodels.stats.multitest as mt\n",
    "from sklearn import preprocessing\n",
    "import statsmodels.stats.multicomp as mc\n",
    "import pymc3\n",
    "from scipy.stats import beta\n",
    "import arviz as az\n",
    "from scipy.stats import uniform\n",
    "from matplotlib import gridspec\n",
    "import math\n",
    "import seaborn as sns\n",
    "import warnings\n",
    "warnings.filterwarnings('ignore')"
   ]
  },
  {
   "cell_type": "markdown",
   "metadata": {},
   "source": [
    "(a) Show the scatterplot and report the prediction equation. Predict the men’s record time for the Highland Fling, for which timeW = 490.05 minutes."
   ]
  },
  {
   "cell_type": "markdown",
   "metadata": {},
   "source": [
    "`Your answer goes here`"
   ]
  },
  {
   "cell_type": "code",
   "execution_count": 3,
   "metadata": {},
   "outputs": [
    {
     "name": "stdout",
     "output_type": "stream",
     "text": [
      "AnTeallach         1\n",
      "KnockCrieff        1\n",
      "MaddyMoss          1\n",
      "LomondsofFife      1\n",
      "LochLochyMunros    1\n",
      "                  ..\n",
      "DonardCommedagh    1\n",
      "Durisdeer          1\n",
      "EildonTwo          1\n",
      "FeelTheBurns       1\n",
      "Yetholm            1\n",
      "Name: race, Length: 68, dtype: int64\n"
     ]
    }
   ],
   "source": [
    "# Read in the Scott Races data file\n",
    "\n",
    "scottraces = pd.read_csv('https://stat4ds.rwth-aachen.de/data/ScotsRaces.dat', sep='\\s+')\n",
    "print(scottraces['race'].value_counts())"
   ]
  },
  {
   "cell_type": "code",
   "execution_count": 4,
   "metadata": {},
   "outputs": [
    {
     "data": {
      "text/html": [
       "<div>\n",
       "<style scoped>\n",
       "    .dataframe tbody tr th:only-of-type {\n",
       "        vertical-align: middle;\n",
       "    }\n",
       "\n",
       "    .dataframe tbody tr th {\n",
       "        vertical-align: top;\n",
       "    }\n",
       "\n",
       "    .dataframe thead th {\n",
       "        text-align: right;\n",
       "    }\n",
       "</style>\n",
       "<table border=\"1\" class=\"dataframe\">\n",
       "  <thead>\n",
       "    <tr style=\"text-align: right;\">\n",
       "      <th></th>\n",
       "      <th>distance</th>\n",
       "      <th>climb</th>\n",
       "      <th>timeM</th>\n",
       "      <th>timeW</th>\n",
       "    </tr>\n",
       "  </thead>\n",
       "  <tbody>\n",
       "    <tr>\n",
       "      <th>0</th>\n",
       "      <td>10.6</td>\n",
       "      <td>1.062</td>\n",
       "      <td>74.68</td>\n",
       "      <td>89.72</td>\n",
       "    </tr>\n",
       "    <tr>\n",
       "      <th>1</th>\n",
       "      <td>25.0</td>\n",
       "      <td>2.400</td>\n",
       "      <td>187.32</td>\n",
       "      <td>222.03</td>\n",
       "    </tr>\n",
       "    <tr>\n",
       "      <th>2</th>\n",
       "      <td>16.4</td>\n",
       "      <td>0.650</td>\n",
       "      <td>87.18</td>\n",
       "      <td>102.48</td>\n",
       "    </tr>\n",
       "    <tr>\n",
       "      <th>3</th>\n",
       "      <td>10.2</td>\n",
       "      <td>0.260</td>\n",
       "      <td>41.58</td>\n",
       "      <td>52.52</td>\n",
       "    </tr>\n",
       "    <tr>\n",
       "      <th>4</th>\n",
       "      <td>12.0</td>\n",
       "      <td>0.240</td>\n",
       "      <td>47.75</td>\n",
       "      <td>58.78</td>\n",
       "    </tr>\n",
       "  </tbody>\n",
       "</table>\n",
       "</div>"
      ],
      "text/plain": [
       "   distance  climb   timeM   timeW\n",
       "0      10.6  1.062   74.68   89.72\n",
       "1      25.0  2.400  187.32  222.03\n",
       "2      16.4  0.650   87.18  102.48\n",
       "3      10.2  0.260   41.58   52.52\n",
       "4      12.0  0.240   47.75   58.78"
      ]
     },
     "execution_count": 4,
     "metadata": {},
     "output_type": "execute_result"
    }
   ],
   "source": [
    "scottraces_clean = scottraces.drop(['race'], axis=1) #Create a matrix and drop WomenTime and RaceName columns \n",
    "scottraces_clean.head()"
   ]
  },
  {
   "cell_type": "code",
   "execution_count": 5,
   "metadata": {},
   "outputs": [
    {
     "data": {
      "image/png": "[encoded data removed]",
      "text/plain": [
       "<Figure size 640x480 with 1 Axes>"
      ]
     },
     "metadata": {},
     "output_type": "display_data"
    },
    {
     "data": {
      "image/png": "[encoded data removed]",
      "text/plain": [
       "<Figure size 640x480 with 1 Axes>"
      ]
     },
     "metadata": {},
     "output_type": "display_data"
    },
    {
     "data": {
      "image/png": "[encoded data removed]",
      "text/plain": [
       "<Figure size 640x480 with 1 Axes>"
      ]
     },
     "metadata": {},
     "output_type": "display_data"
    }
   ],
   "source": [
    "y_col = 'timeM'\n",
    "\n",
    "x_columns = ['distance', 'climb','timeW']\n",
    "\n",
    "for x_col in x_columns:\n",
    "    figure = plt.figure()\n",
    "    ax = plt.gca()\n",
    "    m, b = np.polyfit(scottraces_clean[x_col], scottraces_clean[y_col], 1)\n",
    "    plt.plot(scottraces_clean[x_col], m*scottraces_clean[x_col]+b, color = 'red')\n",
    "    ax.scatter(scottraces_clean[x_col], scottraces_clean[y_col])\n",
    "    ax.set_xlabel(x_col)\n",
    "    ax.set_ylabel(y_col)\n",
    "    corr = round(np.corrcoef(scottraces_clean[x_col], scottraces_clean[y_col])[0,1],2) \n",
    "    ax.set_title('{} vs. {};'.format(x_col, y_col) \n",
    "                 + ' $\\mathit{r}$ = ' \n",
    "                 + '{:.2f}'.format(corr))\n",
    "    plt.show()"
   ]
  },
  {
   "cell_type": "code",
   "execution_count": 6,
   "metadata": {},
   "outputs": [
    {
     "name": "stdout",
     "output_type": "stream",
     "text": [
      "                            OLS Regression Results                            \n",
      "==============================================================================\n",
      "Dep. Variable:                  timeM   R-squared:                       0.993\n",
      "Model:                            OLS   Adj. R-squared:                  0.993\n",
      "Method:                 Least Squares   F-statistic:                     3237.\n",
      "Date:                Mon, 20 Feb 2023   Prob (F-statistic):           8.34e-70\n",
      "Time:                        10:28:23   Log-Likelihood:                -207.25\n",
      "No. Observations:                  68   AIC:                             422.5\n",
      "Df Residuals:                      64   BIC:                             431.4\n",
      "Df Model:                           3                                         \n",
      "Covariance Type:            nonrobust                                         \n",
      "==============================================================================\n",
      "                 coef    std err          t      P>|t|      [0.025      0.975]\n",
      "------------------------------------------------------------------------------\n",
      "Intercept     -4.8797      1.472     -3.314      0.002      -7.821      -1.939\n",
      "distance       0.9272      0.243      3.809      0.000       0.441       1.414\n",
      "climb          3.0669      2.167      1.416      0.162      -1.261       7.395\n",
      "timeW          0.7111      0.047     15.234      0.000       0.618       0.804\n",
      "==============================================================================\n",
      "Omnibus:                       23.667   Durbin-Watson:                   1.947\n",
      "Prob(Omnibus):                  0.000   Jarque-Bera (JB):               57.629\n",
      "Skew:                          -1.045   Prob(JB):                     3.06e-13\n",
      "Kurtosis:                       6.996   Cond. No.                         478.\n",
      "==============================================================================\n",
      "\n",
      "Notes:\n",
      "[1] Standard Errors assume that the covariance matrix of the errors is correctly specified.\n",
      "Intercept   -4.879705\n",
      "distance     0.927246\n",
      "climb        3.066862\n",
      "timeW        0.711050\n",
      "dtype: float64\n"
     ]
    }
   ],
   "source": [
    "# Predict the men’s record time for the Highland Fling, for which timeW = 490.05 minutes.\n",
    "# Create a fit with distance and time\n",
    "fitd = smf.ols(formula='timeM ~ distance + climb + timeW', data=scottraces).fit()\n",
    "print(fitd.summary()) # edited output\n",
    "print(fitd.params) # just the parameter estimates of the above fitted model:"
   ]
  },
  {
   "cell_type": "markdown",
   "metadata": {},
   "source": [
    "**Report the prediction equation**\n",
    "* Linear Regression\n",
    "$y = b_{0} + b_{1}x_{1} + b_{2}x_{2} + ... + b_{n}x_{n} + \\varepsilon$  \n",
    "$y = -4.88 + 0.92({distance}) + 3.07({climb}) + 0.71({timeW}) +\\varepsilon$  "
   ]
  },
  {
   "cell_type": "code",
   "execution_count": 7,
   "metadata": {},
   "outputs": [
    {
     "data": {
      "text/html": [
       "<div>\n",
       "<style scoped>\n",
       "    .dataframe tbody tr th:only-of-type {\n",
       "        vertical-align: middle;\n",
       "    }\n",
       "\n",
       "    .dataframe tbody tr th {\n",
       "        vertical-align: top;\n",
       "    }\n",
       "\n",
       "    .dataframe thead th {\n",
       "        text-align: right;\n",
       "    }\n",
       "</style>\n",
       "<table border=\"1\" class=\"dataframe\">\n",
       "  <thead>\n",
       "    <tr style=\"text-align: right;\">\n",
       "      <th></th>\n",
       "      <th>race</th>\n",
       "      <th>distance</th>\n",
       "      <th>climb</th>\n",
       "      <th>timeM</th>\n",
       "      <th>timeW</th>\n",
       "    </tr>\n",
       "  </thead>\n",
       "  <tbody>\n",
       "    <tr>\n",
       "      <th>40</th>\n",
       "      <td>HighlandFling</td>\n",
       "      <td>85.0</td>\n",
       "      <td>1.2</td>\n",
       "      <td>439.15</td>\n",
       "      <td>490.05</td>\n",
       "    </tr>\n",
       "  </tbody>\n",
       "</table>\n",
       "</div>"
      ],
      "text/plain": [
       "             race  distance  climb   timeM   timeW\n",
       "40  HighlandFling      85.0    1.2  439.15  490.05"
      ]
     },
     "execution_count": 7,
     "metadata": {},
     "output_type": "execute_result"
    }
   ],
   "source": [
    "## Predict the Highland Fling climb, for which timeW = 490.05 minutes.\n",
    "scottraces_HighlandFling = scottraces.loc[scottraces[\"timeW\"]  > 490 ]\n",
    "scottraces_HighlandFling"
   ]
  },
  {
   "cell_type": "code",
   "execution_count": 8,
   "metadata": {},
   "outputs": [
    {
     "data": {
      "text/plain": [
       "0    426.066666\n",
       "dtype: float64"
      ]
     },
     "execution_count": 8,
     "metadata": {},
     "output_type": "execute_result"
    }
   ],
   "source": [
    "fitd.predict({'distance': 85.0, 'climb': 1.2, 'timeW': 490.05}) #426.07 minutes"
   ]
  },
  {
   "cell_type": "markdown",
   "metadata": {},
   "source": [
    "(b) Find and interpret the correlation."
   ]
  },
  {
   "cell_type": "markdown",
   "metadata": {},
   "source": [
    "`Your answer goes here`"
   ]
  },
  {
   "cell_type": "code",
   "execution_count": 9,
   "metadata": {},
   "outputs": [
    {
     "name": "stdout",
     "output_type": "stream",
     "text": [
      "          distance     climb     timeM     timeW\n",
      "distance  1.000000  0.514471  0.962968  0.955549\n",
      "climb     0.514471  1.000000  0.672009  0.685292\n",
      "timeM     0.962968  0.672009  1.000000  0.995873\n",
      "timeW     0.955549  0.685292  0.995873  1.000000\n"
     ]
    }
   ],
   "source": [
    "print(scottraces_clean.corr())"
   ]
  },
  {
   "cell_type": "markdown",
   "metadata": {},
   "source": [
    "Distance and TimeM : Strong positive correlation  @0.962968  \n",
    "Distance and TimeW : Strong positive correlation  @0.955549  \n",
    "Distance and Climb : Positive correlation @0.514471  \n",
    "Climb and TimeM : Positive correlation @0.672009  \n",
    "Climb and TimeW : Positive correlation 0.685292  \n",
    "\n",
    "Positive corelation means if the one variable increases, the other increases  \n"
   ]
  },
  {
   "cell_type": "markdown",
   "metadata": {},
   "source": [
    "(c) We could impose the natural constraint that when timeW = 0, then timeM = 0. Fit the model $E(Y_i)=\\beta x_i.$ Interpret the estimated slope."
   ]
  },
  {
   "cell_type": "markdown",
   "metadata": {},
   "source": [
    "`Your answer goes here`"
   ]
  },
  {
   "cell_type": "code",
   "execution_count": 10,
   "metadata": {},
   "outputs": [
    {
     "name": "stdout",
     "output_type": "stream",
     "text": [
      "                            OLS Regression Results                            \n",
      "==============================================================================\n",
      "Dep. Variable:                  timeM   R-squared:                       0.970\n",
      "Model:                            OLS   Adj. R-squared:                  0.969\n",
      "Method:                 Least Squares   F-statistic:                     1041.\n",
      "Date:                Mon, 20 Feb 2023   Prob (F-statistic):           4.36e-50\n",
      "Time:                        10:28:23   Log-Likelihood:                -259.33\n",
      "No. Observations:                  68   AIC:                             524.7\n",
      "Df Residuals:                      65   BIC:                             531.3\n",
      "Df Model:                           2                                         \n",
      "Covariance Type:            nonrobust                                         \n",
      "==============================================================================\n",
      "                 coef    std err          t      P>|t|      [0.025      0.975]\n",
      "------------------------------------------------------------------------------\n",
      "Intercept    -15.2608      2.785     -5.479      0.000     -20.823      -9.698\n",
      "distance       4.5082      0.135     33.347      0.000       4.238       4.778\n",
      "climb         28.3525      2.972      9.541      0.000      22.417      34.288\n",
      "timeW               0          0        nan        nan           0           0\n",
      "==============================================================================\n",
      "Omnibus:                        3.492   Durbin-Watson:                   1.705\n",
      "Prob(Omnibus):                  0.175   Jarque-Bera (JB):                3.005\n",
      "Skew:                           0.243   Prob(JB):                        0.223\n",
      "Kurtosis:                       3.908   Cond. No.                          inf\n",
      "==============================================================================\n",
      "\n",
      "Notes:\n",
      "[1] Standard Errors assume that the covariance matrix of the errors is correctly specified.\n",
      "[2] The smallest eigenvalue is      0. This might indicate that there are\n",
      "strong multicollinearity problems or that the design matrix is singular.\n",
      "Intercept   -15.260792\n",
      "distance      4.508223\n",
      "climb        28.352505\n",
      "timeW         0.000000\n",
      "dtype: float64\n"
     ]
    }
   ],
   "source": [
    "# Create a fit with timeW = 0\n",
    "\n",
    "scottraces_no_race = scottraces.drop(['race'], axis=1) #Create a matrix and drop WomenTime and RaceName columns \n",
    "scottraces_timeW_0 = scottraces_no_race.copy()\n",
    "scottraces_timeW_0[\"timeW\"] = 0\n",
    "fitd = smf.ols(formula='timeM ~ distance + climb + timeW', data=scottraces_timeW_0).fit()\n",
    "print(fitd.summary()) # edited output\n",
    "print(fitd.params) # just the parameter estimates of the above fitted model:"
   ]
  },
  {
   "cell_type": "markdown",
   "metadata": {},
   "source": [
    "**Straight Line, with slope**\n",
    "* Linear Regression\n",
    "$y = b_{0} + b_{1}x_{1} + b_{2}x_{2} + ... + b_{n}x_{n} + \\varepsilon$  \n",
    "$y = -15.26 + 4.5({distance}) + 28.3({climb}) +  \\varepsilon$  "
   ]
  },
  {
   "cell_type": "code",
   "execution_count": 11,
   "metadata": {},
   "outputs": [
    {
     "name": "stdout",
     "output_type": "stream",
     "text": [
      "Intercept   -14.599650\n",
      "distance      5.036178\n",
      "climb        35.560975\n",
      "timeM         0.000000\n",
      "dtype: float64\n"
     ]
    }
   ],
   "source": [
    "# Create a fit with timeM = 0\n",
    "\n",
    "scottraces_no_race = scottraces.drop(['race'], axis=1) #Create a matrix and drop WomenTime and RaceName columns \n",
    "scottraces_timeW_0 = scottraces_no_race.copy()\n",
    "scottraces_timeW_0[\"timeM\"] = 0\n",
    "fitd = smf.ols(formula='timeW ~ distance + climb + timeM', data=scottraces_timeW_0).fit()\n",
    "# edited output\n",
    "print(fitd.params) # just the parameter estimates of the above fitted model:"
   ]
  },
  {
   "cell_type": "markdown",
   "metadata": {},
   "source": [
    "**Straight Line fit**\n",
    "* Linear Regression\n",
    "$y = b_{0} + b_{1}x_{1} + b_{2}x_{2} + ... + b_{n}x_{n} + \\varepsilon$  \n",
    "$y = -14.60 + 5.04({distance}) + 35.56({climb}) +  \\varepsilon$  "
   ]
  },
  {
   "cell_type": "markdown",
   "metadata": {},
   "source": [
    "## Problem 6.2."
   ]
  },
  {
   "cell_type": "markdown",
   "metadata": {},
   "source": [
    "For advanced industrialized nations, the Firearms data file at the text website shows annual homicide rates (per million population) and the number of firearms (per 100 people), with data taken from Wikipedia and [smallarmssurvey.org](smallarmssurvey.org)."
   ]
  },
  {
   "cell_type": "markdown",
   "metadata": {},
   "source": [
    "(a) Construct a scatterplot and highlight any observations that fall apart from the general trend."
   ]
  },
  {
   "cell_type": "markdown",
   "metadata": {},
   "source": [
    "`Your answer goes here`"
   ]
  },
  {
   "cell_type": "code",
   "execution_count": 12,
   "metadata": {},
   "outputs": [
    {
     "data": {
      "text/html": [
       "<div>\n",
       "<style scoped>\n",
       "    .dataframe tbody tr th:only-of-type {\n",
       "        vertical-align: middle;\n",
       "    }\n",
       "\n",
       "    .dataframe tbody tr th {\n",
       "        vertical-align: top;\n",
       "    }\n",
       "\n",
       "    .dataframe thead th {\n",
       "        text-align: right;\n",
       "    }\n",
       "</style>\n",
       "<table border=\"1\" class=\"dataframe\">\n",
       "  <thead>\n",
       "    <tr style=\"text-align: right;\">\n",
       "      <th></th>\n",
       "      <th>Nation</th>\n",
       "      <th>deaths</th>\n",
       "      <th>firearms</th>\n",
       "    </tr>\n",
       "  </thead>\n",
       "  <tbody>\n",
       "    <tr>\n",
       "      <th>0</th>\n",
       "      <td>Austria</td>\n",
       "      <td>1.8</td>\n",
       "      <td>30</td>\n",
       "    </tr>\n",
       "    <tr>\n",
       "      <th>1</th>\n",
       "      <td>Belgium</td>\n",
       "      <td>2.9</td>\n",
       "      <td>17</td>\n",
       "    </tr>\n",
       "    <tr>\n",
       "      <th>2</th>\n",
       "      <td>Canada</td>\n",
       "      <td>5.1</td>\n",
       "      <td>31</td>\n",
       "    </tr>\n",
       "    <tr>\n",
       "      <th>3</th>\n",
       "      <td>Denmark</td>\n",
       "      <td>2.2</td>\n",
       "      <td>12</td>\n",
       "    </tr>\n",
       "    <tr>\n",
       "      <th>4</th>\n",
       "      <td>Finland</td>\n",
       "      <td>2.6</td>\n",
       "      <td>45</td>\n",
       "    </tr>\n",
       "  </tbody>\n",
       "</table>\n",
       "</div>"
      ],
      "text/plain": [
       "    Nation  deaths  firearms\n",
       "0  Austria     1.8        30\n",
       "1  Belgium     2.9        17\n",
       "2   Canada     5.1        31\n",
       "3  Denmark     2.2        12\n",
       "4  Finland     2.6        45"
      ]
     },
     "execution_count": 12,
     "metadata": {},
     "output_type": "execute_result"
    }
   ],
   "source": [
    "# Read in the Scott Races data file\n",
    "firearms = pd.read_csv('https://stat4ds.rwth-aachen.de/data/Firearms.dat', sep='\\s+')\n",
    "firearms.head()"
   ]
  },
  {
   "cell_type": "code",
   "execution_count": 13,
   "metadata": {},
   "outputs": [
    {
     "data": {
      "image/png": "[encoded data removed]",
      "text/plain": [
       "<Figure size 640x480 with 1 Axes>"
      ]
     },
     "metadata": {},
     "output_type": "display_data"
    }
   ],
   "source": [
    "firearms_enc = firearms.drop(['Nation'], axis=1) #Create a matrix and drop the string Nation column\n",
    "x = firearms_enc['deaths'] \n",
    "y = firearms_enc['firearms']\n",
    "plt.title('firearms vs deaths')\n",
    "plt.xlabel('deaths')       \n",
    "plt.ylabel('firearms')           \n",
    "\n",
    "# create best-fit line based on slope-intercept form\n",
    "m, b = np.polyfit(x, y, 1)\n",
    "plt.scatter(x, y) \n",
    "plt.plot(x, m*x+b, color = 'red')\n",
    "\n",
    "# correlation coefficient \n",
    "corr = round(np.corrcoef(x, y)[0,1],2)\n",
    "plt.title('Death vs. Firearms;' ' $\\mathit{r}$ = ' + \"{:.2f}\".format(corr))\n",
    "plt.show()"
   ]
  },
  {
   "cell_type": "markdown",
   "metadata": {},
   "source": [
    "One nation is an outlier in the number of firearms and corresponding number of deaths. There is a postive corelation between the number of firearms per 100K population and number of deaths. "
   ]
  },
  {
   "cell_type": "markdown",
   "metadata": {},
   "source": [
    "(b) Find the correlation with and without the outlying observation. Why is it so different in the two cases?"
   ]
  },
  {
   "cell_type": "markdown",
   "metadata": {},
   "source": [
    "`Your answer goes here`"
   ]
  },
  {
   "cell_type": "code",
   "execution_count": 14,
   "metadata": {},
   "outputs": [
    {
     "name": "stdout",
     "output_type": "stream",
     "text": [
      "    deaths  firearms\n",
      "21    28.3        89\n"
     ]
    }
   ],
   "source": [
    "print(firearms_enc[firearms_enc['deaths'] > 20])\n"
   ]
  },
  {
   "cell_type": "code",
   "execution_count": 15,
   "metadata": {},
   "outputs": [
    {
     "data": {
      "image/png": "[encoded data removed]",
      "text/plain": [
       "<Figure size 640x480 with 1 Axes>"
      ]
     },
     "metadata": {},
     "output_type": "display_data"
    }
   ],
   "source": [
    "# Remove the outlier nation\n",
    "firearms_wo_outlier = firearms_enc.copy() \n",
    "firearms_wo_outlier = firearms_wo_outlier[firearms_wo_outlier['deaths'] <= 20]\n",
    "\n",
    "\n",
    "x_wo_outlier = firearms_wo_outlier['deaths'] \n",
    "y_wo_outlier = firearms_wo_outlier['firearms']\n",
    "plt.title('firearms vs deaths')\n",
    "plt.xlabel('deaths')       \n",
    "plt.ylabel('firearms')           \n",
    "\n",
    "# create best-fit line based on slope-intercept form\n",
    "m_wo_outlier, b_wo_outlier = np.polyfit(x_wo_outlier, y_wo_outlier, 1)\n",
    "plt.scatter(x_wo_outlier, y_wo_outlier) \n",
    "plt.plot(x_wo_outlier, m_wo_outlier*x_wo_outlier+b_wo_outlier, color = 'red')\n",
    "\n",
    "# correlation coefficient \n",
    "corr = round(np.corrcoef(x_wo_outlier, y_wo_outlier)[0,1],2)\n",
    "plt.title('Death vs. Firearms;' ' $\\mathit{r}$ = ' + \"{:.2f}\".format(corr))\n",
    "plt.show()"
   ]
  },
  {
   "cell_type": "markdown",
   "metadata": {},
   "source": [
    "Once take out the outlier, we find that there is nagative correlation. And more firearms in a country does not nessary mean more deaths"
   ]
  },
  {
   "cell_type": "markdown",
   "metadata": {},
   "source": [
    "(c) Fit the linear regression model with and without the outlying observation, and note how influential an outlier can be on the fit."
   ]
  },
  {
   "cell_type": "markdown",
   "metadata": {},
   "source": [
    "`Your answer goes here`"
   ]
  },
  {
   "cell_type": "code",
   "execution_count": 16,
   "metadata": {},
   "outputs": [
    {
     "name": "stdout",
     "output_type": "stream",
     "text": [
      "                            OLS Regression Results                            \n",
      "==============================================================================\n",
      "Dep. Variable:                 deaths   R-squared:                       0.402\n",
      "Model:                            OLS   Adj. R-squared:                  0.373\n",
      "Method:                 Least Squares   F-statistic:                     13.47\n",
      "Date:                Mon, 20 Feb 2023   Prob (F-statistic):            0.00152\n",
      "Time:                        10:28:24   Log-Likelihood:                -63.932\n",
      "No. Observations:                  22   AIC:                             131.9\n",
      "Df Residuals:                      20   BIC:                             134.0\n",
      "Df Model:                           1                                         \n",
      "Covariance Type:            nonrobust                                         \n",
      "==============================================================================\n",
      "                 coef    std err          t      P>|t|      [0.025      0.975]\n",
      "------------------------------------------------------------------------------\n",
      "Intercept     -0.2734      1.605     -0.170      0.866      -3.621       3.074\n",
      "firearms       0.1918      0.052      3.670      0.002       0.083       0.301\n",
      "==============================================================================\n",
      "Omnibus:                        4.385   Durbin-Watson:                   1.332\n",
      "Prob(Omnibus):                  0.112   Jarque-Bera (JB):                2.784\n",
      "Skew:                           0.854   Prob(JB):                        0.249\n",
      "Kurtosis:                       3.342   Cond. No.                         49.9\n",
      "==============================================================================\n",
      "\n",
      "Notes:\n",
      "[1] Standard Errors assume that the covariance matrix of the errors is correctly specified.\n"
     ]
    }
   ],
   "source": [
    "# Create a fit with outlier \n",
    "\n",
    "fitd = smf.ols(formula='deaths ~ firearms', data=firearms_enc).fit()\n",
    "# edited output\n",
    "print(fitd.summary()) #"
   ]
  },
  {
   "cell_type": "code",
   "execution_count": 17,
   "metadata": {},
   "outputs": [
    {
     "name": "stdout",
     "output_type": "stream",
     "text": [
      "                            OLS Regression Results                            \n",
      "==============================================================================\n",
      "Dep. Variable:                 deaths   R-squared:                       0.031\n",
      "Model:                            OLS   Adj. R-squared:                 -0.020\n",
      "Method:                 Least Squares   F-statistic:                    0.6009\n",
      "Date:                Mon, 20 Feb 2023   Prob (F-statistic):              0.448\n",
      "Time:                        10:28:24   Log-Likelihood:                -47.798\n",
      "No. Observations:                  21   AIC:                             99.60\n",
      "Df Residuals:                      19   BIC:                             101.7\n",
      "Df Model:                           1                                         \n",
      "Covariance Type:            nonrobust                                         \n",
      "==============================================================================\n",
      "                 coef    std err          t      P>|t|      [0.025      0.975]\n",
      "------------------------------------------------------------------------------\n",
      "Intercept      3.9102      1.037      3.769      0.001       1.739       6.081\n",
      "firearms      -0.0325      0.042     -0.775      0.448      -0.120       0.055\n",
      "==============================================================================\n",
      "Omnibus:                        3.339   Durbin-Watson:                   2.015\n",
      "Prob(Omnibus):                  0.188   Jarque-Bera (JB):                2.188\n",
      "Skew:                           0.790   Prob(JB):                        0.335\n",
      "Kurtosis:                       3.048   Cond. No.                         47.5\n",
      "==============================================================================\n",
      "\n",
      "Notes:\n",
      "[1] Standard Errors assume that the covariance matrix of the errors is correctly specified.\n"
     ]
    }
   ],
   "source": [
    "# Create a fit WITHOUT outler\n",
    "\n",
    "fitd = smf.ols(formula='deaths ~ firearms', data=firearms_wo_outlier).fit()\n",
    "# edited output\n",
    "print(fitd.summary()) #"
   ]
  },
  {
   "cell_type": "markdown",
   "metadata": {},
   "source": [
    "## Problem 6.5."
   ]
  },
  {
   "cell_type": "markdown",
   "metadata": {},
   "source": [
    "For the `Covid19` data file at the text website:  \n",
    "http://stat4ds.rwth-aachen.de/data/Covid19.dat "
   ]
  },
  {
   "cell_type": "markdown",
   "metadata": {},
   "source": [
    "(a) Construct the two scatterplots shown in Figure 6.3."
   ]
  },
  {
   "cell_type": "markdown",
   "metadata": {},
   "source": [
    "`Your answer goes here`"
   ]
  },
  {
   "cell_type": "code",
   "execution_count": 18,
   "metadata": {},
   "outputs": [
    {
     "data": {
      "text/html": [
       "<div>\n",
       "<style scoped>\n",
       "    .dataframe tbody tr th:only-of-type {\n",
       "        vertical-align: middle;\n",
       "    }\n",
       "\n",
       "    .dataframe tbody tr th {\n",
       "        vertical-align: top;\n",
       "    }\n",
       "\n",
       "    .dataframe thead th {\n",
       "        text-align: right;\n",
       "    }\n",
       "</style>\n",
       "<table border=\"1\" class=\"dataframe\">\n",
       "  <thead>\n",
       "    <tr style=\"text-align: right;\">\n",
       "      <th></th>\n",
       "      <th>day</th>\n",
       "      <th>cases</th>\n",
       "    </tr>\n",
       "  </thead>\n",
       "  <tbody>\n",
       "    <tr>\n",
       "      <th>0</th>\n",
       "      <td>1</td>\n",
       "      <td>16</td>\n",
       "    </tr>\n",
       "    <tr>\n",
       "      <th>1</th>\n",
       "      <td>2</td>\n",
       "      <td>24</td>\n",
       "    </tr>\n",
       "    <tr>\n",
       "      <th>2</th>\n",
       "      <td>3</td>\n",
       "      <td>30</td>\n",
       "    </tr>\n",
       "    <tr>\n",
       "      <th>3</th>\n",
       "      <td>4</td>\n",
       "      <td>53</td>\n",
       "    </tr>\n",
       "    <tr>\n",
       "      <th>4</th>\n",
       "      <td>5</td>\n",
       "      <td>80</td>\n",
       "    </tr>\n",
       "  </tbody>\n",
       "</table>\n",
       "</div>"
      ],
      "text/plain": [
       "   day  cases\n",
       "0    1     16\n",
       "1    2     24\n",
       "2    3     30\n",
       "3    4     53\n",
       "4    5     80"
      ]
     },
     "execution_count": 18,
     "metadata": {},
     "output_type": "execute_result"
    }
   ],
   "source": [
    "# Read in the Covid Data file\n",
    "\n",
    "covid19 = pd.read_csv('https://stat4ds.rwth-aachen.de/data/Covid19.dat', sep='\\s+')\n",
    "covid19.head()\n"
   ]
  },
  {
   "cell_type": "code",
   "execution_count": 19,
   "metadata": {},
   "outputs": [
    {
     "data": {
      "image/png": "[encoded data removed]",
      "text/plain": [
       "<Figure size 640x480 with 1 Axes>"
      ]
     },
     "metadata": {},
     "output_type": "display_data"
    }
   ],
   "source": [
    "# Scatter plot of number of days vs covid cases\n",
    "\n",
    "x_covid = covid19['day'] \n",
    "y_covid = covid19['cases']\n",
    "plt.title('Number of days vs Covid Cases')\n",
    "plt.xlabel('days')       \n",
    "plt.ylabel('cases')           \n",
    "\n",
    "# create best-fit line based on slope-intercept form\n",
    "m_covid, b_covid = np.polyfit(x_covid, y_covid, 1)\n",
    "plt.scatter(x_covid, y_covid) \n",
    "\n",
    "plt.plot(x_covid, m_covid*x_covid+b_covid, color = 'red')\n",
    "\n",
    "# correlation coefficient \n",
    "corr = round(np.corrcoef(x_covid, y_covid)[0,1],2)\n",
    "plt.title('Number of days vs Covid Cases;' ' $\\mathit{r}$ = ' + \"{:.2f}\".format(corr))\n",
    "plt.show()"
   ]
  },
  {
   "cell_type": "code",
   "execution_count": 20,
   "metadata": {},
   "outputs": [
    {
     "data": {
      "image/png": "[encoded data removed]",
      "text/plain": [
       "<Figure size 640x480 with 1 Axes>"
      ]
     },
     "metadata": {},
     "output_type": "display_data"
    }
   ],
   "source": [
    "# Scatter plot of number of days vs covid cases\n",
    "\n",
    "x_covid = covid19['day'] \n",
    "y_covid_log = np.log(covid19['cases'])\n",
    "plt.title('Number of days vs Covid Cases')\n",
    "plt.xlabel('days')       \n",
    "plt.ylabel('cases')           \n",
    "\n",
    "# create best-fit line based on slope-intercept form\n",
    "m_covid, b_covid = np.polyfit(x_covid, y_covid_log, 1)\n",
    "plt.scatter(x_covid, y_covid_log) \n",
    "\n",
    "plt.plot(x_covid, m_covid*x_covid+b_covid, color = 'red')\n",
    "\n",
    "# correlation coefficient \n",
    "corr = round(np.corrcoef(x_covid, y_covid_log)[0,1],2)\n",
    "plt.title('Number of days vs Covid Cases;' ' $\\mathit{r}$ = ' + \"{:.2f}\".format(corr))\n",
    "plt.show()\n",
    "\n"
   ]
  },
  {
   "cell_type": "markdown",
   "metadata": {},
   "source": [
    "(b) Find and interpret the correlation between time and (i) cases, (ii) log(cases)."
   ]
  },
  {
   "cell_type": "markdown",
   "metadata": {},
   "source": [
    "`Your answer goes here`"
   ]
  },
  {
   "cell_type": "markdown",
   "metadata": {},
   "source": [
    "`(i) cases`  \n",
    "We have a positive correlation at 0.79 between the number of days and number of covid cases\n",
    "\n",
    "`(ii) cases`  \n",
    "We have a strong positive correlation at 1.0 for number of cases and number of covid cases. The Linear model fits better when applied to $\\{log(y_i)\\}$"
   ]
  },
  {
   "cell_type": "markdown",
   "metadata": {},
   "source": [
    "(c)  Fit the linear model for the log-transformed counts and report the prediction equation.$^{29}.$ Explain why the predicted count at day $x+1$ equals the predicted count at day $x$ multiplied by $\\text{exp}(\\hat\\beta_1)=1.36.$"
   ]
  },
  {
   "cell_type": "markdown",
   "metadata": {},
   "source": [
    "`Your answer goes here`"
   ]
  },
  {
   "cell_type": "code",
   "execution_count": 21,
   "metadata": {},
   "outputs": [
    {
     "name": "stdout",
     "output_type": "stream",
     "text": [
      "                            OLS Regression Results                            \n",
      "==============================================================================\n",
      "Dep. Variable:                    day   R-squared:                       0.994\n",
      "Model:                            OLS   Adj. R-squared:                  0.993\n",
      "Method:                 Least Squares   F-statistic:                     4540.\n",
      "Date:                Mon, 20 Feb 2023   Prob (F-statistic):           2.02e-33\n",
      "Time:                        10:28:25   Log-Likelihood:                -33.483\n",
      "No. Observations:                  31   AIC:                             70.97\n",
      "Df Residuals:                      29   BIC:                             73.83\n",
      "Df Model:                           1                                         \n",
      "Covariance Type:            nonrobust                                         \n",
      "==============================================================================\n",
      "                 coef    std err          t      P>|t|      [0.025      0.975]\n",
      "------------------------------------------------------------------------------\n",
      "Intercept     -9.0491      0.395    -22.931      0.000      -9.856      -8.242\n",
      "cases          3.2177      0.048     67.377      0.000       3.120       3.315\n",
      "==============================================================================\n",
      "Omnibus:                        4.420   Durbin-Watson:                   0.272\n",
      "Prob(Omnibus):                  0.110   Jarque-Bera (JB):                3.572\n",
      "Skew:                           0.831   Prob(JB):                        0.168\n",
      "Kurtosis:                       3.006   Cond. No.                         25.0\n",
      "==============================================================================\n",
      "\n",
      "Notes:\n",
      "[1] Standard Errors assume that the covariance matrix of the errors is correctly specified.\n"
     ]
    }
   ],
   "source": [
    "covid_log = covid19.copy()\n",
    "covid_log['cases'] =  np.log(covid19['cases'])\n",
    "fitd = smf.ols(formula='day ~ cases', data=covid_log).fit()\n",
    "# edited output\n",
    "print(fitd.summary()) #"
   ]
  },
  {
   "cell_type": "markdown",
   "metadata": {},
   "source": [
    "## Problem 6.7."
   ]
  },
  {
   "cell_type": "markdown",
   "metadata": {},
   "source": [
    "For the model permitting interaction between distance and climb in their effect on women’s record times for the Scottish hill races, analyze whether any observation is influential in the least squares fit. How does the parameter estimate for the interaction term change when you analyze the data without it?"
   ]
  },
  {
   "cell_type": "markdown",
   "metadata": {},
   "source": [
    "`Your answer goes here`"
   ]
  },
  {
   "cell_type": "code",
   "execution_count": 22,
   "metadata": {},
   "outputs": [],
   "source": [
    "# Create a fit with timeW = 0\n",
    "scottraces_women = scottraces.copy()\n",
    "scottraces_women = scottraces_women.drop(['race', 'timeM'], axis=1) #Since we are only considering climb and distance create a matrix and drop timeM and RaceName columns "
   ]
  },
  {
   "cell_type": "code",
   "execution_count": 23,
   "metadata": {},
   "outputs": [
    {
     "name": "stdout",
     "output_type": "stream",
     "text": [
      "          distance     climb     timeW\n",
      "distance  1.000000  0.514471  0.955549\n",
      "climb     0.514471  1.000000  0.685292\n",
      "timeW     0.955549  0.685292  1.000000\n"
     ]
    }
   ],
   "source": [
    "print(scottraces_women.corr())"
   ]
  },
  {
   "cell_type": "markdown",
   "metadata": {},
   "source": [
    "Distance and TimeW : Strong positive correlation  @0.955549  \n",
    "Distance and Climb : Positive correlation @0.514471  \n",
    "Climb and TimeW : Positive correlation 0.685292  \n",
    "\n",
    "Distance has the strongest correlation with `timeW`"
   ]
  },
  {
   "cell_type": "code",
   "execution_count": 24,
   "metadata": {},
   "outputs": [
    {
     "name": "stdout",
     "output_type": "stream",
     "text": [
      "                            OLS Regression Results                            \n",
      "==============================================================================\n",
      "Dep. Variable:                  timeW   R-squared:                       0.470\n",
      "Model:                            OLS   Adj. R-squared:                  0.462\n",
      "Method:                 Least Squares   F-statistic:                     58.44\n",
      "Date:                Mon, 20 Feb 2023   Prob (F-statistic):           1.15e-10\n",
      "Time:                        10:28:25   Log-Likelihood:                -365.79\n",
      "No. Observations:                  68   AIC:                             735.6\n",
      "Df Residuals:                      66   BIC:                             740.0\n",
      "Df Model:                           1                                         \n",
      "Covariance Type:            nonrobust                                         \n",
      "==============================================================================\n",
      "                 coef    std err          t      P>|t|      [0.025      0.975]\n",
      "------------------------------------------------------------------------------\n",
      "Intercept     18.6383     12.530      1.487      0.142      -6.379      43.656\n",
      "climb         92.5165     12.102      7.645      0.000      68.354     116.679\n",
      "==============================================================================\n",
      "Omnibus:                      109.351   Durbin-Watson:                   2.070\n",
      "Prob(Omnibus):                  0.000   Jarque-Bera (JB):             2934.587\n",
      "Skew:                           5.052   Prob(JB):                         0.00\n",
      "Kurtosis:                      33.556   Cond. No.                         3.60\n",
      "==============================================================================\n",
      "\n",
      "Notes:\n",
      "[1] Standard Errors assume that the covariance matrix of the errors is correctly specified.\n"
     ]
    }
   ],
   "source": [
    "fitd = smf.ols(formula='timeW ~ climb', data=scottraces_women).fit()\n",
    "print(fitd.summary()) "
   ]
  },
  {
   "cell_type": "markdown",
   "metadata": {},
   "source": [
    "**Straight Line fit**\n",
    "* Linear Regression\n",
    "$y = b_{0} + b_{1}x_{1} + b_{2}x_{2} + ... + b_{n}x_{n} + \\varepsilon$  \n",
    "$y = 18.63 + 92.51({climb}) +  \\varepsilon$  "
   ]
  },
  {
   "cell_type": "markdown",
   "metadata": {},
   "source": [
    "## Problem 6.8."
   ]
  },
  {
   "cell_type": "markdown",
   "metadata": {},
   "source": [
    "Refer to the example in Section 6.2.5 of the crime rate in Florida counties."
   ]
  },
  {
   "cell_type": "markdown",
   "metadata": {},
   "source": [
    "(a) Explain what it means when we say these data exhibit *Simpson’s paradox*. What could cause this change in the direction of the association between crime rate and education\n",
    "when we adjust for urbanization?"
   ]
  },
  {
   "cell_type": "markdown",
   "metadata": {},
   "source": [
    "`Your answer goes here`"
   ]
  },
  {
   "cell_type": "code",
   "execution_count": 25,
   "metadata": {},
   "outputs": [
    {
     "data": {
      "text/html": [
       "<div>\n",
       "<style scoped>\n",
       "    .dataframe tbody tr th:only-of-type {\n",
       "        vertical-align: middle;\n",
       "    }\n",
       "\n",
       "    .dataframe tbody tr th {\n",
       "        vertical-align: top;\n",
       "    }\n",
       "\n",
       "    .dataframe thead th {\n",
       "        text-align: right;\n",
       "    }\n",
       "</style>\n",
       "<table border=\"1\" class=\"dataframe\">\n",
       "  <thead>\n",
       "    <tr style=\"text-align: right;\">\n",
       "      <th></th>\n",
       "      <th>Crime</th>\n",
       "      <th>Income</th>\n",
       "      <th>HS</th>\n",
       "      <th>Urban</th>\n",
       "    </tr>\n",
       "  </thead>\n",
       "  <tbody>\n",
       "    <tr>\n",
       "      <th>0</th>\n",
       "      <td>104</td>\n",
       "      <td>22.1</td>\n",
       "      <td>82.7</td>\n",
       "      <td>73.2</td>\n",
       "    </tr>\n",
       "    <tr>\n",
       "      <th>1</th>\n",
       "      <td>20</td>\n",
       "      <td>25.8</td>\n",
       "      <td>64.1</td>\n",
       "      <td>21.5</td>\n",
       "    </tr>\n",
       "    <tr>\n",
       "      <th>2</th>\n",
       "      <td>64</td>\n",
       "      <td>24.7</td>\n",
       "      <td>74.7</td>\n",
       "      <td>85.0</td>\n",
       "    </tr>\n",
       "    <tr>\n",
       "      <th>3</th>\n",
       "      <td>50</td>\n",
       "      <td>24.6</td>\n",
       "      <td>65.0</td>\n",
       "      <td>23.2</td>\n",
       "    </tr>\n",
       "    <tr>\n",
       "      <th>4</th>\n",
       "      <td>64</td>\n",
       "      <td>30.5</td>\n",
       "      <td>82.3</td>\n",
       "      <td>91.9</td>\n",
       "    </tr>\n",
       "  </tbody>\n",
       "</table>\n",
       "</div>"
      ],
      "text/plain": [
       "   Crime  Income    HS  Urban\n",
       "0    104    22.1  82.7   73.2\n",
       "1     20    25.8  64.1   21.5\n",
       "2     64    24.7  74.7   85.0\n",
       "3     50    24.6  65.0   23.2\n",
       "4     64    30.5  82.3   91.9"
      ]
     },
     "execution_count": 25,
     "metadata": {},
     "output_type": "execute_result"
    }
   ],
   "source": [
    "# Read in the Covid Data file\n",
    "\n",
    "florida = pd.read_csv('https://stat4ds.rwth-aachen.de/data/Florida.dat', sep='\\s+')\n",
    "florida_crime = florida.drop(['County'], axis=1)\n",
    "florida_crime.head()"
   ]
  },
  {
   "cell_type": "code",
   "execution_count": 26,
   "metadata": {},
   "outputs": [
    {
     "data": {
      "text/html": [
       "<div>\n",
       "<style scoped>\n",
       "    .dataframe tbody tr th:only-of-type {\n",
       "        vertical-align: middle;\n",
       "    }\n",
       "\n",
       "    .dataframe tbody tr th {\n",
       "        vertical-align: top;\n",
       "    }\n",
       "\n",
       "    .dataframe thead th {\n",
       "        text-align: right;\n",
       "    }\n",
       "</style>\n",
       "<table border=\"1\" class=\"dataframe\">\n",
       "  <thead>\n",
       "    <tr style=\"text-align: right;\">\n",
       "      <th></th>\n",
       "      <th>Crime</th>\n",
       "      <th>Income</th>\n",
       "      <th>HS</th>\n",
       "      <th>Urban</th>\n",
       "    </tr>\n",
       "  </thead>\n",
       "  <tbody>\n",
       "    <tr>\n",
       "      <th>Crime</th>\n",
       "      <td>1.000000</td>\n",
       "      <td>0.433750</td>\n",
       "      <td>0.466912</td>\n",
       "      <td>0.677368</td>\n",
       "    </tr>\n",
       "    <tr>\n",
       "      <th>Income</th>\n",
       "      <td>0.433750</td>\n",
       "      <td>1.000000</td>\n",
       "      <td>0.792621</td>\n",
       "      <td>0.730698</td>\n",
       "    </tr>\n",
       "    <tr>\n",
       "      <th>HS</th>\n",
       "      <td>0.466912</td>\n",
       "      <td>0.792621</td>\n",
       "      <td>1.000000</td>\n",
       "      <td>0.790719</td>\n",
       "    </tr>\n",
       "    <tr>\n",
       "      <th>Urban</th>\n",
       "      <td>0.677368</td>\n",
       "      <td>0.730698</td>\n",
       "      <td>0.790719</td>\n",
       "      <td>1.000000</td>\n",
       "    </tr>\n",
       "  </tbody>\n",
       "</table>\n",
       "</div>"
      ],
      "text/plain": [
       "           Crime    Income        HS     Urban\n",
       "Crime   1.000000  0.433750  0.466912  0.677368\n",
       "Income  0.433750  1.000000  0.792621  0.730698\n",
       "HS      0.466912  0.792621  1.000000  0.790719\n",
       "Urban   0.677368  0.730698  0.790719  1.000000"
      ]
     },
     "execution_count": 26,
     "metadata": {},
     "output_type": "execute_result"
    }
   ],
   "source": [
    "florida_crime.corr()"
   ]
  },
  {
   "cell_type": "markdown",
   "metadata": {},
   "source": [
    "Simpson's Paradox is a statistical phenomenon where an association between two variables in a population emerges, disappears or reverses when the population is divided into subpopulations\n",
    "\n",
    "In this example, urbanization has a correlation of 0.79 with education and 0.68 with crime rate. When considering only crime and education, we see a postive correlation that indicates that crime increases with education. \n",
    "\n",
    "Simpson's Paradox  occurs when we factor in the urbanization, the effect of education remains but with a negative correlation to crime, hereby indicating that crime rates do indeed go down with increase in education"
   ]
  },
  {
   "cell_type": "markdown",
   "metadata": {},
   "source": [
    "(b) Using the Florida data file, construct the scatterplot between *x* = education (HS) and *y* = income (Income), for which the correlation is 0.79. If we had data at the individual level as well as aggregated for a county, sketch a scatterplot to show that at that level the correlation could be much weaker. So, predictions about individuals based on the behavior of aggregate groups, known as the *ecological fallacy*, can be quite misleading."
   ]
  },
  {
   "cell_type": "markdown",
   "metadata": {},
   "source": [
    "`Your answer goes here`"
   ]
  },
  {
   "cell_type": "code",
   "execution_count": 27,
   "metadata": {},
   "outputs": [
    {
     "data": {
      "image/png": "[encoded data removed]",
      "text/plain": [
       "<Figure size 640x480 with 1 Axes>"
      ]
     },
     "metadata": {},
     "output_type": "display_data"
    }
   ],
   "source": [
    "\n",
    "# Scatter plot of number of days vs covid cases\n",
    "\n",
    "x_education = florida_crime['HS'] \n",
    "y_income = florida_crime[\"Income\"]\n",
    "plt.title('Education vs Income')\n",
    "plt.xlabel('Education')       \n",
    "plt.ylabel('Income')           \n",
    "\n",
    "# create best-fit line based on slope-intercept form\n",
    "m_fl, b_fl = np.polyfit(x_education, y_income, 1)\n",
    "plt.scatter(x_education, y_income) \n",
    "\n",
    "plt.plot(x_education, m_fl*x_education+b_fl, color = 'red')\n",
    "\n",
    "# correlation coefficient \n",
    "corr = round(np.corrcoef(x_education, y_income)[0,1],2)\n",
    "plt.title('Number of days vs Covid Cases;' ' $\\mathit{r}$ = ' + \"{:.2f}\".format(corr))\n",
    "plt.show()\n"
   ]
  },
  {
   "cell_type": "markdown",
   "metadata": {},
   "source": [
    "The ecological fallacy is often committed when data is collected at the group level and then inferences are made about individuals. For example, if a study finds that people who live in neighborhoods with high crime rates are more likely to commit crimes, it would be an ecological fallacy to assume that any particular person who lives in a high-crime neighborhood is more likely to commit a crime. This is because there may be other factors that contribute to crime rates, such as poverty or lack of opportunity."
   ]
  },
  {
   "cell_type": "markdown",
   "metadata": {},
   "source": [
    "(c) Refer to (b), in which *x* falls between 54.5 and 84.9. Is it sensible to use the least squares line to predict a county’s median income if *x* = 0? Sketch a hypothetical true relationship between *x* and *E(Y)* to show the danger of *extrapolation*, using a fitted line to predict *E(Y)* far from the observed *x* values."
   ]
  },
  {
   "cell_type": "markdown",
   "metadata": {},
   "source": [
    "`Your answer goes here`"
   ]
  },
  {
   "cell_type": "code",
   "execution_count": 28,
   "metadata": {},
   "outputs": [
    {
     "name": "stdout",
     "output_type": "stream",
     "text": [
      "Intercept   -6.034523\n",
      "HS           0.439763\n",
      "dtype: float64\n"
     ]
    }
   ],
   "source": [
    "florida_crime_cut = florida_crime.loc[(florida_crime[\"HS\"] > 54.5) & (florida_crime[\"HS\"] < 84.9)] \n",
    "fitd = smf.ols(formula='Income ~ HS', data=florida_crime_cut).fit()\n",
    "print(fitd.params) # just the parameter estimates of the above fitted model:\n"
   ]
  },
  {
   "cell_type": "code",
   "execution_count": 29,
   "metadata": {},
   "outputs": [
    {
     "data": {
      "text/plain": [
       "0   -6.034523\n",
       "dtype: float64"
      ]
     },
     "execution_count": 29,
     "metadata": {},
     "output_type": "execute_result"
    }
   ],
   "source": [
    "fitd.predict({'HS': 0})"
   ]
  },
  {
   "cell_type": "markdown",
   "metadata": {},
   "source": [
    "Using the hypothetical true relationship, it is not possible to predict the countys median income if *x=0*. Using **extrapolation** we get a negative income of a county with x=0"
   ]
  },
  {
   "cell_type": "markdown",
   "metadata": {},
   "source": [
    "## Problem 6.10."
   ]
  },
  {
   "cell_type": "markdown",
   "metadata": {},
   "source": [
    "The `Students` data file shows responses on variables summarized in Exercise 1.2."
   ]
  },
  {
   "cell_type": "markdown",
   "metadata": {},
   "source": [
    "(a) Fit the linear model using *hsgpa* = high school GPA, *tv* = weekly hours watching TV, and *sport* = weekly hours participating in sports as predictors of *cogpa* = college GPA. Report the prediction equation. What do the *P*-values suggest?"
   ]
  },
  {
   "cell_type": "markdown",
   "metadata": {},
   "source": [
    "`Your answer goes here`"
   ]
  },
  {
   "cell_type": "code",
   "execution_count": 30,
   "metadata": {},
   "outputs": [],
   "source": [
    "students = pd.read_csv('https://stat4ds.rwth-aachen.de/data/Students.dat', sep='\\s+')\n",
    "students.head()\n",
    "students = students.drop([\"subject\", \"gender\", \"age\", \"dhome\", \"dres\",\"news\", \"aids\", \"veg\", \"affil\", \"ideol\", \"relig\", \"abor\", \"affirm\", \"life\"],axis=1) #drop the subject column"
   ]
  },
  {
   "cell_type": "code",
   "execution_count": 31,
   "metadata": {},
   "outputs": [
    {
     "data": {
      "text/html": [
       "<div>\n",
       "<style scoped>\n",
       "    .dataframe tbody tr th:only-of-type {\n",
       "        vertical-align: middle;\n",
       "    }\n",
       "\n",
       "    .dataframe tbody tr th {\n",
       "        vertical-align: top;\n",
       "    }\n",
       "\n",
       "    .dataframe thead th {\n",
       "        text-align: right;\n",
       "    }\n",
       "</style>\n",
       "<table border=\"1\" class=\"dataframe\">\n",
       "  <thead>\n",
       "    <tr style=\"text-align: right;\">\n",
       "      <th></th>\n",
       "      <th>hsgpa</th>\n",
       "      <th>cogpa</th>\n",
       "      <th>tv</th>\n",
       "      <th>sport</th>\n",
       "    </tr>\n",
       "  </thead>\n",
       "  <tbody>\n",
       "    <tr>\n",
       "      <th>hsgpa</th>\n",
       "      <td>1.000000</td>\n",
       "      <td>0.278347</td>\n",
       "      <td>-0.267511</td>\n",
       "      <td>-0.144160</td>\n",
       "    </tr>\n",
       "    <tr>\n",
       "      <th>cogpa</th>\n",
       "      <td>0.278347</td>\n",
       "      <td>1.000000</td>\n",
       "      <td>-0.017252</td>\n",
       "      <td>-0.191074</td>\n",
       "    </tr>\n",
       "    <tr>\n",
       "      <th>tv</th>\n",
       "      <td>-0.267511</td>\n",
       "      <td>-0.017252</td>\n",
       "      <td>1.000000</td>\n",
       "      <td>0.051316</td>\n",
       "    </tr>\n",
       "    <tr>\n",
       "      <th>sport</th>\n",
       "      <td>-0.144160</td>\n",
       "      <td>-0.191074</td>\n",
       "      <td>0.051316</td>\n",
       "      <td>1.000000</td>\n",
       "    </tr>\n",
       "  </tbody>\n",
       "</table>\n",
       "</div>"
      ],
      "text/plain": [
       "          hsgpa     cogpa        tv     sport\n",
       "hsgpa  1.000000  0.278347 -0.267511 -0.144160\n",
       "cogpa  0.278347  1.000000 -0.017252 -0.191074\n",
       "tv    -0.267511 -0.017252  1.000000  0.051316\n",
       "sport -0.144160 -0.191074  0.051316  1.000000"
      ]
     },
     "execution_count": 31,
     "metadata": {},
     "output_type": "execute_result"
    }
   ],
   "source": [
    "students.corr()"
   ]
  },
  {
   "cell_type": "code",
   "execution_count": 32,
   "metadata": {},
   "outputs": [
    {
     "name": "stdout",
     "output_type": "stream",
     "text": [
      "                            OLS Regression Results                            \n",
      "==============================================================================\n",
      "Dep. Variable:                  cogpa   R-squared:                       0.105\n",
      "Model:                            OLS   Adj. R-squared:                  0.057\n",
      "Method:                 Least Squares   F-statistic:                     2.179\n",
      "Date:                Mon, 20 Feb 2023   Prob (F-statistic):              0.101\n",
      "Time:                        10:28:27   Log-Likelihood:                -18.587\n",
      "No. Observations:                  60   AIC:                             45.17\n",
      "Df Residuals:                      56   BIC:                             53.55\n",
      "Df Model:                           3                                         \n",
      "Covariance Type:            nonrobust                                         \n",
      "==============================================================================\n",
      "                 coef    std err          t      P>|t|      [0.025      0.975]\n",
      "------------------------------------------------------------------------------\n",
      "Intercept      2.8154      0.368      7.655      0.000       2.079       3.552\n",
      "tv             0.0033      0.007      0.486      0.629      -0.010       0.017\n",
      "hsgpa          0.2088      0.101      2.061      0.044       0.006       0.412\n",
      "sport         -0.0141      0.012     -1.213      0.230      -0.037       0.009\n",
      "==============================================================================\n",
      "Omnibus:                        3.507   Durbin-Watson:                   1.600\n",
      "Prob(Omnibus):                  0.173   Jarque-Bera (JB):                1.919\n",
      "Skew:                          -0.148   Prob(JB):                        0.383\n",
      "Kurtosis:                       2.175   Cond. No.                         97.6\n",
      "==============================================================================\n",
      "\n",
      "Notes:\n",
      "[1] Standard Errors assume that the covariance matrix of the errors is correctly specified.\n"
     ]
    }
   ],
   "source": [
    "fitd = smf.ols(formula='cogpa ~ tv + hsgpa + sport', data=students).fit()\n",
    "print(fitd.summary()) # just the parameter estimates of the above fitted model:"
   ]
  },
  {
   "cell_type": "markdown",
   "metadata": {},
   "source": [
    "**Straight Line fit**\n",
    "* Linear Regression\n",
    "$y = b_{0} + b_{1}x_{1} + b_{2}x_{2} + ... + b_{n}x_{n} + \\varepsilon$  \n",
    "$y = 2.8 + 0.21({hsgpa}) - 0.01({sport}) + \\varepsilon$  "
   ]
  },
  {
   "cell_type": "markdown",
   "metadata": {},
   "source": [
    "(b)  Summarize the estimated effect of *hsgpa.*"
   ]
  },
  {
   "cell_type": "markdown",
   "metadata": {},
   "source": [
    "`Your answer goes here`"
   ]
  },
  {
   "cell_type": "markdown",
   "metadata": {},
   "source": [
    "hsgpa has a low p-value of 0.044 which indicates that the coefficient is statistically significant at the 0.05 significance level and that the null hypothesis is likely to be false."
   ]
  },
  {
   "cell_type": "markdown",
   "metadata": {},
   "source": [
    "(c) Report and interpret $R^2$, adjusted $R^2$, and the multiple correlation."
   ]
  },
  {
   "cell_type": "markdown",
   "metadata": {},
   "source": [
    "`Your answer goes here`"
   ]
  },
  {
   "cell_type": "markdown",
   "metadata": {},
   "source": [
    "$R^2 = 0.105$  \n",
    "$R_{adj} = 0.057$  \n",
    "\n",
    "$R^2$, is a measure of how well a linear regression model fits the data, calculated by squaring the correlation coefficient between the dependent variable and the independent variables.\n",
    "\n",
    "Adjusted $R^2$ is a measure of how well a linear regression model fits the data, taking into account the number of independent variables in the model, calculated by adjusting $R^2$ for the number of independent variables in the model.\n",
    "\n",
    "Since we have three independent variables, Adjusted $R^2$ is a better measure of how well a linear regression model fits the data, a value of a value of $R_{adj} = 0.057$  indicates that the independent variables are not significant in explaining the variation in the dependent variable after adjusting for the number of variables in the model."
   ]
  },
  {
   "cell_type": "markdown",
   "metadata": {},
   "source": [
    "## Problem 6.11."
   ]
  },
  {
   "cell_type": "markdown",
   "metadata": {},
   "source": [
    "Refer to the model fitted in the previous exercise to predict college GPA."
   ]
  },
  {
   "cell_type": "markdown",
   "metadata": {},
   "source": [
    "(a) Test $H_0:\\beta_1 = \\beta_2 = \\beta_3 =0.$ Report the *P*-value and interpret.\n"
   ]
  },
  {
   "cell_type": "markdown",
   "metadata": {},
   "source": [
    "`Your answer goes here`"
   ]
  },
  {
   "cell_type": "code",
   "execution_count": 33,
   "metadata": {},
   "outputs": [
    {
     "name": "stdout",
     "output_type": "stream",
     "text": [
      "                            OLS Regression Results                            \n",
      "==============================================================================\n",
      "Dep. Variable:                  cogpa   R-squared:                       0.105\n",
      "Model:                            OLS   Adj. R-squared:                  0.057\n",
      "Method:                 Least Squares   F-statistic:                     2.179\n",
      "Date:                Mon, 20 Feb 2023   Prob (F-statistic):              0.101\n",
      "Time:                        10:28:27   Log-Likelihood:                -18.587\n",
      "No. Observations:                  60   AIC:                             45.17\n",
      "Df Residuals:                      56   BIC:                             53.55\n",
      "Df Model:                           3                                         \n",
      "Covariance Type:            nonrobust                                         \n",
      "==============================================================================\n",
      "                 coef    std err          t      P>|t|      [0.025      0.975]\n",
      "------------------------------------------------------------------------------\n",
      "Intercept      2.8154      0.368      7.655      0.000       2.079       3.552\n",
      "tv             0.0033      0.007      0.486      0.629      -0.010       0.017\n",
      "hsgpa          0.2088      0.101      2.061      0.044       0.006       0.412\n",
      "sport         -0.0141      0.012     -1.213      0.230      -0.037       0.009\n",
      "==============================================================================\n",
      "Omnibus:                        3.507   Durbin-Watson:                   1.600\n",
      "Prob(Omnibus):                  0.173   Jarque-Bera (JB):                1.919\n",
      "Skew:                          -0.148   Prob(JB):                        0.383\n",
      "Kurtosis:                       2.175   Cond. No.                         97.6\n",
      "==============================================================================\n",
      "\n",
      "Notes:\n",
      "[1] Standard Errors assume that the covariance matrix of the errors is correctly specified.\n"
     ]
    }
   ],
   "source": [
    "fitd = smf.ols(formula='cogpa ~ tv + hsgpa + sport', data=students).fit()\n",
    "print(fitd.summary())# just the parameter estimates of the above fitted model:"
   ]
  },
  {
   "cell_type": "markdown",
   "metadata": {},
   "source": [
    "$H_0: \\beta_{tv} = \\beta_{hsgpa}= \\beta_{sport}=0$ for a $p-value = 0.101$ and $F-value = 2.179$\n",
    "\n",
    "Since F-value $\\gt 1$ there is some evidence of the independent variables on the dependant variable.  \n"
   ]
  },
  {
   "cell_type": "markdown",
   "metadata": {},
   "source": [
    "(b) Show how to conduct a significance test about the individual effect of hsgpa, adjusting for tv and sport, using $\\alpha = 0.05$. Interpret."
   ]
  },
  {
   "cell_type": "markdown",
   "metadata": {},
   "source": [
    "`Your answer goes here`"
   ]
  },
  {
   "cell_type": "code",
   "execution_count": 34,
   "metadata": {},
   "outputs": [
    {
     "name": "stdout",
     "output_type": "stream",
     "text": [
      "                            OLS Regression Results                            \n",
      "==============================================================================\n",
      "Dep. Variable:                  cogpa   R-squared:                       0.037\n",
      "Model:                            OLS   Adj. R-squared:                  0.003\n",
      "Method:                 Least Squares   F-statistic:                     1.082\n",
      "Date:                Mon, 20 Feb 2023   Prob (F-statistic):              0.346\n",
      "Time:                        10:28:27   Log-Likelihood:                -20.781\n",
      "No. Observations:                  60   AIC:                             47.56\n",
      "Df Residuals:                      57   BIC:                             53.84\n",
      "Df Model:                           2                                         \n",
      "Covariance Type:            nonrobust                                         \n",
      "==============================================================================\n",
      "                 coef    std err          t      P>|t|      [0.025      0.975]\n",
      "------------------------------------------------------------------------------\n",
      "Intercept      3.5511      0.091     38.811      0.000       3.368       3.734\n",
      "tv            -0.0004      0.007     -0.057      0.954      -0.014       0.013\n",
      "sport         -0.0173      0.012     -1.465      0.148      -0.041       0.006\n",
      "==============================================================================\n",
      "Omnibus:                        5.397   Durbin-Watson:                   1.725\n",
      "Prob(Omnibus):                  0.067   Jarque-Bera (JB):                2.590\n",
      "Skew:                          -0.224   Prob(JB):                        0.274\n",
      "Kurtosis:                       2.087   Cond. No.                         22.3\n",
      "==============================================================================\n",
      "\n",
      "Notes:\n",
      "[1] Standard Errors assume that the covariance matrix of the errors is correctly specified.\n"
     ]
    }
   ],
   "source": [
    "fitd_cgpa = smf.ols(formula='cogpa ~ tv + sport', data=students).fit()\n",
    "print(fitd_cgpa.summary())# just the parameter estimates of the above fitted model:"
   ]
  },
  {
   "cell_type": "markdown",
   "metadata": {},
   "source": [
    "$H_0: \\beta_{tv} = \\beta_{sport}=0$ for a $p-value = 0.346$ and $F-value = 1.082$\n",
    "\n",
    "Since F-value is close to 1, considering the two variables tv and sport, there is little effect on the college gpa"
   ]
  },
  {
   "cell_type": "markdown",
   "metadata": {},
   "source": [
    "(c)  Is the effect in (b) significant at the $\\alpha = 0.05$ level if we use the Bonferroni approach to test the family of three individual effects? Explain."
   ]
  },
  {
   "cell_type": "markdown",
   "metadata": {},
   "source": [
    "`Your answer goes here`"
   ]
  },
  {
   "cell_type": "code",
   "execution_count": 35,
   "metadata": {},
   "outputs": [
    {
     "data": {
      "text/plain": [
       "(array([False]), array([1.]), 0.050000000000000044, 0.05)"
      ]
     },
     "execution_count": 35,
     "metadata": {},
     "output_type": "execute_result"
    }
   ],
   "source": [
    "p_val = [1.082]\n",
    "bonferroni = mt.multipletests(p_val, 0.05, method='bonferroni')\n",
    "bonferroni\n"
   ]
  },
  {
   "cell_type": "markdown",
   "metadata": {},
   "source": [
    "(d) Are the effects of *tv* and *sport* significant? Propose an alternative model."
   ]
  },
  {
   "cell_type": "markdown",
   "metadata": {},
   "source": [
    "`Your answer goes here`"
   ]
  },
  {
   "cell_type": "markdown",
   "metadata": {},
   "source": [
    "TV and Sport have a negative correlection with college gpa with r coefficients of -0.0004 and -0.0173 respectively which is not a significant effect"
   ]
  },
  {
   "cell_type": "markdown",
   "metadata": {},
   "source": [
    "## Problem 6.12."
   ]
  },
  {
   "cell_type": "markdown",
   "metadata": {},
   "source": [
    "For the `UN` data file at the book’s website (see Exercise 1.24), construct a multiple regression model predicting Internet using all the other variables. Use the concept of multicollinearity to explain why adjusted $R^2$ is not dramatically greater than when GDP is the sole predictor. Compare the estimated GDP effect in the bivariate model and the multiple regression model and explain why it is so much weaker in the multiple regression model."
   ]
  },
  {
   "cell_type": "markdown",
   "metadata": {},
   "source": [
    "`Your answer goes here`"
   ]
  },
  {
   "cell_type": "code",
   "execution_count": 36,
   "metadata": {},
   "outputs": [
    {
     "data": {
      "text/html": [
       "<div>\n",
       "<style scoped>\n",
       "    .dataframe tbody tr th:only-of-type {\n",
       "        vertical-align: middle;\n",
       "    }\n",
       "\n",
       "    .dataframe tbody tr th {\n",
       "        vertical-align: top;\n",
       "    }\n",
       "\n",
       "    .dataframe thead th {\n",
       "        text-align: right;\n",
       "    }\n",
       "</style>\n",
       "<table border=\"1\" class=\"dataframe\">\n",
       "  <thead>\n",
       "    <tr style=\"text-align: right;\">\n",
       "      <th></th>\n",
       "      <th>GDP</th>\n",
       "      <th>HDI</th>\n",
       "      <th>GII</th>\n",
       "      <th>Fertility</th>\n",
       "      <th>CO2</th>\n",
       "      <th>Homicide</th>\n",
       "      <th>Prison</th>\n",
       "      <th>Internet</th>\n",
       "    </tr>\n",
       "  </thead>\n",
       "  <tbody>\n",
       "    <tr>\n",
       "      <th>0</th>\n",
       "      <td>12.8</td>\n",
       "      <td>0.72</td>\n",
       "      <td>0.42</td>\n",
       "      <td>2.8</td>\n",
       "      <td>3.2</td>\n",
       "      <td>0.8</td>\n",
       "      <td>162</td>\n",
       "      <td>17</td>\n",
       "    </tr>\n",
       "    <tr>\n",
       "      <th>1</th>\n",
       "      <td>14.7</td>\n",
       "      <td>0.81</td>\n",
       "      <td>0.38</td>\n",
       "      <td>2.2</td>\n",
       "      <td>4.7</td>\n",
       "      <td>5.5</td>\n",
       "      <td>147</td>\n",
       "      <td>60</td>\n",
       "    </tr>\n",
       "    <tr>\n",
       "      <th>2</th>\n",
       "      <td>42.3</td>\n",
       "      <td>0.93</td>\n",
       "      <td>0.11</td>\n",
       "      <td>1.9</td>\n",
       "      <td>16.5</td>\n",
       "      <td>1.1</td>\n",
       "      <td>130</td>\n",
       "      <td>83</td>\n",
       "    </tr>\n",
       "    <tr>\n",
       "      <th>3</th>\n",
       "      <td>43.1</td>\n",
       "      <td>0.88</td>\n",
       "      <td>0.06</td>\n",
       "      <td>1.4</td>\n",
       "      <td>7.8</td>\n",
       "      <td>0.8</td>\n",
       "      <td>98</td>\n",
       "      <td>81</td>\n",
       "    </tr>\n",
       "    <tr>\n",
       "      <th>4</th>\n",
       "      <td>39.5</td>\n",
       "      <td>0.88</td>\n",
       "      <td>0.07</td>\n",
       "      <td>1.8</td>\n",
       "      <td>8.8</td>\n",
       "      <td>1.8</td>\n",
       "      <td>108</td>\n",
       "      <td>82</td>\n",
       "    </tr>\n",
       "  </tbody>\n",
       "</table>\n",
       "</div>"
      ],
      "text/plain": [
       "    GDP   HDI   GII  Fertility   CO2  Homicide  Prison  Internet\n",
       "0  12.8  0.72  0.42        2.8   3.2       0.8     162        17\n",
       "1  14.7  0.81  0.38        2.2   4.7       5.5     147        60\n",
       "2  42.3  0.93  0.11        1.9  16.5       1.1     130        83\n",
       "3  43.1  0.88  0.06        1.4   7.8       0.8      98        81\n",
       "4  39.5  0.88  0.07        1.8   8.8       1.8     108        82"
      ]
     },
     "execution_count": 36,
     "metadata": {},
     "output_type": "execute_result"
    }
   ],
   "source": [
    "un = pd.read_csv('https://stat4ds.rwth-aachen.de/data/UN.dat', sep='\\s+')\n",
    "un_internet = un.drop(['Nation'], axis=1)\n",
    "un_internet.head()"
   ]
  },
  {
   "cell_type": "code",
   "execution_count": 37,
   "metadata": {},
   "outputs": [
    {
     "name": "stdout",
     "output_type": "stream",
     "text": [
      "                            OLS Regression Results                            \n",
      "==============================================================================\n",
      "Dep. Variable:               Internet   R-squared:                       0.848\n",
      "Model:                            OLS   Adj. R-squared:                  0.816\n",
      "Method:                 Least Squares   F-statistic:                     27.04\n",
      "Date:                Mon, 20 Feb 2023   Prob (F-statistic):           3.95e-12\n",
      "Time:                        10:28:28   Log-Likelihood:                -154.04\n",
      "No. Observations:                  42   AIC:                             324.1\n",
      "Df Residuals:                      34   BIC:                             338.0\n",
      "Df Model:                           7                                         \n",
      "Covariance Type:            nonrobust                                         \n",
      "==============================================================================\n",
      "                 coef    std err          t      P>|t|      [0.025      0.975]\n",
      "------------------------------------------------------------------------------\n",
      "Intercept     11.1583     38.773      0.288      0.775     -67.638      89.955\n",
      "GDP            0.4409      0.291      1.517      0.139      -0.150       1.032\n",
      "HDI           55.8510     46.652      1.197      0.240     -38.958     150.660\n",
      "GII          -72.4289     25.323     -2.860      0.007    -123.892     -20.966\n",
      "Fertility      4.0921      3.065      1.335      0.191      -2.137      10.322\n",
      "CO2            0.3101      0.655      0.474      0.639      -1.021       1.641\n",
      "Homicide       0.3773      0.300      1.259      0.217      -0.232       0.986\n",
      "Prison         0.0091      0.018      0.495      0.623      -0.028       0.046\n",
      "==============================================================================\n",
      "Omnibus:                        1.369   Durbin-Watson:                   1.831\n",
      "Prob(Omnibus):                  0.504   Jarque-Bera (JB):                0.539\n",
      "Skew:                           0.070   Prob(JB):                        0.764\n",
      "Kurtosis:                       3.537   Cond. No.                     7.50e+03\n",
      "==============================================================================\n",
      "\n",
      "Notes:\n",
      "[1] Standard Errors assume that the covariance matrix of the errors is correctly specified.\n",
      "[2] The condition number is large, 7.5e+03. This might indicate that there are\n",
      "strong multicollinearity or other numerical problems.\n"
     ]
    }
   ],
   "source": [
    "fitd_internet = smf.ols(formula='Internet ~ GDP + HDI + GII + Fertility + CO2 + Homicide + Prison', data=un_internet).fit()\n",
    "print(fitd_internet.summary())# just the parameter estimates of the above fitted model:"
   ]
  },
  {
   "cell_type": "code",
   "execution_count": 38,
   "metadata": {},
   "outputs": [
    {
     "name": "stdout",
     "output_type": "stream",
     "text": [
      "                            OLS Regression Results                            \n",
      "==============================================================================\n",
      "Dep. Variable:               Internet   R-squared:                       0.769\n",
      "Model:                            OLS   Adj. R-squared:                  0.764\n",
      "Method:                 Least Squares   F-statistic:                     133.5\n",
      "Date:                Mon, 20 Feb 2023   Prob (F-statistic):           2.55e-14\n",
      "Time:                        10:28:28   Log-Likelihood:                -162.74\n",
      "No. Observations:                  42   AIC:                             329.5\n",
      "Df Residuals:                      40   BIC:                             333.0\n",
      "Df Model:                           1                                         \n",
      "Covariance Type:            nonrobust                                         \n",
      "==============================================================================\n",
      "                 coef    std err          t      P>|t|      [0.025      0.975]\n",
      "------------------------------------------------------------------------------\n",
      "Intercept     26.1341      3.749      6.971      0.000      18.557      33.711\n",
      "GDP            1.4060      0.122     11.555      0.000       1.160       1.652\n",
      "==============================================================================\n",
      "Omnibus:                        2.844   Durbin-Watson:                   1.425\n",
      "Prob(Omnibus):                  0.241   Jarque-Bera (JB):                2.649\n",
      "Skew:                          -0.556   Prob(JB):                        0.266\n",
      "Kurtosis:                       2.474   Cond. No.                         62.7\n",
      "==============================================================================\n",
      "\n",
      "Notes:\n",
      "[1] Standard Errors assume that the covariance matrix of the errors is correctly specified.\n"
     ]
    }
   ],
   "source": [
    "fitd_internet_gdp = smf.ols(formula='Internet ~ GDP', data=un_internet).fit()\n",
    "print(fitd_internet_gdp.summary())# just the parameter estimates of the above fitted model:"
   ]
  },
  {
   "cell_type": "markdown",
   "metadata": {},
   "source": [
    "$R^2_{gpd} = 0.769$    \n",
    "$R^2_{all} = 0.848$  \n",
    "\n",
    "Here we see multicollinearity in occurance becuase we observe nearly as large an R^2 value in predicting Y with a reduced set of explanatory variables.  In this example, for instance, $R^2_{gpd} = 0.769$ and using all predictors we obetain  $R^2_{all} = 0.848$ \n",
    "\n",
    "$R^2_{all}$ is not be dramatically greater than $R^2_{gpd}$ because each of explanatory variable may be nearly redundant, in the sense that it can be predicted well using the others, and so the effects in the multiple regression model may not be statistically significant  even if highly significant marginally. \n"
   ]
  },
  {
   "cell_type": "markdown",
   "metadata": {},
   "source": [
    "## Problem 6.13."
   ]
  },
  {
   "cell_type": "markdown",
   "metadata": {},
   "source": [
    "For the `Polid` data file summarized in Table 5.2, conduct an ANOVA to analyze whether mean political ideology varies by race. Use a follow-up multiple comparison method with overall confidence level 0.95 to estimate differences of means between pairs of races on political ideology. Interpret results."
   ]
  },
  {
   "cell_type": "markdown",
   "metadata": {},
   "source": [
    "`Your answer goes here`"
   ]
  },
  {
   "cell_type": "code",
   "execution_count": 39,
   "metadata": {},
   "outputs": [
    {
     "data": {
      "text/html": [
       "<div>\n",
       "<style scoped>\n",
       "    .dataframe tbody tr th:only-of-type {\n",
       "        vertical-align: middle;\n",
       "    }\n",
       "\n",
       "    .dataframe tbody tr th {\n",
       "        vertical-align: top;\n",
       "    }\n",
       "\n",
       "    .dataframe thead th {\n",
       "        text-align: right;\n",
       "    }\n",
       "</style>\n",
       "<table border=\"1\" class=\"dataframe\">\n",
       "  <thead>\n",
       "    <tr style=\"text-align: right;\">\n",
       "      <th></th>\n",
       "      <th>race</th>\n",
       "      <th>ideology</th>\n",
       "    </tr>\n",
       "  </thead>\n",
       "  <tbody>\n",
       "    <tr>\n",
       "      <th>1</th>\n",
       "      <td>hispanic</td>\n",
       "      <td>1</td>\n",
       "    </tr>\n",
       "    <tr>\n",
       "      <th>2</th>\n",
       "      <td>hispanic</td>\n",
       "      <td>1</td>\n",
       "    </tr>\n",
       "    <tr>\n",
       "      <th>3</th>\n",
       "      <td>hispanic</td>\n",
       "      <td>1</td>\n",
       "    </tr>\n",
       "    <tr>\n",
       "      <th>4</th>\n",
       "      <td>hispanic</td>\n",
       "      <td>1</td>\n",
       "    </tr>\n",
       "    <tr>\n",
       "      <th>5</th>\n",
       "      <td>hispanic</td>\n",
       "      <td>1</td>\n",
       "    </tr>\n",
       "  </tbody>\n",
       "</table>\n",
       "</div>"
      ],
      "text/plain": [
       "       race  ideology\n",
       "1  hispanic         1\n",
       "2  hispanic         1\n",
       "3  hispanic         1\n",
       "4  hispanic         1\n",
       "5  hispanic         1"
      ]
     },
     "execution_count": 39,
     "metadata": {},
     "output_type": "execute_result"
    }
   ],
   "source": [
    "polid = pd.read_csv('https://stat4ds.rwth-aachen.de/data/Polid.dat', sep='\\s+')\n",
    "#un_internet = un.drop(['Nation'], axis=1)\n",
    "polid.head()"
   ]
  },
  {
   "cell_type": "code",
   "execution_count": 40,
   "metadata": {},
   "outputs": [
    {
     "name": "stdout",
     "output_type": "stream",
     "text": [
      "                            OLS Regression Results                            \n",
      "==============================================================================\n",
      "Dep. Variable:               ideology   R-squared:                       0.007\n",
      "Model:                            OLS   Adj. R-squared:                  0.007\n",
      "Method:                 Least Squares   F-statistic:                     9.621\n",
      "Date:                Mon, 20 Feb 2023   Prob (F-statistic):           6.88e-05\n",
      "Time:                        10:28:29   Log-Likelihood:                -4555.0\n",
      "No. Observations:                2575   AIC:                             9116.\n",
      "Df Residuals:                    2572   BIC:                             9133.\n",
      "Df Model:                           2                                         \n",
      "Covariance Type:            nonrobust                                         \n",
      "=======================================================================================\n",
      "                          coef    std err          t      P>|t|      [0.025      0.975]\n",
      "---------------------------------------------------------------------------------------\n",
      "Intercept               3.8167      0.074     51.776      0.000       3.672       3.961\n",
      "C(race)[T.hispanic]     0.2727      0.104      2.612      0.009       0.068       0.477\n",
      "C(race)[T.white]        0.3539      0.081      4.378      0.000       0.195       0.512\n",
      "==============================================================================\n",
      "Omnibus:                       20.014   Durbin-Watson:                   0.018\n",
      "Prob(Omnibus):                  0.000   Jarque-Bera (JB):               15.504\n",
      "Skew:                          -0.099   Prob(JB):                     0.000430\n",
      "Kurtosis:                       2.675   Cond. No.                         6.19\n",
      "==============================================================================\n",
      "\n",
      "Notes:\n",
      "[1] Standard Errors assume that the covariance matrix of the errors is correctly specified.\n"
     ]
    }
   ],
   "source": [
    "fit_ideal = smf.ols(formula = 'ideology ~ C(race)', data=polid).fit()\n",
    "print(fit_ideal.summary())"
   ]
  },
  {
   "cell_type": "code",
   "execution_count": 41,
   "metadata": {},
   "outputs": [
    {
     "ename": "NameError",
     "evalue": "name 'aov_table' is not defined",
     "output_type": "error",
     "traceback": [
      "\u001b[0;31m---------------------------------------------------------------------------\u001b[0m",
      "\u001b[0;31mNameError\u001b[0m                                 Traceback (most recent call last)",
      "\u001b[0;32m/tmp/ipykernel_12396/530443795.py\u001b[0m in \u001b[0;36m<module>\u001b[0;34m\u001b[0m\n\u001b[1;32m      1\u001b[0m \u001b[0;31m#idealogy modeling for three racial-ethnic groups, for a familywise error probability of α = 0.05, using Tukey HSD comparison\u001b[0m\u001b[0;34m\u001b[0m\u001b[0;34m\u001b[0m\u001b[0;34m\u001b[0m\u001b[0m\n\u001b[1;32m      2\u001b[0m \u001b[0mov_table\u001b[0m \u001b[0;34m=\u001b[0m \u001b[0msm\u001b[0m\u001b[0;34m.\u001b[0m\u001b[0mstats\u001b[0m\u001b[0;34m.\u001b[0m\u001b[0manova_lm\u001b[0m\u001b[0;34m(\u001b[0m\u001b[0mfit_ideal\u001b[0m\u001b[0;34m)\u001b[0m\u001b[0;34m\u001b[0m\u001b[0;34m\u001b[0m\u001b[0m\n\u001b[0;32m----> 3\u001b[0;31m \u001b[0maov_table\u001b[0m\u001b[0;34m\u001b[0m\u001b[0;34m\u001b[0m\u001b[0m\n\u001b[0m\u001b[1;32m      4\u001b[0m \u001b[0mcomp\u001b[0m \u001b[0;34m=\u001b[0m \u001b[0mmc\u001b[0m\u001b[0;34m.\u001b[0m\u001b[0mMultiComparison\u001b[0m\u001b[0;34m(\u001b[0m\u001b[0mpolid\u001b[0m\u001b[0;34m[\u001b[0m\u001b[0;34m'ideology'\u001b[0m\u001b[0;34m]\u001b[0m\u001b[0;34m,\u001b[0m \u001b[0mpolid\u001b[0m\u001b[0;34m[\u001b[0m\u001b[0;34m'race'\u001b[0m\u001b[0;34m]\u001b[0m\u001b[0;34m)\u001b[0m\u001b[0;34m\u001b[0m\u001b[0;34m\u001b[0m\u001b[0m\n\u001b[1;32m      5\u001b[0m \u001b[0mpost_hoc_res\u001b[0m \u001b[0;34m=\u001b[0m \u001b[0mcomp\u001b[0m\u001b[0;34m.\u001b[0m\u001b[0mtukeyhsd\u001b[0m\u001b[0;34m(\u001b[0m\u001b[0;34m)\u001b[0m\u001b[0;34m\u001b[0m\u001b[0;34m\u001b[0m\u001b[0m\n",
      "\u001b[0;31mNameError\u001b[0m: name 'aov_table' is not defined"
     ]
    }
   ],
   "source": [
    "#idealogy modeling for three racial-ethnic groups, for a familywise error probability of α = 0.05, using Tukey HSD comparison\n",
    "aov_table = sm.stats.anova_lm(fit_ideal)\n",
    "aov_table\n",
    "comp = mc.MultiComparison(polid['ideology'], polid['race'])\n",
    "post_hoc_res = comp.tukeyhsd()\n",
    "print(post_hoc_res.summary())"
   ]
  },
  {
   "cell_type": "markdown",
   "metadata": {},
   "source": [
    "0.27 Idealogical difference between Blacks and Hispanics   \n",
    "0.35 Idealogical difference between Blacks and Whites  \n",
    "0.08 Idealogical difference between Hispanic and Whites \n"
   ]
  },
  {
   "cell_type": "code",
   "execution_count": null,
   "metadata": {},
   "outputs": [],
   "source": [
    "# Constructing simultaneous confidence intervals using the Bonferroni  method. \n",
    "bonf, a1, a2 = comp.allpairtest(sms.ttest_ind, method= \"bonf\")\n",
    "print(bonf)"
   ]
  },
  {
   "cell_type": "markdown",
   "metadata": {},
   "source": [
    "The reject column of the multiple comparisons table indicates whether we would reject based on the pair of groups having identical means, so based on the Tukey HSD comparisons, we can conclude only that white and hispanic racial-ethnic groups have differing political ideology"
   ]
  },
  {
   "cell_type": "markdown",
   "metadata": {},
   "source": [
    "## Problem 7.1."
   ]
  },
  {
   "cell_type": "markdown",
   "metadata": {},
   "source": [
    "For the `Houses` data file described in Section 7.1.3, consider $Y$ = selling price, $x_1$ = tax bill (in dollars), and $x_2$ = whether the house is new."
   ]
  },
  {
   "cell_type": "markdown",
   "metadata": {},
   "source": [
    "(a) Form the scatterplot of $y$ and $x_1$. Does the normal GLM structure of constant variability in $y$ seem approproate? If not, how does it seem to be violated?"
   ]
  },
  {
   "cell_type": "markdown",
   "metadata": {},
   "source": [
    "`Your answer goes here`"
   ]
  },
  {
   "cell_type": "code",
   "execution_count": null,
   "metadata": {},
   "outputs": [],
   "source": [
    "# Read in the Houses Data file\n",
    "\n",
    "Houses = pd.read_csv('https://stat4ds.rwth-aachen.de/data/Houses.dat', sep='\\s+')\n",
    "#florida_crime = florida.drop(['County'], axis=1)\n",
    "Houses.head()"
   ]
  },
  {
   "cell_type": "code",
   "execution_count": null,
   "metadata": {},
   "outputs": [],
   "source": [
    "Houses['house'] = Houses['new'].apply(lambda x: 'old' if x==0 else 'new')\n",
    "sns.pairplot(x_vars=['taxes'], y_vars=['price'], data=Houses, hue='house', height=5)\n",
    "plt.show()"
   ]
  },
  {
   "cell_type": "markdown",
   "metadata": {},
   "source": [
    "The scatterplot suggests that the variability in Y could be greater when its  mean is higher, at higher taxes, violating the ordinary linear model assumption of  constant variability in Y. We could instead assume that the conditional distribution of Y is  the gamma distribution, because it is a positively-skewed distribution over  positive y values for which the standard deviation is proportional to the mean."
   ]
  },
  {
   "cell_type": "markdown",
   "metadata": {},
   "source": [
    "(b) Using the identity link function, fit the (i) normal GLM, (ii) gamma GLM. For each model, interpret the effect of $x_2$."
   ]
  },
  {
   "cell_type": "markdown",
   "metadata": {},
   "source": [
    "`Your answer goes here`"
   ]
  },
  {
   "cell_type": "code",
   "execution_count": null,
   "metadata": {},
   "outputs": [],
   "source": [
    "# GLM assuming normal response, identity link, permitting interaction\n",
    "fit1 = smf.glm(formula = 'price ~ taxes + new + size:new', data = Houses,family = sm.families.Gaussian()).fit()\n",
    "print(fit1.summary()) "
   ]
  },
  {
   "cell_type": "markdown",
   "metadata": {},
   "source": [
    "Selling price affected by taxes increasing by 0.0852 (i.e. \\\\$85.2) for older homes  \n",
    "and (0.0852+0.1383) = 0.2235 (i.e. \\\\$223.5) for newer homes.  "
   ]
  },
  {
   "cell_type": "code",
   "execution_count": null,
   "metadata": {},
   "outputs": [],
   "source": [
    "# GLM assuming gamma response, identity link, permitting interaction:\n",
    "gamma_mod = smf.glm(formula = 'price ~ taxes + new + taxes:new', data = Houses, family = sm.families.Gamma(link = sm.families.links.identity()))\n",
    "fit2 = gamma_mod.fit()\n",
    "print(fit2.summary())"
   ]
  },
  {
   "cell_type": "markdown",
   "metadata": {},
   "source": [
    "Selling price affected by taxes increasing by 0.0816 (i.e. \\\\$81.6) for older homes  \n",
    "and (0.0505+0.0816) = 0.1321 (i.e. \\\\$132.1) for newer homes.  "
   ]
  },
  {
   "cell_type": "markdown",
   "metadata": {},
   "source": [
    "(c) For each model, describe how the estimated variability in selling prices varies as the mean selling price varies from 100 thousand to 500 thousand dollars."
   ]
  },
  {
   "cell_type": "markdown",
   "metadata": {},
   "source": [
    "`Your answer goes here`"
   ]
  },
  {
   "cell_type": "markdown",
   "metadata": {},
   "source": [
    "Unlike the normal GLM, the interaction is not significant at as selling price varies from 100K to 500K. The outlying observation is much less influential for the gamma GLM, because this model expects more variability in y when its mean is larger.\n",
    "\n"
   ]
  },
  {
   "cell_type": "markdown",
   "metadata": {},
   "source": [
    "(d) Which model is preferred according to AIC?"
   ]
  },
  {
   "cell_type": "markdown",
   "metadata": {},
   "source": [
    "`Your answer goes here`"
   ]
  },
  {
   "cell_type": "markdown",
   "metadata": {},
   "source": [
    "In selecting a model, a fundamental tradeoff occurs between bias and variance. Akaike information criterion (AIC), judges a model by how close its fitted  values tend to be to the true expected values, as summarized by a certain expected distance  between the two.  \n",
    "\n",
    "When considering the house selling prices, AIC would prefer the model with the lower value.\n"
   ]
  },
  {
   "cell_type": "markdown",
   "metadata": {},
   "source": [
    "## Problem 7.5."
   ]
  },
  {
   "cell_type": "markdown",
   "metadata": {},
   "source": [
    "A study of sheep mentioned in Exercise 1.27 analyzed whether the sheep survived for a year from the original observation time (1 = yes, 0 = no) as a function of their weight (*kg*) at the original observation."
   ]
  },
  {
   "cell_type": "markdown",
   "metadata": {},
   "source": [
    "(a) Does the survival of the sheep seem to depend on their weight? If so, how does the weight of a sheep affect its probability of survival? Answer by fitting a generalized linear model for the survival probability."
   ]
  },
  {
   "cell_type": "markdown",
   "metadata": {},
   "source": [
    "`Your answer goes here`"
   ]
  },
  {
   "cell_type": "code",
   "execution_count": null,
   "metadata": {},
   "outputs": [],
   "source": [
    "# Read in the Sheep Data file\n",
    "\n",
    "Sheep = pd.read_csv('https://stat4ds.rwth-aachen.de/data/Sheep.dat', sep='\\s+')\n",
    "#florida_crime = florida.drop(['County'], axis=1)\n",
    "Sheep = Sheep.drop([\"sheep\"], axis=1)\n",
    "Sheep.head()"
   ]
  },
  {
   "cell_type": "code",
   "execution_count": null,
   "metadata": {},
   "outputs": [],
   "source": [
    "binary_sheep = smf.glm('survival ~ weight', family = sm.families.Binomial(), data=Sheep).fit()\n",
    "print(binary_sheep.summary())"
   ]
  },
  {
   "cell_type": "markdown",
   "metadata": {},
   "source": [
    "**Straight Line fit**\n",
    "* Linear Regression  \n",
    "$Y = b_{0} + b_{1}x_{1}$  \n",
    "$Y =  - 2.03 + 0.18({weight})$  "
   ]
  },
  {
   "cell_type": "markdown",
   "metadata": {},
   "source": [
    "(b)  For what weight values do the sheep have more than a 50% chance of survival?"
   ]
  },
  {
   "cell_type": "markdown",
   "metadata": {},
   "source": [
    "`Your answer goes here`"
   ]
  },
  {
   "cell_type": "code",
   "execution_count": null,
   "metadata": {},
   "outputs": [],
   "source": [
    "round((.50+2.03)/0.18,2)"
   ]
  },
  {
   "cell_type": "markdown",
   "metadata": {},
   "source": [
    "## Problem 7.9."
   ]
  },
  {
   "cell_type": "markdown",
   "metadata": {},
   "source": [
    "The `SoreThroat` data file at the book’s website contains data from from a study$^{23}$ about *Y* = whether a patient having surgery had a sore throat on waking (1 = yes, 0 = no) as a function of *D* = duration of the surgery (in minutes) and *T* = type of device used to secure the airway (1 = tracheal tube, 0 = laryngeal mask airway)."
   ]
  },
  {
   "cell_type": "markdown",
   "metadata": {},
   "source": [
    "(a) Fit a GLM using both explanatory variables as main effects. Interpret effects."
   ]
  },
  {
   "cell_type": "markdown",
   "metadata": {},
   "source": [
    "`Your answer goes here`"
   ]
  },
  {
   "cell_type": "code",
   "execution_count": null,
   "metadata": {},
   "outputs": [],
   "source": [
    "# Read in the SoreThroat Data file\n",
    "\n",
    "SoreThroat = pd.read_csv('https://stat4ds.rwth-aachen.de/data/SoreThroat.dat', sep='\\s+')\n",
    "#SoreThroat = Sheep.drop([\"sheep\"], axis=1)\n",
    "SoreThroat.head()"
   ]
  },
  {
   "cell_type": "code",
   "execution_count": null,
   "metadata": {},
   "outputs": [],
   "source": [
    "# First of all we verify in Python that a quasi-complete separation is present. \n",
    "SoreThroat_fit = smf.glm('Y ~ D + T', family = sm.families.Binomial(), data=SoreThroat).fit()\n",
    "print(SoreThroat_fit.summary())"
   ]
  },
  {
   "cell_type": "code",
   "execution_count": null,
   "metadata": {},
   "outputs": [],
   "source": [
    "D has a positive correlation "
   ]
  },
  {
   "cell_type": "code",
   "execution_count": null,
   "metadata": {},
   "outputs": [],
   "source": [
    "When we compare can compare the magnitudes of D2 and T2, their estimated effects their true ML estimate for NV is infinite "
   ]
  },
  {
   "cell_type": "markdown",
   "metadata": {},
   "source": [
    "(b) Fit a GLM permitting interaction between the explanatory variables. Interpret the effect of *D* at each category of *T*."
   ]
  },
  {
   "cell_type": "markdown",
   "metadata": {},
   "source": [
    "`Your answer goes here`"
   ]
  },
  {
   "cell_type": "code",
   "execution_count": null,
   "metadata": {},
   "outputs": [],
   "source": [
    "#Next, before fitting the logistic regresion model, we standardize first the quantitative explanatory  variables (D -> D2 and T ->T2), \n",
    "#For this, we using the preprocessing object of the sklearn library:\n",
    "\n",
    "pd.crosstab(SoreThroat.D, SoreThroat.Y)\n",
    "SoreThroat['D2'] = preprocessing.scale(SoreThroat.D) # standardize D \n",
    "SoreThroat['T2'] = SoreThroat['T'] - 0.5 # Centers T around 0\n",
    "\n",
    "fit_interact = smf.glm('Y ~ D2:T2',\n",
    "                  family = sm.families.Binomial(), data = SoreThroat).fit()\n",
    "print(fit_interact.summary()) "
   ]
  },
  {
   "cell_type": "markdown",
   "metadata": {},
   "source": [
    "&nbsp;\n",
    "&nbsp;\n",
    "&nbsp;\n",
    "&nbsp;\n",
    "&nbsp;\n",
    "&nbsp;\n",
    "&nbsp;\n",
    "&nbsp;\n",
    "\n",
    "\n",
    "----------------\n",
    "$^{23}$ Described in “Binary Data” by D. Collett, *Encyclopedia of Biostatistics*, 2nd ed. (Wiley, 2005), pp. 439–446.\n",
    "\n",
    "$^{29}$ Some lack of fit the last few days reflects the impact of increasing “social distancing.”"
   ]
  }
 ],
 "metadata": {
  "environment": {
   "kernel": "python3",
   "name": "pytorch-gpu.1-12.m102",
   "type": "gcloud",
   "uri": "gcr.io/deeplearning-platform-release/pytorch-gpu.1-12:m102"
  },
  "kernelspec": {
   "display_name": "Python 3 (ipykernel)",
   "language": "python",
   "name": "python3"
  },
  "language_info": {
   "codemirror_mode": {
    "name": "ipython",
    "version": 3
   },
   "file_extension": ".py",
   "mimetype": "text/x-python",
   "name": "python",
   "nbconvert_exporter": "python",
   "pygments_lexer": "ipython3",
   "version": "3.7.12"
  },
  "vscode": {
   "interpreter": {
    "hash": "b61bb2d7a674932f79ec86662a4165aa288473e6e47a51dc8e3ab9a9cd94608c"
   }
  }
 },
 "nbformat": 4,
 "nbformat_minor": 4
}
